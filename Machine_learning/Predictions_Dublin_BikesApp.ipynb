{
 "cells": [
  {
   "cell_type": "markdown",
   "id": "ff67c350",
   "metadata": {},
   "source": [
    "# Machine learning for predicitng Bike availability and Bike stand availabilty"
   ]
  },
  {
   "cell_type": "markdown",
   "id": "3a1c2a3e",
   "metadata": {},
   "source": [
    "##### Linear Regression Model for predicting Bike Availability: \n"
   ]
  },
  {
   "cell_type": "markdown",
   "id": "01fb6eea",
   "metadata": {},
   "source": [
    "- Here we will first be implementing a linear regression model in order to predict the number of bikes available and the number of bike stands available at a give bike stand. \n",
    "- Linear regression is a statistical method for modeling relationships between a dependent variable with a given set of independent variables.\n",
    "- In our model the dependent variable will be number of bikes/bike stands and the independent variables will be time of day, day of the week, area, and weather.  "
   ]
  },
  {
   "cell_type": "code",
   "execution_count": 1,
   "id": "9387c631",
   "metadata": {},
   "outputs": [],
   "source": [
    "\n",
    "import numpy as np\n",
    "import matplotlib.pyplot as plt\n",
    "import pandas as pd\n",
    "from sqlalchemy import create_engine\n",
    "\n",
    "import pickle\n",
    "\n",
    "from sklearn.linear_model import LinearRegression\n",
    "from sklearn import linear_model\n",
    "from sklearn.model_selection import train_test_split\n",
    "from sklearn.metrics import r2_score\n",
    "from sklearn.metrics import mean_squared_error\n",
    "from sklearn.metrics import mean_absolute_error\n",
    "\n",
    "\n",
    "from sklearn.ensemble import RandomForestRegressor\n",
    "\n",
    "\n",
    "\n"
   ]
  },
  {
   "cell_type": "markdown",
   "id": "72455356",
   "metadata": {},
   "source": [
    "### Connect to database:"
   ]
  },
  {
   "cell_type": "code",
   "execution_count": 2,
   "id": "8d278dfc",
   "metadata": {},
   "outputs": [],
   "source": [
    "URL = \"dublin-bikesdb.cmd8vuwgew1e.us-east-1.rds.amazonaws.com\"\n",
    "PORT = \"3306\"\n",
    "DB = \"dbikes\"\n",
    "USER = \"admin\"\n",
    "PASSWORD = \"Dbikes123\"\n"
   ]
  },
  {
   "cell_type": "markdown",
   "id": "ebabb331",
   "metadata": {},
   "source": [
    "### Weather Data "
   ]
  },
  {
   "cell_type": "code",
   "execution_count": 3,
   "id": "302017fc",
   "metadata": {},
   "outputs": [
    {
     "name": "stdout",
     "output_type": "stream",
     "text": [
      "2022-04-14 09:11:06,287 INFO sqlalchemy.engine.Engine SHOW VARIABLES LIKE 'sql_mode'\n",
      "2022-04-14 09:11:06,293 INFO sqlalchemy.engine.Engine [raw sql] ()\n",
      "2022-04-14 09:11:06,389 INFO sqlalchemy.engine.Engine SHOW VARIABLES LIKE 'lower_case_table_names'\n",
      "2022-04-14 09:11:06,392 INFO sqlalchemy.engine.Engine [generated in 0.00221s] ()\n",
      "2022-04-14 09:11:06,578 INFO sqlalchemy.engine.Engine SELECT DATABASE()\n",
      "2022-04-14 09:11:06,581 INFO sqlalchemy.engine.Engine [raw sql] ()\n",
      "2022-04-14 09:11:06,855 INFO sqlalchemy.engine.Engine \n",
      "    SELECT weather.id, weather.description1, weather.temperature, weather.humidity, weather.windspeed, weather.sunset, weather.TIME FROM weather;\n",
      "    \n",
      "2022-04-14 09:11:06,857 INFO sqlalchemy.engine.Engine [raw sql] ()\n"
     ]
    }
   ],
   "source": [
    "def weather():\n",
    "    engine = create_engine(\"mysql+mysqldb://{}:{}@{}:{}/{}\".format(USER, PASSWORD, URL, PORT, DB), echo=True)\n",
    "    sql_query_weather= \"\"\"\n",
    "    SELECT weather.id, weather.description1, weather.temperature, weather.humidity, weather.windspeed, weather.sunset, weather.TIME FROM weather;\n",
    "    \"\"\"\n",
    "    df_weather = pd.read_sql_query(sql_query_weather, engine)\n",
    "\n",
    "    return df_weather\n",
    "\n",
    "\n",
    "df_weather = weather()"
   ]
  },
  {
   "cell_type": "code",
   "execution_count": 4,
   "id": "f0ffeae3",
   "metadata": {},
   "outputs": [
    {
     "data": {
      "text/html": [
       "<div>\n",
       "<style scoped>\n",
       "    .dataframe tbody tr th:only-of-type {\n",
       "        vertical-align: middle;\n",
       "    }\n",
       "\n",
       "    .dataframe tbody tr th {\n",
       "        vertical-align: top;\n",
       "    }\n",
       "\n",
       "    .dataframe thead th {\n",
       "        text-align: right;\n",
       "    }\n",
       "</style>\n",
       "<table border=\"1\" class=\"dataframe\">\n",
       "  <thead>\n",
       "    <tr style=\"text-align: right;\">\n",
       "      <th></th>\n",
       "      <th>id</th>\n",
       "      <th>description1</th>\n",
       "      <th>temperature</th>\n",
       "      <th>humidity</th>\n",
       "      <th>windspeed</th>\n",
       "      <th>sunset</th>\n",
       "      <th>TIME</th>\n",
       "    </tr>\n",
       "  </thead>\n",
       "  <tbody>\n",
       "    <tr>\n",
       "      <th>0</th>\n",
       "      <td>803</td>\n",
       "      <td>broken clouds</td>\n",
       "      <td>284.17</td>\n",
       "      <td>84</td>\n",
       "      <td>6.69</td>\n",
       "      <td>2022-04-11 19:16:53</td>\n",
       "      <td>2022-04-11 21:14:23</td>\n",
       "    </tr>\n",
       "    <tr>\n",
       "      <th>1</th>\n",
       "      <td>803</td>\n",
       "      <td>broken clouds</td>\n",
       "      <td>284.12</td>\n",
       "      <td>84</td>\n",
       "      <td>4.12</td>\n",
       "      <td>2022-04-11 19:16:53</td>\n",
       "      <td>2022-04-11 21:19:23</td>\n",
       "    </tr>\n",
       "    <tr>\n",
       "      <th>2</th>\n",
       "      <td>803</td>\n",
       "      <td>broken clouds</td>\n",
       "      <td>284.12</td>\n",
       "      <td>84</td>\n",
       "      <td>4.12</td>\n",
       "      <td>2022-04-11 19:16:53</td>\n",
       "      <td>2022-04-11 21:24:23</td>\n",
       "    </tr>\n",
       "    <tr>\n",
       "      <th>3</th>\n",
       "      <td>803</td>\n",
       "      <td>broken clouds</td>\n",
       "      <td>284.12</td>\n",
       "      <td>84</td>\n",
       "      <td>4.12</td>\n",
       "      <td>2022-04-11 19:16:53</td>\n",
       "      <td>2022-04-11 21:29:23</td>\n",
       "    </tr>\n",
       "    <tr>\n",
       "      <th>4</th>\n",
       "      <td>803</td>\n",
       "      <td>broken clouds</td>\n",
       "      <td>284.02</td>\n",
       "      <td>84</td>\n",
       "      <td>4.12</td>\n",
       "      <td>2022-04-11 19:16:54</td>\n",
       "      <td>2022-04-11 21:34:23</td>\n",
       "    </tr>\n",
       "    <tr>\n",
       "      <th>...</th>\n",
       "      <td>...</td>\n",
       "      <td>...</td>\n",
       "      <td>...</td>\n",
       "      <td>...</td>\n",
       "      <td>...</td>\n",
       "      <td>...</td>\n",
       "      <td>...</td>\n",
       "    </tr>\n",
       "    <tr>\n",
       "      <th>702</th>\n",
       "      <td>803</td>\n",
       "      <td>broken clouds</td>\n",
       "      <td>282.82</td>\n",
       "      <td>90</td>\n",
       "      <td>2.06</td>\n",
       "      <td>2022-04-14 19:22:20</td>\n",
       "      <td>2022-04-14 07:47:05</td>\n",
       "    </tr>\n",
       "    <tr>\n",
       "      <th>703</th>\n",
       "      <td>803</td>\n",
       "      <td>broken clouds</td>\n",
       "      <td>282.91</td>\n",
       "      <td>90</td>\n",
       "      <td>2.06</td>\n",
       "      <td>2022-04-14 19:22:20</td>\n",
       "      <td>2022-04-14 07:52:05</td>\n",
       "    </tr>\n",
       "    <tr>\n",
       "      <th>704</th>\n",
       "      <td>803</td>\n",
       "      <td>broken clouds</td>\n",
       "      <td>282.89</td>\n",
       "      <td>90</td>\n",
       "      <td>2.06</td>\n",
       "      <td>2022-04-14 19:22:19</td>\n",
       "      <td>2022-04-14 07:57:05</td>\n",
       "    </tr>\n",
       "    <tr>\n",
       "      <th>705</th>\n",
       "      <td>803</td>\n",
       "      <td>broken clouds</td>\n",
       "      <td>283.02</td>\n",
       "      <td>89</td>\n",
       "      <td>2.06</td>\n",
       "      <td>2022-04-14 19:22:19</td>\n",
       "      <td>2022-04-14 08:02:05</td>\n",
       "    </tr>\n",
       "    <tr>\n",
       "      <th>706</th>\n",
       "      <td>803</td>\n",
       "      <td>broken clouds</td>\n",
       "      <td>283.02</td>\n",
       "      <td>89</td>\n",
       "      <td>2.06</td>\n",
       "      <td>2022-04-14 19:22:19</td>\n",
       "      <td>2022-04-14 08:07:06</td>\n",
       "    </tr>\n",
       "  </tbody>\n",
       "</table>\n",
       "<p>707 rows × 7 columns</p>\n",
       "</div>"
      ],
      "text/plain": [
       "      id   description1  temperature  humidity  windspeed              sunset  \\\n",
       "0    803  broken clouds       284.17        84       6.69 2022-04-11 19:16:53   \n",
       "1    803  broken clouds       284.12        84       4.12 2022-04-11 19:16:53   \n",
       "2    803  broken clouds       284.12        84       4.12 2022-04-11 19:16:53   \n",
       "3    803  broken clouds       284.12        84       4.12 2022-04-11 19:16:53   \n",
       "4    803  broken clouds       284.02        84       4.12 2022-04-11 19:16:54   \n",
       "..   ...            ...          ...       ...        ...                 ...   \n",
       "702  803  broken clouds       282.82        90       2.06 2022-04-14 19:22:20   \n",
       "703  803  broken clouds       282.91        90       2.06 2022-04-14 19:22:20   \n",
       "704  803  broken clouds       282.89        90       2.06 2022-04-14 19:22:19   \n",
       "705  803  broken clouds       283.02        89       2.06 2022-04-14 19:22:19   \n",
       "706  803  broken clouds       283.02        89       2.06 2022-04-14 19:22:19   \n",
       "\n",
       "                   TIME  \n",
       "0   2022-04-11 21:14:23  \n",
       "1   2022-04-11 21:19:23  \n",
       "2   2022-04-11 21:24:23  \n",
       "3   2022-04-11 21:29:23  \n",
       "4   2022-04-11 21:34:23  \n",
       "..                  ...  \n",
       "702 2022-04-14 07:47:05  \n",
       "703 2022-04-14 07:52:05  \n",
       "704 2022-04-14 07:57:05  \n",
       "705 2022-04-14 08:02:05  \n",
       "706 2022-04-14 08:07:06  \n",
       "\n",
       "[707 rows x 7 columns]"
      ]
     },
     "execution_count": 4,
     "metadata": {},
     "output_type": "execute_result"
    }
   ],
   "source": [
    "df_weather"
   ]
  },
  {
   "cell_type": "code",
   "execution_count": 5,
   "id": "f7b3bd62",
   "metadata": {},
   "outputs": [
    {
     "data": {
      "text/html": [
       "<div>\n",
       "<style scoped>\n",
       "    .dataframe tbody tr th:only-of-type {\n",
       "        vertical-align: middle;\n",
       "    }\n",
       "\n",
       "    .dataframe tbody tr th {\n",
       "        vertical-align: top;\n",
       "    }\n",
       "\n",
       "    .dataframe thead th {\n",
       "        text-align: right;\n",
       "    }\n",
       "</style>\n",
       "<table border=\"1\" class=\"dataframe\">\n",
       "  <thead>\n",
       "    <tr style=\"text-align: right;\">\n",
       "      <th></th>\n",
       "      <th>id</th>\n",
       "      <th>description1</th>\n",
       "      <th>temperature</th>\n",
       "      <th>humidity</th>\n",
       "      <th>windspeed</th>\n",
       "      <th>sunset</th>\n",
       "      <th>TIME</th>\n",
       "      <th>just_date</th>\n",
       "    </tr>\n",
       "  </thead>\n",
       "  <tbody>\n",
       "    <tr>\n",
       "      <th>0</th>\n",
       "      <td>803</td>\n",
       "      <td>broken clouds</td>\n",
       "      <td>284.17</td>\n",
       "      <td>84</td>\n",
       "      <td>6.69</td>\n",
       "      <td>2022-04-11 19:16:53</td>\n",
       "      <td>2022-04-11 21:14:23</td>\n",
       "      <td>2022-04-11</td>\n",
       "    </tr>\n",
       "    <tr>\n",
       "      <th>1</th>\n",
       "      <td>803</td>\n",
       "      <td>broken clouds</td>\n",
       "      <td>284.12</td>\n",
       "      <td>84</td>\n",
       "      <td>4.12</td>\n",
       "      <td>2022-04-11 19:16:53</td>\n",
       "      <td>2022-04-11 21:19:23</td>\n",
       "      <td>2022-04-11</td>\n",
       "    </tr>\n",
       "    <tr>\n",
       "      <th>2</th>\n",
       "      <td>803</td>\n",
       "      <td>broken clouds</td>\n",
       "      <td>284.12</td>\n",
       "      <td>84</td>\n",
       "      <td>4.12</td>\n",
       "      <td>2022-04-11 19:16:53</td>\n",
       "      <td>2022-04-11 21:24:23</td>\n",
       "      <td>2022-04-11</td>\n",
       "    </tr>\n",
       "    <tr>\n",
       "      <th>3</th>\n",
       "      <td>803</td>\n",
       "      <td>broken clouds</td>\n",
       "      <td>284.12</td>\n",
       "      <td>84</td>\n",
       "      <td>4.12</td>\n",
       "      <td>2022-04-11 19:16:53</td>\n",
       "      <td>2022-04-11 21:29:23</td>\n",
       "      <td>2022-04-11</td>\n",
       "    </tr>\n",
       "    <tr>\n",
       "      <th>4</th>\n",
       "      <td>803</td>\n",
       "      <td>broken clouds</td>\n",
       "      <td>284.02</td>\n",
       "      <td>84</td>\n",
       "      <td>4.12</td>\n",
       "      <td>2022-04-11 19:16:54</td>\n",
       "      <td>2022-04-11 21:34:23</td>\n",
       "      <td>2022-04-11</td>\n",
       "    </tr>\n",
       "    <tr>\n",
       "      <th>...</th>\n",
       "      <td>...</td>\n",
       "      <td>...</td>\n",
       "      <td>...</td>\n",
       "      <td>...</td>\n",
       "      <td>...</td>\n",
       "      <td>...</td>\n",
       "      <td>...</td>\n",
       "      <td>...</td>\n",
       "    </tr>\n",
       "    <tr>\n",
       "      <th>702</th>\n",
       "      <td>803</td>\n",
       "      <td>broken clouds</td>\n",
       "      <td>282.82</td>\n",
       "      <td>90</td>\n",
       "      <td>2.06</td>\n",
       "      <td>2022-04-14 19:22:20</td>\n",
       "      <td>2022-04-14 07:47:05</td>\n",
       "      <td>2022-04-14</td>\n",
       "    </tr>\n",
       "    <tr>\n",
       "      <th>703</th>\n",
       "      <td>803</td>\n",
       "      <td>broken clouds</td>\n",
       "      <td>282.91</td>\n",
       "      <td>90</td>\n",
       "      <td>2.06</td>\n",
       "      <td>2022-04-14 19:22:20</td>\n",
       "      <td>2022-04-14 07:52:05</td>\n",
       "      <td>2022-04-14</td>\n",
       "    </tr>\n",
       "    <tr>\n",
       "      <th>704</th>\n",
       "      <td>803</td>\n",
       "      <td>broken clouds</td>\n",
       "      <td>282.89</td>\n",
       "      <td>90</td>\n",
       "      <td>2.06</td>\n",
       "      <td>2022-04-14 19:22:19</td>\n",
       "      <td>2022-04-14 07:57:05</td>\n",
       "      <td>2022-04-14</td>\n",
       "    </tr>\n",
       "    <tr>\n",
       "      <th>705</th>\n",
       "      <td>803</td>\n",
       "      <td>broken clouds</td>\n",
       "      <td>283.02</td>\n",
       "      <td>89</td>\n",
       "      <td>2.06</td>\n",
       "      <td>2022-04-14 19:22:19</td>\n",
       "      <td>2022-04-14 08:02:05</td>\n",
       "      <td>2022-04-14</td>\n",
       "    </tr>\n",
       "    <tr>\n",
       "      <th>706</th>\n",
       "      <td>803</td>\n",
       "      <td>broken clouds</td>\n",
       "      <td>283.02</td>\n",
       "      <td>89</td>\n",
       "      <td>2.06</td>\n",
       "      <td>2022-04-14 19:22:19</td>\n",
       "      <td>2022-04-14 08:07:06</td>\n",
       "      <td>2022-04-14</td>\n",
       "    </tr>\n",
       "  </tbody>\n",
       "</table>\n",
       "<p>707 rows × 8 columns</p>\n",
       "</div>"
      ],
      "text/plain": [
       "      id   description1  temperature  humidity  windspeed              sunset  \\\n",
       "0    803  broken clouds       284.17        84       6.69 2022-04-11 19:16:53   \n",
       "1    803  broken clouds       284.12        84       4.12 2022-04-11 19:16:53   \n",
       "2    803  broken clouds       284.12        84       4.12 2022-04-11 19:16:53   \n",
       "3    803  broken clouds       284.12        84       4.12 2022-04-11 19:16:53   \n",
       "4    803  broken clouds       284.02        84       4.12 2022-04-11 19:16:54   \n",
       "..   ...            ...          ...       ...        ...                 ...   \n",
       "702  803  broken clouds       282.82        90       2.06 2022-04-14 19:22:20   \n",
       "703  803  broken clouds       282.91        90       2.06 2022-04-14 19:22:20   \n",
       "704  803  broken clouds       282.89        90       2.06 2022-04-14 19:22:19   \n",
       "705  803  broken clouds       283.02        89       2.06 2022-04-14 19:22:19   \n",
       "706  803  broken clouds       283.02        89       2.06 2022-04-14 19:22:19   \n",
       "\n",
       "                   TIME   just_date  \n",
       "0   2022-04-11 21:14:23  2022-04-11  \n",
       "1   2022-04-11 21:19:23  2022-04-11  \n",
       "2   2022-04-11 21:24:23  2022-04-11  \n",
       "3   2022-04-11 21:29:23  2022-04-11  \n",
       "4   2022-04-11 21:34:23  2022-04-11  \n",
       "..                  ...         ...  \n",
       "702 2022-04-14 07:47:05  2022-04-14  \n",
       "703 2022-04-14 07:52:05  2022-04-14  \n",
       "704 2022-04-14 07:57:05  2022-04-14  \n",
       "705 2022-04-14 08:02:05  2022-04-14  \n",
       "706 2022-04-14 08:07:06  2022-04-14  \n",
       "\n",
       "[707 rows x 8 columns]"
      ]
     },
     "execution_count": 5,
     "metadata": {},
     "output_type": "execute_result"
    }
   ],
   "source": [
    "df_weather['just_date'] = df_weather['sunset'].dt.date\n",
    "df_weather"
   ]
  },
  {
   "cell_type": "code",
   "execution_count": 6,
   "id": "75708f42",
   "metadata": {},
   "outputs": [
    {
     "data": {
      "text/plain": [
       "id                       int64\n",
       "description1            object\n",
       "temperature            float64\n",
       "humidity                 int64\n",
       "windspeed              float64\n",
       "sunset          datetime64[ns]\n",
       "TIME            datetime64[ns]\n",
       "just_date               object\n",
       "dtype: object"
      ]
     },
     "execution_count": 6,
     "metadata": {},
     "output_type": "execute_result"
    }
   ],
   "source": [
    "df_weather.dtypes\n"
   ]
  },
  {
   "cell_type": "markdown",
   "id": "b2fc5d2a",
   "metadata": {},
   "source": [
    "### Availablity Data"
   ]
  },
  {
   "cell_type": "code",
   "execution_count": 7,
   "id": "b4795c59",
   "metadata": {},
   "outputs": [],
   "source": [
    "def availability():\n",
    "    engine = create_engine(\"mysql+mysqldb://{}:{}@{}:{}/{}\".format(USER, PASSWORD, URL, PORT, DB), echo=True)\n",
    "    df_avail = pd.read_sql_table(\"availability\", engine)\n",
    "    return df_avail"
   ]
  },
  {
   "cell_type": "code",
   "execution_count": 8,
   "id": "3e25d947",
   "metadata": {},
   "outputs": [
    {
     "name": "stdout",
     "output_type": "stream",
     "text": [
      "2022-04-14 09:11:21,125 INFO sqlalchemy.engine.Engine SHOW VARIABLES LIKE 'sql_mode'\n",
      "2022-04-14 09:11:21,127 INFO sqlalchemy.engine.Engine [raw sql] ()\n",
      "2022-04-14 09:11:21,220 INFO sqlalchemy.engine.Engine SHOW VARIABLES LIKE 'lower_case_table_names'\n",
      "2022-04-14 09:11:21,221 INFO sqlalchemy.engine.Engine [generated in 0.00201s] ()\n",
      "2022-04-14 09:11:21,402 INFO sqlalchemy.engine.Engine SELECT DATABASE()\n",
      "2022-04-14 09:11:21,404 INFO sqlalchemy.engine.Engine [raw sql] ()\n",
      "2022-04-14 09:11:21,774 INFO sqlalchemy.engine.Engine SHOW FULL TABLES FROM `dbikes`\n",
      "2022-04-14 09:11:21,776 INFO sqlalchemy.engine.Engine [raw sql] ()\n",
      "2022-04-14 09:11:21,869 INFO sqlalchemy.engine.Engine SHOW FULL TABLES FROM `dbikes`\n",
      "2022-04-14 09:11:21,871 INFO sqlalchemy.engine.Engine [raw sql] ()\n",
      "2022-04-14 09:11:21,995 INFO sqlalchemy.engine.Engine SHOW CREATE TABLE `availability`\n",
      "2022-04-14 09:11:21,996 INFO sqlalchemy.engine.Engine [raw sql] ()\n",
      "2022-04-14 09:11:22,301 INFO sqlalchemy.engine.Engine SELECT availability.number, availability.available_bike_stands, availability.available_bikes, availability.last_update \n",
      "FROM availability\n",
      "2022-04-14 09:11:22,303 INFO sqlalchemy.engine.Engine [generated in 0.00197s] ()\n"
     ]
    }
   ],
   "source": [
    "df_avail = availability()"
   ]
  },
  {
   "cell_type": "code",
   "execution_count": 9,
   "id": "fdd945fc",
   "metadata": {
    "scrolled": true
   },
   "outputs": [
    {
     "data": {
      "text/html": [
       "<div>\n",
       "<style scoped>\n",
       "    .dataframe tbody tr th:only-of-type {\n",
       "        vertical-align: middle;\n",
       "    }\n",
       "\n",
       "    .dataframe tbody tr th {\n",
       "        vertical-align: top;\n",
       "    }\n",
       "\n",
       "    .dataframe thead th {\n",
       "        text-align: right;\n",
       "    }\n",
       "</style>\n",
       "<table border=\"1\" class=\"dataframe\">\n",
       "  <thead>\n",
       "    <tr style=\"text-align: right;\">\n",
       "      <th></th>\n",
       "      <th>number</th>\n",
       "      <th>available_bike_stands</th>\n",
       "      <th>available_bikes</th>\n",
       "      <th>last_update</th>\n",
       "    </tr>\n",
       "  </thead>\n",
       "  <tbody>\n",
       "    <tr>\n",
       "      <th>0</th>\n",
       "      <td>42</td>\n",
       "      <td>16</td>\n",
       "      <td>14</td>\n",
       "      <td>2022-02-23 19:50:20</td>\n",
       "    </tr>\n",
       "    <tr>\n",
       "      <th>1</th>\n",
       "      <td>30</td>\n",
       "      <td>0</td>\n",
       "      <td>20</td>\n",
       "      <td>2022-02-23 19:41:25</td>\n",
       "    </tr>\n",
       "    <tr>\n",
       "      <th>2</th>\n",
       "      <td>54</td>\n",
       "      <td>11</td>\n",
       "      <td>22</td>\n",
       "      <td>2022-02-23 19:48:38</td>\n",
       "    </tr>\n",
       "    <tr>\n",
       "      <th>3</th>\n",
       "      <td>108</td>\n",
       "      <td>16</td>\n",
       "      <td>19</td>\n",
       "      <td>2022-02-23 19:51:13</td>\n",
       "    </tr>\n",
       "    <tr>\n",
       "      <th>4</th>\n",
       "      <td>56</td>\n",
       "      <td>2</td>\n",
       "      <td>38</td>\n",
       "      <td>2022-02-23 19:45:20</td>\n",
       "    </tr>\n",
       "    <tr>\n",
       "      <th>...</th>\n",
       "      <td>...</td>\n",
       "      <td>...</td>\n",
       "      <td>...</td>\n",
       "      <td>...</td>\n",
       "    </tr>\n",
       "    <tr>\n",
       "      <th>1316520</th>\n",
       "      <td>39</td>\n",
       "      <td>8</td>\n",
       "      <td>12</td>\n",
       "      <td>2022-04-14 08:08:31</td>\n",
       "    </tr>\n",
       "    <tr>\n",
       "      <th>1316521</th>\n",
       "      <td>83</td>\n",
       "      <td>26</td>\n",
       "      <td>14</td>\n",
       "      <td>2022-04-14 08:00:31</td>\n",
       "    </tr>\n",
       "    <tr>\n",
       "      <th>1316522</th>\n",
       "      <td>92</td>\n",
       "      <td>24</td>\n",
       "      <td>15</td>\n",
       "      <td>2022-04-14 08:03:19</td>\n",
       "    </tr>\n",
       "    <tr>\n",
       "      <th>1316523</th>\n",
       "      <td>21</td>\n",
       "      <td>21</td>\n",
       "      <td>9</td>\n",
       "      <td>2022-04-14 08:02:57</td>\n",
       "    </tr>\n",
       "    <tr>\n",
       "      <th>1316524</th>\n",
       "      <td>88</td>\n",
       "      <td>16</td>\n",
       "      <td>14</td>\n",
       "      <td>2022-04-14 08:07:01</td>\n",
       "    </tr>\n",
       "  </tbody>\n",
       "</table>\n",
       "<p>1316525 rows × 4 columns</p>\n",
       "</div>"
      ],
      "text/plain": [
       "         number  available_bike_stands  available_bikes         last_update\n",
       "0            42                     16               14 2022-02-23 19:50:20\n",
       "1            30                      0               20 2022-02-23 19:41:25\n",
       "2            54                     11               22 2022-02-23 19:48:38\n",
       "3           108                     16               19 2022-02-23 19:51:13\n",
       "4            56                      2               38 2022-02-23 19:45:20\n",
       "...         ...                    ...              ...                 ...\n",
       "1316520      39                      8               12 2022-04-14 08:08:31\n",
       "1316521      83                     26               14 2022-04-14 08:00:31\n",
       "1316522      92                     24               15 2022-04-14 08:03:19\n",
       "1316523      21                     21                9 2022-04-14 08:02:57\n",
       "1316524      88                     16               14 2022-04-14 08:07:01\n",
       "\n",
       "[1316525 rows x 4 columns]"
      ]
     },
     "execution_count": 9,
     "metadata": {},
     "output_type": "execute_result"
    }
   ],
   "source": [
    "df_avail"
   ]
  },
  {
   "cell_type": "code",
   "execution_count": 10,
   "id": "a99cd73d",
   "metadata": {},
   "outputs": [],
   "source": [
    "df_avail['day'] = df_avail['last_update'].dt.day_of_week\n",
    "df_avail['hour'] = df_avail['last_update'].dt.hour\n",
    "df_avail['just_date'] = df_avail['last_update'].dt.date\n",
    "\n",
    "\n"
   ]
  },
  {
   "cell_type": "code",
   "execution_count": 11,
   "id": "8f015a42",
   "metadata": {},
   "outputs": [
    {
     "data": {
      "text/html": [
       "<div>\n",
       "<style scoped>\n",
       "    .dataframe tbody tr th:only-of-type {\n",
       "        vertical-align: middle;\n",
       "    }\n",
       "\n",
       "    .dataframe tbody tr th {\n",
       "        vertical-align: top;\n",
       "    }\n",
       "\n",
       "    .dataframe thead th {\n",
       "        text-align: right;\n",
       "    }\n",
       "</style>\n",
       "<table border=\"1\" class=\"dataframe\">\n",
       "  <thead>\n",
       "    <tr style=\"text-align: right;\">\n",
       "      <th></th>\n",
       "      <th>number</th>\n",
       "      <th>available_bike_stands</th>\n",
       "      <th>available_bikes</th>\n",
       "      <th>last_update</th>\n",
       "      <th>day</th>\n",
       "      <th>hour</th>\n",
       "      <th>just_date</th>\n",
       "    </tr>\n",
       "  </thead>\n",
       "  <tbody>\n",
       "    <tr>\n",
       "      <th>0</th>\n",
       "      <td>42</td>\n",
       "      <td>16</td>\n",
       "      <td>14</td>\n",
       "      <td>2022-02-23 19:50:20</td>\n",
       "      <td>2</td>\n",
       "      <td>19</td>\n",
       "      <td>2022-02-23</td>\n",
       "    </tr>\n",
       "    <tr>\n",
       "      <th>1</th>\n",
       "      <td>30</td>\n",
       "      <td>0</td>\n",
       "      <td>20</td>\n",
       "      <td>2022-02-23 19:41:25</td>\n",
       "      <td>2</td>\n",
       "      <td>19</td>\n",
       "      <td>2022-02-23</td>\n",
       "    </tr>\n",
       "    <tr>\n",
       "      <th>2</th>\n",
       "      <td>54</td>\n",
       "      <td>11</td>\n",
       "      <td>22</td>\n",
       "      <td>2022-02-23 19:48:38</td>\n",
       "      <td>2</td>\n",
       "      <td>19</td>\n",
       "      <td>2022-02-23</td>\n",
       "    </tr>\n",
       "    <tr>\n",
       "      <th>3</th>\n",
       "      <td>108</td>\n",
       "      <td>16</td>\n",
       "      <td>19</td>\n",
       "      <td>2022-02-23 19:51:13</td>\n",
       "      <td>2</td>\n",
       "      <td>19</td>\n",
       "      <td>2022-02-23</td>\n",
       "    </tr>\n",
       "    <tr>\n",
       "      <th>4</th>\n",
       "      <td>56</td>\n",
       "      <td>2</td>\n",
       "      <td>38</td>\n",
       "      <td>2022-02-23 19:45:20</td>\n",
       "      <td>2</td>\n",
       "      <td>19</td>\n",
       "      <td>2022-02-23</td>\n",
       "    </tr>\n",
       "    <tr>\n",
       "      <th>...</th>\n",
       "      <td>...</td>\n",
       "      <td>...</td>\n",
       "      <td>...</td>\n",
       "      <td>...</td>\n",
       "      <td>...</td>\n",
       "      <td>...</td>\n",
       "      <td>...</td>\n",
       "    </tr>\n",
       "    <tr>\n",
       "      <th>1316520</th>\n",
       "      <td>39</td>\n",
       "      <td>8</td>\n",
       "      <td>12</td>\n",
       "      <td>2022-04-14 08:08:31</td>\n",
       "      <td>3</td>\n",
       "      <td>8</td>\n",
       "      <td>2022-04-14</td>\n",
       "    </tr>\n",
       "    <tr>\n",
       "      <th>1316521</th>\n",
       "      <td>83</td>\n",
       "      <td>26</td>\n",
       "      <td>14</td>\n",
       "      <td>2022-04-14 08:00:31</td>\n",
       "      <td>3</td>\n",
       "      <td>8</td>\n",
       "      <td>2022-04-14</td>\n",
       "    </tr>\n",
       "    <tr>\n",
       "      <th>1316522</th>\n",
       "      <td>92</td>\n",
       "      <td>24</td>\n",
       "      <td>15</td>\n",
       "      <td>2022-04-14 08:03:19</td>\n",
       "      <td>3</td>\n",
       "      <td>8</td>\n",
       "      <td>2022-04-14</td>\n",
       "    </tr>\n",
       "    <tr>\n",
       "      <th>1316523</th>\n",
       "      <td>21</td>\n",
       "      <td>21</td>\n",
       "      <td>9</td>\n",
       "      <td>2022-04-14 08:02:57</td>\n",
       "      <td>3</td>\n",
       "      <td>8</td>\n",
       "      <td>2022-04-14</td>\n",
       "    </tr>\n",
       "    <tr>\n",
       "      <th>1316524</th>\n",
       "      <td>88</td>\n",
       "      <td>16</td>\n",
       "      <td>14</td>\n",
       "      <td>2022-04-14 08:07:01</td>\n",
       "      <td>3</td>\n",
       "      <td>8</td>\n",
       "      <td>2022-04-14</td>\n",
       "    </tr>\n",
       "  </tbody>\n",
       "</table>\n",
       "<p>1316525 rows × 7 columns</p>\n",
       "</div>"
      ],
      "text/plain": [
       "         number  available_bike_stands  available_bikes         last_update  \\\n",
       "0            42                     16               14 2022-02-23 19:50:20   \n",
       "1            30                      0               20 2022-02-23 19:41:25   \n",
       "2            54                     11               22 2022-02-23 19:48:38   \n",
       "3           108                     16               19 2022-02-23 19:51:13   \n",
       "4            56                      2               38 2022-02-23 19:45:20   \n",
       "...         ...                    ...              ...                 ...   \n",
       "1316520      39                      8               12 2022-04-14 08:08:31   \n",
       "1316521      83                     26               14 2022-04-14 08:00:31   \n",
       "1316522      92                     24               15 2022-04-14 08:03:19   \n",
       "1316523      21                     21                9 2022-04-14 08:02:57   \n",
       "1316524      88                     16               14 2022-04-14 08:07:01   \n",
       "\n",
       "         day  hour   just_date  \n",
       "0          2    19  2022-02-23  \n",
       "1          2    19  2022-02-23  \n",
       "2          2    19  2022-02-23  \n",
       "3          2    19  2022-02-23  \n",
       "4          2    19  2022-02-23  \n",
       "...      ...   ...         ...  \n",
       "1316520    3     8  2022-04-14  \n",
       "1316521    3     8  2022-04-14  \n",
       "1316522    3     8  2022-04-14  \n",
       "1316523    3     8  2022-04-14  \n",
       "1316524    3     8  2022-04-14  \n",
       "\n",
       "[1316525 rows x 7 columns]"
      ]
     },
     "execution_count": 11,
     "metadata": {},
     "output_type": "execute_result"
    }
   ],
   "source": [
    "df_avail"
   ]
  },
  {
   "cell_type": "code",
   "execution_count": 12,
   "id": "e7b2a757",
   "metadata": {},
   "outputs": [
    {
     "data": {
      "text/html": [
       "<div>\n",
       "<style scoped>\n",
       "    .dataframe tbody tr th:only-of-type {\n",
       "        vertical-align: middle;\n",
       "    }\n",
       "\n",
       "    .dataframe tbody tr th {\n",
       "        vertical-align: top;\n",
       "    }\n",
       "\n",
       "    .dataframe thead th {\n",
       "        text-align: right;\n",
       "    }\n",
       "</style>\n",
       "<table border=\"1\" class=\"dataframe\">\n",
       "  <thead>\n",
       "    <tr style=\"text-align: right;\">\n",
       "      <th></th>\n",
       "      <th>number</th>\n",
       "      <th>available_bike_stands</th>\n",
       "      <th>available_bikes</th>\n",
       "      <th>day</th>\n",
       "      <th>hour</th>\n",
       "    </tr>\n",
       "  </thead>\n",
       "  <tbody>\n",
       "    <tr>\n",
       "      <th>number</th>\n",
       "      <td>1.000000</td>\n",
       "      <td>0.044220</td>\n",
       "      <td>0.246424</td>\n",
       "      <td>-0.024263</td>\n",
       "      <td>0.007145</td>\n",
       "    </tr>\n",
       "    <tr>\n",
       "      <th>available_bike_stands</th>\n",
       "      <td>0.044220</td>\n",
       "      <td>1.000000</td>\n",
       "      <td>-0.681802</td>\n",
       "      <td>0.009805</td>\n",
       "      <td>-0.013674</td>\n",
       "    </tr>\n",
       "    <tr>\n",
       "      <th>available_bikes</th>\n",
       "      <td>0.246424</td>\n",
       "      <td>-0.681802</td>\n",
       "      <td>1.000000</td>\n",
       "      <td>-0.003627</td>\n",
       "      <td>0.010891</td>\n",
       "    </tr>\n",
       "    <tr>\n",
       "      <th>day</th>\n",
       "      <td>-0.024263</td>\n",
       "      <td>0.009805</td>\n",
       "      <td>-0.003627</td>\n",
       "      <td>1.000000</td>\n",
       "      <td>-0.015827</td>\n",
       "    </tr>\n",
       "    <tr>\n",
       "      <th>hour</th>\n",
       "      <td>0.007145</td>\n",
       "      <td>-0.013674</td>\n",
       "      <td>0.010891</td>\n",
       "      <td>-0.015827</td>\n",
       "      <td>1.000000</td>\n",
       "    </tr>\n",
       "  </tbody>\n",
       "</table>\n",
       "</div>"
      ],
      "text/plain": [
       "                         number  available_bike_stands  available_bikes  \\\n",
       "number                 1.000000               0.044220         0.246424   \n",
       "available_bike_stands  0.044220               1.000000        -0.681802   \n",
       "available_bikes        0.246424              -0.681802         1.000000   \n",
       "day                   -0.024263               0.009805        -0.003627   \n",
       "hour                   0.007145              -0.013674         0.010891   \n",
       "\n",
       "                            day      hour  \n",
       "number                -0.024263  0.007145  \n",
       "available_bike_stands  0.009805 -0.013674  \n",
       "available_bikes       -0.003627  0.010891  \n",
       "day                    1.000000 -0.015827  \n",
       "hour                  -0.015827  1.000000  "
      ]
     },
     "execution_count": 12,
     "metadata": {},
     "output_type": "execute_result"
    }
   ],
   "source": [
    "df_avail.corr()"
   ]
  },
  {
   "cell_type": "code",
   "execution_count": 13,
   "id": "9991acd7",
   "metadata": {},
   "outputs": [
    {
     "data": {
      "text/html": [
       "<div>\n",
       "<style scoped>\n",
       "    .dataframe tbody tr th:only-of-type {\n",
       "        vertical-align: middle;\n",
       "    }\n",
       "\n",
       "    .dataframe tbody tr th {\n",
       "        vertical-align: top;\n",
       "    }\n",
       "\n",
       "    .dataframe thead th {\n",
       "        text-align: right;\n",
       "    }\n",
       "</style>\n",
       "<table border=\"1\" class=\"dataframe\">\n",
       "  <thead>\n",
       "    <tr style=\"text-align: right;\">\n",
       "      <th></th>\n",
       "      <th>number</th>\n",
       "      <th>available_bike_stands</th>\n",
       "      <th>available_bikes</th>\n",
       "      <th>hour</th>\n",
       "    </tr>\n",
       "    <tr>\n",
       "      <th>day</th>\n",
       "      <th></th>\n",
       "      <th></th>\n",
       "      <th></th>\n",
       "      <th></th>\n",
       "    </tr>\n",
       "  </thead>\n",
       "  <tbody>\n",
       "    <tr>\n",
       "      <th>0</th>\n",
       "      <td>60.296856</td>\n",
       "      <td>12.602880</td>\n",
       "      <td>19.265501</td>\n",
       "      <td>11.537964</td>\n",
       "    </tr>\n",
       "    <tr>\n",
       "      <th>1</th>\n",
       "      <td>66.725767</td>\n",
       "      <td>12.449826</td>\n",
       "      <td>19.055054</td>\n",
       "      <td>12.053771</td>\n",
       "    </tr>\n",
       "    <tr>\n",
       "      <th>2</th>\n",
       "      <td>60.328563</td>\n",
       "      <td>12.692112</td>\n",
       "      <td>19.039132</td>\n",
       "      <td>11.474300</td>\n",
       "    </tr>\n",
       "    <tr>\n",
       "      <th>3</th>\n",
       "      <td>60.321533</td>\n",
       "      <td>12.599037</td>\n",
       "      <td>18.903449</td>\n",
       "      <td>11.959876</td>\n",
       "    </tr>\n",
       "    <tr>\n",
       "      <th>4</th>\n",
       "      <td>60.330264</td>\n",
       "      <td>12.634216</td>\n",
       "      <td>19.108924</td>\n",
       "      <td>11.501691</td>\n",
       "    </tr>\n",
       "    <tr>\n",
       "      <th>5</th>\n",
       "      <td>60.328145</td>\n",
       "      <td>12.796028</td>\n",
       "      <td>19.066830</td>\n",
       "      <td>11.405015</td>\n",
       "    </tr>\n",
       "    <tr>\n",
       "      <th>6</th>\n",
       "      <td>60.327173</td>\n",
       "      <td>12.814763</td>\n",
       "      <td>19.019129</td>\n",
       "      <td>11.486231</td>\n",
       "    </tr>\n",
       "  </tbody>\n",
       "</table>\n",
       "</div>"
      ],
      "text/plain": [
       "        number  available_bike_stands  available_bikes       hour\n",
       "day                                                              \n",
       "0    60.296856              12.602880        19.265501  11.537964\n",
       "1    66.725767              12.449826        19.055054  12.053771\n",
       "2    60.328563              12.692112        19.039132  11.474300\n",
       "3    60.321533              12.599037        18.903449  11.959876\n",
       "4    60.330264              12.634216        19.108924  11.501691\n",
       "5    60.328145              12.796028        19.066830  11.405015\n",
       "6    60.327173              12.814763        19.019129  11.486231"
      ]
     },
     "execution_count": 13,
     "metadata": {},
     "output_type": "execute_result"
    }
   ],
   "source": [
    "df_avail.groupby(['day']).mean()"
   ]
  },
  {
   "cell_type": "code",
   "execution_count": 14,
   "id": "e218b68c",
   "metadata": {},
   "outputs": [
    {
     "data": {
      "text/plain": [
       "number                            int64\n",
       "available_bike_stands             int64\n",
       "available_bikes                   int64\n",
       "last_update              datetime64[ns]\n",
       "day                               int64\n",
       "hour                              int64\n",
       "just_date                        object\n",
       "dtype: object"
      ]
     },
     "execution_count": 14,
     "metadata": {},
     "output_type": "execute_result"
    }
   ],
   "source": [
    "df_avail.dtypes\n"
   ]
  },
  {
   "cell_type": "code",
   "execution_count": 15,
   "id": "feb645aa",
   "metadata": {},
   "outputs": [],
   "source": [
    "df_avail[\"number\"] = df_avail[\"number\"].astype('category')  \n"
   ]
  },
  {
   "cell_type": "code",
   "execution_count": 16,
   "id": "b9107633",
   "metadata": {},
   "outputs": [
    {
     "data": {
      "text/plain": [
       "(1316525, 7)"
      ]
     },
     "execution_count": 16,
     "metadata": {},
     "output_type": "execute_result"
    }
   ],
   "source": [
    "df_avail.shape"
   ]
  },
  {
   "cell_type": "code",
   "execution_count": 17,
   "id": "6d4c1029",
   "metadata": {},
   "outputs": [
    {
     "data": {
      "text/html": [
       "<div>\n",
       "<style scoped>\n",
       "    .dataframe tbody tr th:only-of-type {\n",
       "        vertical-align: middle;\n",
       "    }\n",
       "\n",
       "    .dataframe tbody tr th {\n",
       "        vertical-align: top;\n",
       "    }\n",
       "\n",
       "    .dataframe thead th {\n",
       "        text-align: right;\n",
       "    }\n",
       "</style>\n",
       "<table border=\"1\" class=\"dataframe\">\n",
       "  <thead>\n",
       "    <tr style=\"text-align: right;\">\n",
       "      <th></th>\n",
       "      <th>count</th>\n",
       "      <th>mean</th>\n",
       "      <th>std</th>\n",
       "      <th>min</th>\n",
       "      <th>25%</th>\n",
       "      <th>50%</th>\n",
       "      <th>75%</th>\n",
       "      <th>max</th>\n",
       "    </tr>\n",
       "  </thead>\n",
       "  <tbody>\n",
       "    <tr>\n",
       "      <th>available_bike_stands</th>\n",
       "      <td>1316525.0</td>\n",
       "      <td>12.656060</td>\n",
       "      <td>9.079112</td>\n",
       "      <td>0.0</td>\n",
       "      <td>5.0</td>\n",
       "      <td>12.0</td>\n",
       "      <td>19.0</td>\n",
       "      <td>40.0</td>\n",
       "    </tr>\n",
       "    <tr>\n",
       "      <th>available_bikes</th>\n",
       "      <td>1316525.0</td>\n",
       "      <td>19.061153</td>\n",
       "      <td>10.705276</td>\n",
       "      <td>0.0</td>\n",
       "      <td>11.0</td>\n",
       "      <td>19.0</td>\n",
       "      <td>27.0</td>\n",
       "      <td>40.0</td>\n",
       "    </tr>\n",
       "    <tr>\n",
       "      <th>day</th>\n",
       "      <td>1316525.0</td>\n",
       "      <td>3.092364</td>\n",
       "      <td>1.913203</td>\n",
       "      <td>0.0</td>\n",
       "      <td>1.0</td>\n",
       "      <td>3.0</td>\n",
       "      <td>5.0</td>\n",
       "      <td>6.0</td>\n",
       "    </tr>\n",
       "    <tr>\n",
       "      <th>hour</th>\n",
       "      <td>1316525.0</td>\n",
       "      <td>11.631434</td>\n",
       "      <td>6.914607</td>\n",
       "      <td>0.0</td>\n",
       "      <td>6.0</td>\n",
       "      <td>12.0</td>\n",
       "      <td>18.0</td>\n",
       "      <td>23.0</td>\n",
       "    </tr>\n",
       "  </tbody>\n",
       "</table>\n",
       "</div>"
      ],
      "text/plain": [
       "                           count       mean        std  min   25%   50%   75%  \\\n",
       "available_bike_stands  1316525.0  12.656060   9.079112  0.0   5.0  12.0  19.0   \n",
       "available_bikes        1316525.0  19.061153  10.705276  0.0  11.0  19.0  27.0   \n",
       "day                    1316525.0   3.092364   1.913203  0.0   1.0   3.0   5.0   \n",
       "hour                   1316525.0  11.631434   6.914607  0.0   6.0  12.0  18.0   \n",
       "\n",
       "                        max  \n",
       "available_bike_stands  40.0  \n",
       "available_bikes        40.0  \n",
       "day                     6.0  \n",
       "hour                   23.0  "
      ]
     },
     "execution_count": 17,
     "metadata": {},
     "output_type": "execute_result"
    }
   ],
   "source": [
    "df_avail.describe().T"
   ]
  },
  {
   "cell_type": "markdown",
   "id": "aa9b3939",
   "metadata": {},
   "source": [
    "### why is there 111 stations there should only 110?"
   ]
  },
  {
   "cell_type": "code",
   "execution_count": 18,
   "id": "f165e5a0",
   "metadata": {},
   "outputs": [
    {
     "data": {
      "text/plain": [
       "count     1316525\n",
       "unique        111\n",
       "top            61\n",
       "freq        11947\n",
       "Name: number, dtype: int64"
      ]
     },
     "execution_count": 18,
     "metadata": {},
     "output_type": "execute_result"
    }
   ],
   "source": [
    "df_avail[\"number\"].describe().T"
   ]
  },
  {
   "cell_type": "markdown",
   "id": "f06e64c7",
   "metadata": {},
   "source": [
    "### Removing illogical data from dataset"
   ]
  },
  {
   "cell_type": "code",
   "execution_count": 19,
   "id": "e7ddaff2",
   "metadata": {},
   "outputs": [
    {
     "data": {
      "text/html": [
       "<div>\n",
       "<style scoped>\n",
       "    .dataframe tbody tr th:only-of-type {\n",
       "        vertical-align: middle;\n",
       "    }\n",
       "\n",
       "    .dataframe tbody tr th {\n",
       "        vertical-align: top;\n",
       "    }\n",
       "\n",
       "    .dataframe thead th {\n",
       "        text-align: right;\n",
       "    }\n",
       "</style>\n",
       "<table border=\"1\" class=\"dataframe\">\n",
       "  <thead>\n",
       "    <tr style=\"text-align: right;\">\n",
       "      <th></th>\n",
       "      <th>number</th>\n",
       "      <th>available_bike_stands</th>\n",
       "      <th>available_bikes</th>\n",
       "      <th>last_update</th>\n",
       "      <th>day</th>\n",
       "      <th>hour</th>\n",
       "      <th>just_date</th>\n",
       "    </tr>\n",
       "  </thead>\n",
       "  <tbody>\n",
       "    <tr>\n",
       "      <th>1032891</th>\n",
       "      <td>507</td>\n",
       "      <td>0</td>\n",
       "      <td>1</td>\n",
       "      <td>2022-04-05 09:56:28</td>\n",
       "      <td>1</td>\n",
       "      <td>9</td>\n",
       "      <td>2022-04-05</td>\n",
       "    </tr>\n",
       "    <tr>\n",
       "      <th>1033002</th>\n",
       "      <td>507</td>\n",
       "      <td>0</td>\n",
       "      <td>1</td>\n",
       "      <td>2022-04-05 10:06:34</td>\n",
       "      <td>1</td>\n",
       "      <td>10</td>\n",
       "      <td>2022-04-05</td>\n",
       "    </tr>\n",
       "    <tr>\n",
       "      <th>1033113</th>\n",
       "      <td>507</td>\n",
       "      <td>0</td>\n",
       "      <td>1</td>\n",
       "      <td>2022-04-05 10:06:34</td>\n",
       "      <td>1</td>\n",
       "      <td>10</td>\n",
       "      <td>2022-04-05</td>\n",
       "    </tr>\n",
       "    <tr>\n",
       "      <th>1033224</th>\n",
       "      <td>507</td>\n",
       "      <td>0</td>\n",
       "      <td>1</td>\n",
       "      <td>2022-04-05 10:16:40</td>\n",
       "      <td>1</td>\n",
       "      <td>10</td>\n",
       "      <td>2022-04-05</td>\n",
       "    </tr>\n",
       "    <tr>\n",
       "      <th>1033335</th>\n",
       "      <td>507</td>\n",
       "      <td>0</td>\n",
       "      <td>1</td>\n",
       "      <td>2022-04-05 10:16:40</td>\n",
       "      <td>1</td>\n",
       "      <td>10</td>\n",
       "      <td>2022-04-05</td>\n",
       "    </tr>\n",
       "    <tr>\n",
       "      <th>...</th>\n",
       "      <td>...</td>\n",
       "      <td>...</td>\n",
       "      <td>...</td>\n",
       "      <td>...</td>\n",
       "      <td>...</td>\n",
       "      <td>...</td>\n",
       "      <td>...</td>\n",
       "    </tr>\n",
       "    <tr>\n",
       "      <th>1316052</th>\n",
       "      <td>507</td>\n",
       "      <td>1</td>\n",
       "      <td>0</td>\n",
       "      <td>2022-04-05 14:15:05</td>\n",
       "      <td>1</td>\n",
       "      <td>14</td>\n",
       "      <td>2022-04-05</td>\n",
       "    </tr>\n",
       "    <tr>\n",
       "      <th>1316163</th>\n",
       "      <td>507</td>\n",
       "      <td>1</td>\n",
       "      <td>0</td>\n",
       "      <td>2022-04-05 14:15:05</td>\n",
       "      <td>1</td>\n",
       "      <td>14</td>\n",
       "      <td>2022-04-05</td>\n",
       "    </tr>\n",
       "    <tr>\n",
       "      <th>1316274</th>\n",
       "      <td>507</td>\n",
       "      <td>1</td>\n",
       "      <td>0</td>\n",
       "      <td>2022-04-05 14:15:05</td>\n",
       "      <td>1</td>\n",
       "      <td>14</td>\n",
       "      <td>2022-04-05</td>\n",
       "    </tr>\n",
       "    <tr>\n",
       "      <th>1316385</th>\n",
       "      <td>507</td>\n",
       "      <td>1</td>\n",
       "      <td>0</td>\n",
       "      <td>2022-04-05 14:15:05</td>\n",
       "      <td>1</td>\n",
       "      <td>14</td>\n",
       "      <td>2022-04-05</td>\n",
       "    </tr>\n",
       "    <tr>\n",
       "      <th>1316496</th>\n",
       "      <td>507</td>\n",
       "      <td>1</td>\n",
       "      <td>0</td>\n",
       "      <td>2022-04-05 14:15:05</td>\n",
       "      <td>1</td>\n",
       "      <td>14</td>\n",
       "      <td>2022-04-05</td>\n",
       "    </tr>\n",
       "  </tbody>\n",
       "</table>\n",
       "<p>2556 rows × 7 columns</p>\n",
       "</div>"
      ],
      "text/plain": [
       "        number  available_bike_stands  available_bikes         last_update  \\\n",
       "1032891    507                      0                1 2022-04-05 09:56:28   \n",
       "1033002    507                      0                1 2022-04-05 10:06:34   \n",
       "1033113    507                      0                1 2022-04-05 10:06:34   \n",
       "1033224    507                      0                1 2022-04-05 10:16:40   \n",
       "1033335    507                      0                1 2022-04-05 10:16:40   \n",
       "...        ...                    ...              ...                 ...   \n",
       "1316052    507                      1                0 2022-04-05 14:15:05   \n",
       "1316163    507                      1                0 2022-04-05 14:15:05   \n",
       "1316274    507                      1                0 2022-04-05 14:15:05   \n",
       "1316385    507                      1                0 2022-04-05 14:15:05   \n",
       "1316496    507                      1                0 2022-04-05 14:15:05   \n",
       "\n",
       "         day  hour   just_date  \n",
       "1032891    1     9  2022-04-05  \n",
       "1033002    1    10  2022-04-05  \n",
       "1033113    1    10  2022-04-05  \n",
       "1033224    1    10  2022-04-05  \n",
       "1033335    1    10  2022-04-05  \n",
       "...      ...   ...         ...  \n",
       "1316052    1    14  2022-04-05  \n",
       "1316163    1    14  2022-04-05  \n",
       "1316274    1    14  2022-04-05  \n",
       "1316385    1    14  2022-04-05  \n",
       "1316496    1    14  2022-04-05  \n",
       "\n",
       "[2556 rows x 7 columns]"
      ]
     },
     "execution_count": 19,
     "metadata": {},
     "output_type": "execute_result"
    }
   ],
   "source": [
    "df_avail.loc[df_avail['number']==507]\n"
   ]
  },
  {
   "cell_type": "code",
   "execution_count": 20,
   "id": "6db99eee",
   "metadata": {},
   "outputs": [],
   "source": [
    "df_avail = df_avail[df_avail.number != 507]\n"
   ]
  },
  {
   "cell_type": "code",
   "execution_count": 21,
   "id": "342e013f",
   "metadata": {},
   "outputs": [
    {
     "data": {
      "text/plain": [
       "count     1313969\n",
       "unique        110\n",
       "top            61\n",
       "freq        11947\n",
       "Name: number, dtype: int64"
      ]
     },
     "execution_count": 21,
     "metadata": {},
     "output_type": "execute_result"
    }
   ],
   "source": [
    "df_avail[\"number\"].describe().T"
   ]
  },
  {
   "cell_type": "markdown",
   "id": "fbe0c9f7",
   "metadata": {},
   "source": [
    "#### Attempt at combining the two data frames "
   ]
  },
  {
   "cell_type": "code",
   "execution_count": 23,
   "id": "4a2e1acf",
   "metadata": {},
   "outputs": [],
   "source": [
    "# df_combine= df_avail.merge(df_weather,join='inner', on=['just_date'])\n",
    "\n",
    "# df_combine = pd.merge(df_avail, df_weather, on='just_date', how=\"outer\")\n",
    "\n",
    "# df_weather = df_weather.just_date.map(df_avail.set_index('just_date')\n",
    "                                      \n",
    "# pd.merge_asof(df_weather, df_avail, left_on='just_date', right_on='just_date')\n",
    "\n",
    "\n",
    "# df_combine= df_avail.merge(df_weather,on=['just_date'])\n",
    "\n",
    "# inner_merged = pd.concat([df_avail, df_weather],on=['just_date'])\n",
    "\n",
    "# v = df1.merge(df2[['Date', 'exp']])\\\n",
    "#        .groupby(df1.columns.tolist())\\\n",
    "#        .exp\\\n",
    "#        .apply(pd.Series.tolist)\n"
   ]
  },
  {
   "cell_type": "code",
   "execution_count": null,
   "id": "e22731cf",
   "metadata": {},
   "outputs": [],
   "source": []
  },
  {
   "cell_type": "code",
   "execution_count": 24,
   "id": "0ec0c482",
   "metadata": {},
   "outputs": [],
   "source": [
    "# df_weather"
   ]
  },
  {
   "cell_type": "code",
   "execution_count": 25,
   "id": "fbb49046",
   "metadata": {},
   "outputs": [],
   "source": [
    "# df_combine\n",
    "# inner_merged"
   ]
  },
  {
   "cell_type": "code",
   "execution_count": 26,
   "id": "67d4bcc4",
   "metadata": {},
   "outputs": [],
   "source": [
    "# df_combine.tail(40)"
   ]
  },
  {
   "cell_type": "markdown",
   "id": "7799d82e",
   "metadata": {},
   "source": [
    "### Looking at correlations"
   ]
  },
  {
   "cell_type": "code",
   "execution_count": 27,
   "id": "c93da756",
   "metadata": {},
   "outputs": [],
   "source": [
    "# df_combine.corr()"
   ]
  },
  {
   "cell_type": "code",
   "execution_count": 28,
   "id": "ac61c333",
   "metadata": {},
   "outputs": [
    {
     "data": {
      "text/html": [
       "<div>\n",
       "<style scoped>\n",
       "    .dataframe tbody tr th:only-of-type {\n",
       "        vertical-align: middle;\n",
       "    }\n",
       "\n",
       "    .dataframe tbody tr th {\n",
       "        vertical-align: top;\n",
       "    }\n",
       "\n",
       "    .dataframe thead th {\n",
       "        text-align: right;\n",
       "    }\n",
       "</style>\n",
       "<table border=\"1\" class=\"dataframe\">\n",
       "  <thead>\n",
       "    <tr style=\"text-align: right;\">\n",
       "      <th></th>\n",
       "      <th>number</th>\n",
       "      <th>available_bike_stands</th>\n",
       "      <th>available_bikes</th>\n",
       "      <th>last_update</th>\n",
       "      <th>day</th>\n",
       "      <th>hour</th>\n",
       "      <th>just_date</th>\n",
       "    </tr>\n",
       "  </thead>\n",
       "  <tbody>\n",
       "    <tr>\n",
       "      <th>0</th>\n",
       "      <td>42</td>\n",
       "      <td>16</td>\n",
       "      <td>14</td>\n",
       "      <td>2022-02-23 19:50:20</td>\n",
       "      <td>2</td>\n",
       "      <td>19</td>\n",
       "      <td>2022-02-23</td>\n",
       "    </tr>\n",
       "    <tr>\n",
       "      <th>1</th>\n",
       "      <td>30</td>\n",
       "      <td>0</td>\n",
       "      <td>20</td>\n",
       "      <td>2022-02-23 19:41:25</td>\n",
       "      <td>2</td>\n",
       "      <td>19</td>\n",
       "      <td>2022-02-23</td>\n",
       "    </tr>\n",
       "    <tr>\n",
       "      <th>2</th>\n",
       "      <td>54</td>\n",
       "      <td>11</td>\n",
       "      <td>22</td>\n",
       "      <td>2022-02-23 19:48:38</td>\n",
       "      <td>2</td>\n",
       "      <td>19</td>\n",
       "      <td>2022-02-23</td>\n",
       "    </tr>\n",
       "    <tr>\n",
       "      <th>3</th>\n",
       "      <td>108</td>\n",
       "      <td>16</td>\n",
       "      <td>19</td>\n",
       "      <td>2022-02-23 19:51:13</td>\n",
       "      <td>2</td>\n",
       "      <td>19</td>\n",
       "      <td>2022-02-23</td>\n",
       "    </tr>\n",
       "    <tr>\n",
       "      <th>4</th>\n",
       "      <td>56</td>\n",
       "      <td>2</td>\n",
       "      <td>38</td>\n",
       "      <td>2022-02-23 19:45:20</td>\n",
       "      <td>2</td>\n",
       "      <td>19</td>\n",
       "      <td>2022-02-23</td>\n",
       "    </tr>\n",
       "  </tbody>\n",
       "</table>\n",
       "</div>"
      ],
      "text/plain": [
       "  number  available_bike_stands  available_bikes         last_update  day  \\\n",
       "0     42                     16               14 2022-02-23 19:50:20    2   \n",
       "1     30                      0               20 2022-02-23 19:41:25    2   \n",
       "2     54                     11               22 2022-02-23 19:48:38    2   \n",
       "3    108                     16               19 2022-02-23 19:51:13    2   \n",
       "4     56                      2               38 2022-02-23 19:45:20    2   \n",
       "\n",
       "   hour   just_date  \n",
       "0    19  2022-02-23  \n",
       "1    19  2022-02-23  \n",
       "2    19  2022-02-23  \n",
       "3    19  2022-02-23  \n",
       "4    19  2022-02-23  "
      ]
     },
     "execution_count": 28,
     "metadata": {},
     "output_type": "execute_result"
    }
   ],
   "source": [
    "df_avail.head(5)"
   ]
  },
  {
   "cell_type": "code",
   "execution_count": 29,
   "id": "e3aa0c93",
   "metadata": {},
   "outputs": [
    {
     "data": {
      "text/html": [
       "<div>\n",
       "<style scoped>\n",
       "    .dataframe tbody tr th:only-of-type {\n",
       "        vertical-align: middle;\n",
       "    }\n",
       "\n",
       "    .dataframe tbody tr th {\n",
       "        vertical-align: top;\n",
       "    }\n",
       "\n",
       "    .dataframe thead th {\n",
       "        text-align: right;\n",
       "    }\n",
       "</style>\n",
       "<table border=\"1\" class=\"dataframe\">\n",
       "  <thead>\n",
       "    <tr style=\"text-align: right;\">\n",
       "      <th></th>\n",
       "      <th>number</th>\n",
       "      <th>available_bike_stands</th>\n",
       "      <th>available_bikes</th>\n",
       "      <th>last_update</th>\n",
       "      <th>day</th>\n",
       "      <th>hour</th>\n",
       "      <th>just_date</th>\n",
       "    </tr>\n",
       "  </thead>\n",
       "  <tbody>\n",
       "    <tr>\n",
       "      <th>1316520</th>\n",
       "      <td>39</td>\n",
       "      <td>8</td>\n",
       "      <td>12</td>\n",
       "      <td>2022-04-14 08:08:31</td>\n",
       "      <td>3</td>\n",
       "      <td>8</td>\n",
       "      <td>2022-04-14</td>\n",
       "    </tr>\n",
       "    <tr>\n",
       "      <th>1316521</th>\n",
       "      <td>83</td>\n",
       "      <td>26</td>\n",
       "      <td>14</td>\n",
       "      <td>2022-04-14 08:00:31</td>\n",
       "      <td>3</td>\n",
       "      <td>8</td>\n",
       "      <td>2022-04-14</td>\n",
       "    </tr>\n",
       "    <tr>\n",
       "      <th>1316522</th>\n",
       "      <td>92</td>\n",
       "      <td>24</td>\n",
       "      <td>15</td>\n",
       "      <td>2022-04-14 08:03:19</td>\n",
       "      <td>3</td>\n",
       "      <td>8</td>\n",
       "      <td>2022-04-14</td>\n",
       "    </tr>\n",
       "    <tr>\n",
       "      <th>1316523</th>\n",
       "      <td>21</td>\n",
       "      <td>21</td>\n",
       "      <td>9</td>\n",
       "      <td>2022-04-14 08:02:57</td>\n",
       "      <td>3</td>\n",
       "      <td>8</td>\n",
       "      <td>2022-04-14</td>\n",
       "    </tr>\n",
       "    <tr>\n",
       "      <th>1316524</th>\n",
       "      <td>88</td>\n",
       "      <td>16</td>\n",
       "      <td>14</td>\n",
       "      <td>2022-04-14 08:07:01</td>\n",
       "      <td>3</td>\n",
       "      <td>8</td>\n",
       "      <td>2022-04-14</td>\n",
       "    </tr>\n",
       "  </tbody>\n",
       "</table>\n",
       "</div>"
      ],
      "text/plain": [
       "        number  available_bike_stands  available_bikes         last_update  \\\n",
       "1316520     39                      8               12 2022-04-14 08:08:31   \n",
       "1316521     83                     26               14 2022-04-14 08:00:31   \n",
       "1316522     92                     24               15 2022-04-14 08:03:19   \n",
       "1316523     21                     21                9 2022-04-14 08:02:57   \n",
       "1316524     88                     16               14 2022-04-14 08:07:01   \n",
       "\n",
       "         day  hour   just_date  \n",
       "1316520    3     8  2022-04-14  \n",
       "1316521    3     8  2022-04-14  \n",
       "1316522    3     8  2022-04-14  \n",
       "1316523    3     8  2022-04-14  \n",
       "1316524    3     8  2022-04-14  "
      ]
     },
     "execution_count": 29,
     "metadata": {},
     "output_type": "execute_result"
    }
   ],
   "source": [
    "df_avail.tail(5)"
   ]
  },
  {
   "cell_type": "code",
   "execution_count": 30,
   "id": "726f4bab",
   "metadata": {},
   "outputs": [
    {
     "data": {
      "text/plain": [
       "(1313969, 7)"
      ]
     },
     "execution_count": 30,
     "metadata": {},
     "output_type": "execute_result"
    }
   ],
   "source": [
    "df_avail.shape"
   ]
  },
  {
   "cell_type": "code",
   "execution_count": 33,
   "id": "de235e01",
   "metadata": {},
   "outputs": [
    {
     "data": {
      "text/html": [
       "<div>\n",
       "<style scoped>\n",
       "    .dataframe tbody tr th:only-of-type {\n",
       "        vertical-align: middle;\n",
       "    }\n",
       "\n",
       "    .dataframe tbody tr th {\n",
       "        vertical-align: top;\n",
       "    }\n",
       "\n",
       "    .dataframe thead th {\n",
       "        text-align: right;\n",
       "    }\n",
       "</style>\n",
       "<table border=\"1\" class=\"dataframe\">\n",
       "  <thead>\n",
       "    <tr style=\"text-align: right;\">\n",
       "      <th></th>\n",
       "      <th>number</th>\n",
       "      <th>available_bike_stands</th>\n",
       "      <th>available_bikes</th>\n",
       "      <th>last_update</th>\n",
       "      <th>day</th>\n",
       "      <th>hour</th>\n",
       "      <th>just_date</th>\n",
       "    </tr>\n",
       "  </thead>\n",
       "  <tbody>\n",
       "    <tr>\n",
       "      <th>0</th>\n",
       "      <td>42</td>\n",
       "      <td>16</td>\n",
       "      <td>14</td>\n",
       "      <td>2022-02-23 19:50:20</td>\n",
       "      <td>2</td>\n",
       "      <td>19</td>\n",
       "      <td>2022-02-23</td>\n",
       "    </tr>\n",
       "    <tr>\n",
       "      <th>1</th>\n",
       "      <td>30</td>\n",
       "      <td>0</td>\n",
       "      <td>20</td>\n",
       "      <td>2022-02-23 19:41:25</td>\n",
       "      <td>2</td>\n",
       "      <td>19</td>\n",
       "      <td>2022-02-23</td>\n",
       "    </tr>\n",
       "    <tr>\n",
       "      <th>2</th>\n",
       "      <td>54</td>\n",
       "      <td>11</td>\n",
       "      <td>22</td>\n",
       "      <td>2022-02-23 19:48:38</td>\n",
       "      <td>2</td>\n",
       "      <td>19</td>\n",
       "      <td>2022-02-23</td>\n",
       "    </tr>\n",
       "    <tr>\n",
       "      <th>3</th>\n",
       "      <td>108</td>\n",
       "      <td>16</td>\n",
       "      <td>19</td>\n",
       "      <td>2022-02-23 19:51:13</td>\n",
       "      <td>2</td>\n",
       "      <td>19</td>\n",
       "      <td>2022-02-23</td>\n",
       "    </tr>\n",
       "    <tr>\n",
       "      <th>4</th>\n",
       "      <td>56</td>\n",
       "      <td>2</td>\n",
       "      <td>38</td>\n",
       "      <td>2022-02-23 19:45:20</td>\n",
       "      <td>2</td>\n",
       "      <td>19</td>\n",
       "      <td>2022-02-23</td>\n",
       "    </tr>\n",
       "    <tr>\n",
       "      <th>...</th>\n",
       "      <td>...</td>\n",
       "      <td>...</td>\n",
       "      <td>...</td>\n",
       "      <td>...</td>\n",
       "      <td>...</td>\n",
       "      <td>...</td>\n",
       "      <td>...</td>\n",
       "    </tr>\n",
       "    <tr>\n",
       "      <th>13964</th>\n",
       "      <td>83</td>\n",
       "      <td>8</td>\n",
       "      <td>32</td>\n",
       "      <td>2022-02-24 13:14:56</td>\n",
       "      <td>3</td>\n",
       "      <td>13</td>\n",
       "      <td>2022-02-24</td>\n",
       "    </tr>\n",
       "    <tr>\n",
       "      <th>13965</th>\n",
       "      <td>92</td>\n",
       "      <td>1</td>\n",
       "      <td>39</td>\n",
       "      <td>2022-02-24 13:20:41</td>\n",
       "      <td>3</td>\n",
       "      <td>13</td>\n",
       "      <td>2022-02-24</td>\n",
       "    </tr>\n",
       "    <tr>\n",
       "      <th>13966</th>\n",
       "      <td>21</td>\n",
       "      <td>24</td>\n",
       "      <td>6</td>\n",
       "      <td>2022-02-24 13:21:10</td>\n",
       "      <td>3</td>\n",
       "      <td>13</td>\n",
       "      <td>2022-02-24</td>\n",
       "    </tr>\n",
       "    <tr>\n",
       "      <th>13967</th>\n",
       "      <td>88</td>\n",
       "      <td>6</td>\n",
       "      <td>24</td>\n",
       "      <td>2022-02-24 13:18:28</td>\n",
       "      <td>3</td>\n",
       "      <td>13</td>\n",
       "      <td>2022-02-24</td>\n",
       "    </tr>\n",
       "    <tr>\n",
       "      <th>13968</th>\n",
       "      <td>42</td>\n",
       "      <td>10</td>\n",
       "      <td>20</td>\n",
       "      <td>2022-02-24 13:23:02</td>\n",
       "      <td>3</td>\n",
       "      <td>13</td>\n",
       "      <td>2022-02-24</td>\n",
       "    </tr>\n",
       "  </tbody>\n",
       "</table>\n",
       "<p>13969 rows × 7 columns</p>\n",
       "</div>"
      ],
      "text/plain": [
       "      number  available_bike_stands  available_bikes         last_update  day  \\\n",
       "0         42                     16               14 2022-02-23 19:50:20    2   \n",
       "1         30                      0               20 2022-02-23 19:41:25    2   \n",
       "2         54                     11               22 2022-02-23 19:48:38    2   \n",
       "3        108                     16               19 2022-02-23 19:51:13    2   \n",
       "4         56                      2               38 2022-02-23 19:45:20    2   \n",
       "...      ...                    ...              ...                 ...  ...   \n",
       "13964     83                      8               32 2022-02-24 13:14:56    3   \n",
       "13965     92                      1               39 2022-02-24 13:20:41    3   \n",
       "13966     21                     24                6 2022-02-24 13:21:10    3   \n",
       "13967     88                      6               24 2022-02-24 13:18:28    3   \n",
       "13968     42                     10               20 2022-02-24 13:23:02    3   \n",
       "\n",
       "       hour   just_date  \n",
       "0        19  2022-02-23  \n",
       "1        19  2022-02-23  \n",
       "2        19  2022-02-23  \n",
       "3        19  2022-02-23  \n",
       "4        19  2022-02-23  \n",
       "...     ...         ...  \n",
       "13964    13  2022-02-24  \n",
       "13965    13  2022-02-24  \n",
       "13966    13  2022-02-24  \n",
       "13967    13  2022-02-24  \n",
       "13968    13  2022-02-24  \n",
       "\n",
       "[13969 rows x 7 columns]"
      ]
     },
     "execution_count": 33,
     "metadata": {},
     "output_type": "execute_result"
    }
   ],
   "source": [
    "df_new = df_avail.head(len(df_avail)-1300000)\n",
    "df_new"
   ]
  },
  {
   "cell_type": "markdown",
   "id": "cc8bd585",
   "metadata": {},
   "source": [
    "### Training Model for available bikes "
   ]
  },
  {
   "cell_type": "code",
   "execution_count": 34,
   "id": "4f9d9074",
   "metadata": {},
   "outputs": [
    {
     "data": {
      "text/html": [
       "<div>\n",
       "<style scoped>\n",
       "    .dataframe tbody tr th:only-of-type {\n",
       "        vertical-align: middle;\n",
       "    }\n",
       "\n",
       "    .dataframe tbody tr th {\n",
       "        vertical-align: top;\n",
       "    }\n",
       "\n",
       "    .dataframe thead th {\n",
       "        text-align: right;\n",
       "    }\n",
       "</style>\n",
       "<table border=\"1\" class=\"dataframe\">\n",
       "  <thead>\n",
       "    <tr style=\"text-align: right;\">\n",
       "      <th></th>\n",
       "      <th>day</th>\n",
       "      <th>hour</th>\n",
       "      <th>number</th>\n",
       "    </tr>\n",
       "  </thead>\n",
       "  <tbody>\n",
       "    <tr>\n",
       "      <th>13008</th>\n",
       "      <td>3</td>\n",
       "      <td>13</td>\n",
       "      <td>99</td>\n",
       "    </tr>\n",
       "    <tr>\n",
       "      <th>4608</th>\n",
       "      <td>3</td>\n",
       "      <td>9</td>\n",
       "      <td>77</td>\n",
       "    </tr>\n",
       "    <tr>\n",
       "      <th>4855</th>\n",
       "      <td>3</td>\n",
       "      <td>9</td>\n",
       "      <td>51</td>\n",
       "    </tr>\n",
       "    <tr>\n",
       "      <th>5490</th>\n",
       "      <td>3</td>\n",
       "      <td>10</td>\n",
       "      <td>29</td>\n",
       "    </tr>\n",
       "    <tr>\n",
       "      <th>12042</th>\n",
       "      <td>3</td>\n",
       "      <td>12</td>\n",
       "      <td>47</td>\n",
       "    </tr>\n",
       "    <tr>\n",
       "      <th>...</th>\n",
       "      <td>...</td>\n",
       "      <td>...</td>\n",
       "      <td>...</td>\n",
       "    </tr>\n",
       "    <tr>\n",
       "      <th>5269</th>\n",
       "      <td>3</td>\n",
       "      <td>10</td>\n",
       "      <td>40</td>\n",
       "    </tr>\n",
       "    <tr>\n",
       "      <th>5877</th>\n",
       "      <td>3</td>\n",
       "      <td>10</td>\n",
       "      <td>58</td>\n",
       "    </tr>\n",
       "    <tr>\n",
       "      <th>411</th>\n",
       "      <td>2</td>\n",
       "      <td>20</td>\n",
       "      <td>11</td>\n",
       "    </tr>\n",
       "    <tr>\n",
       "      <th>10862</th>\n",
       "      <td>3</td>\n",
       "      <td>12</td>\n",
       "      <td>65</td>\n",
       "    </tr>\n",
       "    <tr>\n",
       "      <th>8209</th>\n",
       "      <td>3</td>\n",
       "      <td>11</td>\n",
       "      <td>105</td>\n",
       "    </tr>\n",
       "  </tbody>\n",
       "</table>\n",
       "<p>9778 rows × 3 columns</p>\n",
       "</div>"
      ],
      "text/plain": [
       "       day  hour number\n",
       "13008    3    13     99\n",
       "4608     3     9     77\n",
       "4855     3     9     51\n",
       "5490     3    10     29\n",
       "12042    3    12     47\n",
       "...    ...   ...    ...\n",
       "5269     3    10     40\n",
       "5877     3    10     58\n",
       "411      2    20     11\n",
       "10862    3    12     65\n",
       "8209     3    11    105\n",
       "\n",
       "[9778 rows x 3 columns]"
      ]
     },
     "execution_count": 34,
     "metadata": {},
     "output_type": "execute_result"
    }
   ],
   "source": [
    "train_feature = [\"day\",\"hour\",\"number\"]\n",
    "target_feature1 = ['available_bikes']\n",
    "\n",
    "train = df_new[train_feature]\n",
    "target = df_new[target_feature1]\n",
    "Xtrain,Xtest,Ytrain,Ytest = train_test_split(train,target,test_size=0.3)\n",
    "Xtrain"
   ]
  },
  {
   "cell_type": "code",
   "execution_count": 35,
   "id": "d7469df4",
   "metadata": {},
   "outputs": [
    {
     "name": "stderr",
     "output_type": "stream",
     "text": [
      "C:\\Users\\gusbo\\anaconda3\\envs\\comp30830\\lib\\site-packages\\sklearn\\utils\\validation.py:1688: FutureWarning: Feature names only support names that are all strings. Got feature names with dtypes: ['quoted_name', 'str']. An error will be raised in 1.2.\n",
      "  warnings.warn(\n"
     ]
    },
    {
     "data": {
      "text/plain": [
       "LinearRegression()"
      ]
     },
     "execution_count": 35,
     "metadata": {},
     "output_type": "execute_result"
    }
   ],
   "source": [
    "LR = LinearRegression()\n",
    "LR.fit(Xtrain,Ytrain)\n"
   ]
  },
  {
   "cell_type": "code",
   "execution_count": null,
   "id": "be5f5cd2",
   "metadata": {},
   "outputs": [],
   "source": []
  },
  {
   "cell_type": "code",
   "execution_count": 36,
   "id": "265a4368",
   "metadata": {},
   "outputs": [
    {
     "name": "stderr",
     "output_type": "stream",
     "text": [
      "C:\\Users\\gusbo\\anaconda3\\envs\\comp30830\\lib\\site-packages\\sklearn\\utils\\validation.py:1688: FutureWarning: Feature names only support names that are all strings. Got feature names with dtypes: ['quoted_name', 'str']. An error will be raised in 1.2.\n",
      "  warnings.warn(\n"
     ]
    },
    {
     "data": {
      "text/plain": [
       "0.09216225852060433"
      ]
     },
     "execution_count": 36,
     "metadata": {},
     "output_type": "execute_result"
    }
   ],
   "source": [
    "LR.score(Xtest,Ytest)"
   ]
  },
  {
   "cell_type": "code",
   "execution_count": 37,
   "id": "d7585184",
   "metadata": {},
   "outputs": [
    {
     "name": "stderr",
     "output_type": "stream",
     "text": [
      "C:\\Users\\gusbo\\anaconda3\\envs\\comp30830\\lib\\site-packages\\sklearn\\utils\\validation.py:1688: FutureWarning: Feature names only support names that are all strings. Got feature names with dtypes: ['quoted_name', 'str']. An error will be raised in 1.2.\n",
      "  warnings.warn(\n"
     ]
    },
    {
     "data": {
      "text/plain": [
       "array([[18.69791705],\n",
       "       [23.34384975],\n",
       "       [19.76260996],\n",
       "       ...,\n",
       "       [20.83560759],\n",
       "       [15.78289266],\n",
       "       [19.85940023]])"
      ]
     },
     "execution_count": 37,
     "metadata": {},
     "output_type": "execute_result"
    }
   ],
   "source": [
    "y_prediction =  LR.predict(Xtest)\n",
    "y_prediction"
   ]
  },
  {
   "cell_type": "markdown",
   "id": "9b1c3bc5",
   "metadata": {},
   "source": [
    "### Example of Prediction\n",
    "\n",
    "- on Monday, 2pm, station: 100"
   ]
  },
  {
   "cell_type": "code",
   "execution_count": 38,
   "id": "39fa436a",
   "metadata": {},
   "outputs": [
    {
     "data": {
      "text/plain": [
       "array([[20.77718377]])"
      ]
     },
     "execution_count": 38,
     "metadata": {},
     "output_type": "execute_result"
    }
   ],
   "source": [
    "LR.predict([[1, 14, 100]])"
   ]
  },
  {
   "cell_type": "markdown",
   "id": "142e147d",
   "metadata": {},
   "source": [
    "### Metrics for model evaluation in linear regression:  "
   ]
  },
  {
   "cell_type": "markdown",
   "id": "54b267d3",
   "metadata": {},
   "source": [
    "#### R Square/Adjusted R Square"
   ]
  },
  {
   "cell_type": "code",
   "execution_count": 39,
   "id": "0172988b",
   "metadata": {},
   "outputs": [
    {
     "name": "stdout",
     "output_type": "stream",
     "text": [
      "r2 score is  0.09216225852060433\n"
     ]
    }
   ],
   "source": [
    "score=r2_score(Ytest,y_prediction)\n",
    "print('r2 score is ',score)"
   ]
  },
  {
   "cell_type": "markdown",
   "id": "65fa16aa",
   "metadata": {},
   "source": [
    "#### Mean Square Error(MSE)"
   ]
  },
  {
   "cell_type": "code",
   "execution_count": 40,
   "id": "96f64e07",
   "metadata": {},
   "outputs": [
    {
     "name": "stdout",
     "output_type": "stream",
     "text": [
      "MSE is  89.80461453510334\n"
     ]
    }
   ],
   "source": [
    "print('MSE is ',mean_squared_error(Ytest,y_prediction))"
   ]
  },
  {
   "cell_type": "markdown",
   "id": "6fb09cab",
   "metadata": {},
   "source": [
    "#### Mean Absolute Error"
   ]
  },
  {
   "cell_type": "code",
   "execution_count": 41,
   "id": "c01a528b",
   "metadata": {},
   "outputs": [
    {
     "name": "stdout",
     "output_type": "stream",
     "text": [
      "Mean Absolute Error is  7.703008306334672\n"
     ]
    }
   ],
   "source": [
    "print('Mean Absolute Error is ',mean_absolute_error(Ytest,y_prediction))"
   ]
  },
  {
   "cell_type": "markdown",
   "id": "b85ff22b",
   "metadata": {},
   "source": [
    "## Using a Random Forest Model for bike availabilty"
   ]
  },
  {
   "cell_type": "code",
   "execution_count": 42,
   "id": "240b892e",
   "metadata": {},
   "outputs": [
    {
     "name": "stderr",
     "output_type": "stream",
     "text": [
      "C:\\Users\\gusbo\\anaconda3\\envs\\comp30830\\lib\\site-packages\\sklearn\\utils\\validation.py:1688: FutureWarning: Feature names only support names that are all strings. Got feature names with dtypes: ['quoted_name', 'str']. An error will be raised in 1.2.\n",
      "  warnings.warn(\n",
      "C:\\Users\\gusbo\\anaconda3\\envs\\comp30830\\lib\\site-packages\\sklearn\\utils\\validation.py:1688: FutureWarning: Feature names only support names that are all strings. Got feature names with dtypes: ['quoted_name', 'str']. An error will be raised in 1.2.\n",
      "  warnings.warn(\n"
     ]
    },
    {
     "data": {
      "text/plain": [
       "0.9811793304150203"
      ]
     },
     "execution_count": 42,
     "metadata": {},
     "output_type": "execute_result"
    }
   ],
   "source": [
    "random_forest = RandomForestRegressor(random_state=0)\n",
    "random_forest = random_forest.fit(Xtrain,Ytrain.available_bikes)\n",
    "score = random_forest.score(Xtest,Ytest.available_bikes)\n",
    "score"
   ]
  },
  {
   "cell_type": "code",
   "execution_count": 43,
   "id": "6fd578d4",
   "metadata": {},
   "outputs": [
    {
     "name": "stderr",
     "output_type": "stream",
     "text": [
      "C:\\Users\\gusbo\\anaconda3\\envs\\comp30830\\lib\\site-packages\\sklearn\\utils\\validation.py:1688: FutureWarning: Feature names only support names that are all strings. Got feature names with dtypes: ['quoted_name', 'str']. An error will be raised in 1.2.\n",
      "  warnings.warn(\n"
     ]
    },
    {
     "data": {
      "text/plain": [
       "array([28.60204636, 25.        , 25.        , ..., 31.39889732,\n",
       "       17.76357693, 26.25623263])"
      ]
     },
     "execution_count": 43,
     "metadata": {},
     "output_type": "execute_result"
    }
   ],
   "source": [
    "y_prediction_RF =  random_forest.predict(Xtest)\n",
    "y_prediction_RF"
   ]
  },
  {
   "cell_type": "markdown",
   "id": "27aa3edd",
   "metadata": {},
   "source": [
    "### Metrics for model evaluation in random forrest:  "
   ]
  },
  {
   "cell_type": "markdown",
   "id": "80cd5216",
   "metadata": {},
   "source": [
    "#### R squared"
   ]
  },
  {
   "cell_type": "code",
   "execution_count": 44,
   "id": "529357cb",
   "metadata": {},
   "outputs": [
    {
     "name": "stdout",
     "output_type": "stream",
     "text": [
      "r2 score is  0.9811793304150203\n"
     ]
    }
   ],
   "source": [
    "score=r2_score(Ytest,y_prediction_RF)\n",
    "print('r2 score is ',score)"
   ]
  },
  {
   "cell_type": "markdown",
   "id": "e25590f8",
   "metadata": {},
   "source": [
    "#### Mean squared error"
   ]
  },
  {
   "cell_type": "code",
   "execution_count": 45,
   "id": "4c1b6cad",
   "metadata": {},
   "outputs": [
    {
     "name": "stdout",
     "output_type": "stream",
     "text": [
      "MSE is  1.8617676927788371\n"
     ]
    }
   ],
   "source": [
    "print('MSE is ',mean_squared_error(Ytest,y_prediction_RF))"
   ]
  },
  {
   "cell_type": "markdown",
   "id": "091e1da7",
   "metadata": {},
   "source": [
    "#### Mean absolute error"
   ]
  },
  {
   "cell_type": "code",
   "execution_count": 46,
   "id": "8058f32d",
   "metadata": {},
   "outputs": [
    {
     "name": "stdout",
     "output_type": "stream",
     "text": [
      "Mean Absolute Error is  0.7101426773830077\n"
     ]
    }
   ],
   "source": [
    "print('Mean Absolute Error is ',mean_absolute_error(Ytest,y_prediction_RF))"
   ]
  },
  {
   "cell_type": "markdown",
   "id": "d5fa3727",
   "metadata": {},
   "source": [
    "### Example of prediction"
   ]
  },
  {
   "cell_type": "code",
   "execution_count": 47,
   "id": "39ec1b37",
   "metadata": {},
   "outputs": [
    {
     "data": {
      "text/plain": [
       "array([10.38])"
      ]
     },
     "execution_count": 47,
     "metadata": {},
     "output_type": "execute_result"
    }
   ],
   "source": [
    "random_forest.predict([[1, 14, 100]])"
   ]
  },
  {
   "cell_type": "markdown",
   "id": "7436ea8e",
   "metadata": {},
   "source": [
    "### Feature Importance"
   ]
  },
  {
   "cell_type": "code",
   "execution_count": 48,
   "id": "ab02f9c9",
   "metadata": {},
   "outputs": [
    {
     "data": {
      "text/plain": [
       "array([0.04673448, 0.10811427, 0.84515125])"
      ]
     },
     "execution_count": 48,
     "metadata": {},
     "output_type": "execute_result"
    }
   ],
   "source": [
    "random_forest.feature_importances_\n"
   ]
  },
  {
   "cell_type": "markdown",
   "id": "2b7ae123",
   "metadata": {},
   "source": [
    "### Saving model to disk with Pickle:"
   ]
  },
  {
   "cell_type": "code",
   "execution_count": 50,
   "id": "36607076",
   "metadata": {},
   "outputs": [],
   "source": [
    "pickle.dump(random_forest, open('model.pkl', 'wb'))"
   ]
  },
  {
   "cell_type": "code",
   "execution_count": 51,
   "id": "2f1e680d",
   "metadata": {},
   "outputs": [],
   "source": [
    "#testing"
   ]
  },
  {
   "cell_type": "code",
   "execution_count": 53,
   "id": "b3d2fc24",
   "metadata": {},
   "outputs": [],
   "source": [
    "model= pickle.load(open('model.pkl', 'rb'))"
   ]
  },
  {
   "cell_type": "markdown",
   "id": "d0347a7d",
   "metadata": {},
   "source": [
    "### Making model for bike stand availabilty:"
   ]
  },
  {
   "cell_type": "code",
   "execution_count": 56,
   "id": "4e111f2f",
   "metadata": {},
   "outputs": [
    {
     "data": {
      "text/html": [
       "<div>\n",
       "<style scoped>\n",
       "    .dataframe tbody tr th:only-of-type {\n",
       "        vertical-align: middle;\n",
       "    }\n",
       "\n",
       "    .dataframe tbody tr th {\n",
       "        vertical-align: top;\n",
       "    }\n",
       "\n",
       "    .dataframe thead th {\n",
       "        text-align: right;\n",
       "    }\n",
       "</style>\n",
       "<table border=\"1\" class=\"dataframe\">\n",
       "  <thead>\n",
       "    <tr style=\"text-align: right;\">\n",
       "      <th></th>\n",
       "      <th>day</th>\n",
       "      <th>hour</th>\n",
       "      <th>number</th>\n",
       "    </tr>\n",
       "  </thead>\n",
       "  <tbody>\n",
       "    <tr>\n",
       "      <th>955</th>\n",
       "      <td>2</td>\n",
       "      <td>21</td>\n",
       "      <td>112</td>\n",
       "    </tr>\n",
       "    <tr>\n",
       "      <th>10146</th>\n",
       "      <td>3</td>\n",
       "      <td>11</td>\n",
       "      <td>113</td>\n",
       "    </tr>\n",
       "    <tr>\n",
       "      <th>13487</th>\n",
       "      <td>3</td>\n",
       "      <td>13</td>\n",
       "      <td>95</td>\n",
       "    </tr>\n",
       "    <tr>\n",
       "      <th>5731</th>\n",
       "      <td>3</td>\n",
       "      <td>10</td>\n",
       "      <td>98</td>\n",
       "    </tr>\n",
       "    <tr>\n",
       "      <th>182</th>\n",
       "      <td>2</td>\n",
       "      <td>20</td>\n",
       "      <td>98</td>\n",
       "    </tr>\n",
       "    <tr>\n",
       "      <th>...</th>\n",
       "      <td>...</td>\n",
       "      <td>...</td>\n",
       "      <td>...</td>\n",
       "    </tr>\n",
       "    <tr>\n",
       "      <th>10266</th>\n",
       "      <td>3</td>\n",
       "      <td>11</td>\n",
       "      <td>61</td>\n",
       "    </tr>\n",
       "    <tr>\n",
       "      <th>10558</th>\n",
       "      <td>3</td>\n",
       "      <td>12</td>\n",
       "      <td>42</td>\n",
       "    </tr>\n",
       "    <tr>\n",
       "      <th>13883</th>\n",
       "      <td>3</td>\n",
       "      <td>13</td>\n",
       "      <td>114</td>\n",
       "    </tr>\n",
       "    <tr>\n",
       "      <th>10120</th>\n",
       "      <td>3</td>\n",
       "      <td>11</td>\n",
       "      <td>54</td>\n",
       "    </tr>\n",
       "    <tr>\n",
       "      <th>416</th>\n",
       "      <td>2</td>\n",
       "      <td>20</td>\n",
       "      <td>63</td>\n",
       "    </tr>\n",
       "  </tbody>\n",
       "</table>\n",
       "<p>9778 rows × 3 columns</p>\n",
       "</div>"
      ],
      "text/plain": [
       "       day  hour number\n",
       "955      2    21    112\n",
       "10146    3    11    113\n",
       "13487    3    13     95\n",
       "5731     3    10     98\n",
       "182      2    20     98\n",
       "...    ...   ...    ...\n",
       "10266    3    11     61\n",
       "10558    3    12     42\n",
       "13883    3    13    114\n",
       "10120    3    11     54\n",
       "416      2    20     63\n",
       "\n",
       "[9778 rows x 3 columns]"
      ]
     },
     "execution_count": 56,
     "metadata": {},
     "output_type": "execute_result"
    }
   ],
   "source": [
    "target_feature2 = ['available_bike_stands']\n",
    "\n",
    "train = df_new[train_feature]\n",
    "target = df_new[target_feature2]\n",
    "Xtrain,Xtest,Ytrain,Ytest = train_test_split(train,target,test_size=0.3)\n",
    "Xtrain"
   ]
  },
  {
   "cell_type": "code",
   "execution_count": 57,
   "id": "7f6b11e2",
   "metadata": {},
   "outputs": [
    {
     "name": "stderr",
     "output_type": "stream",
     "text": [
      "C:\\Users\\gusbo\\anaconda3\\envs\\comp30830\\lib\\site-packages\\sklearn\\utils\\validation.py:1688: FutureWarning: Feature names only support names that are all strings. Got feature names with dtypes: ['quoted_name', 'str']. An error will be raised in 1.2.\n",
      "  warnings.warn(\n",
      "C:\\Users\\gusbo\\anaconda3\\envs\\comp30830\\lib\\site-packages\\sklearn\\utils\\validation.py:1688: FutureWarning: Feature names only support names that are all strings. Got feature names with dtypes: ['quoted_name', 'str']. An error will be raised in 1.2.\n",
      "  warnings.warn(\n"
     ]
    },
    {
     "data": {
      "text/plain": [
       "0.9716916650705482"
      ]
     },
     "execution_count": 57,
     "metadata": {},
     "output_type": "execute_result"
    }
   ],
   "source": [
    "random_forest_2 = RandomForestRegressor(random_state=1)\n",
    "random_forest_2 = random_forest_2.fit(Xtrain,Ytrain.available_bike_stands)\n",
    "score_2 = random_forest_2.score(Xtest,Ytest.available_bike_stands)\n",
    "score_2"
   ]
  },
  {
   "cell_type": "code",
   "execution_count": 58,
   "id": "0693b6ae",
   "metadata": {},
   "outputs": [
    {
     "name": "stderr",
     "output_type": "stream",
     "text": [
      "C:\\Users\\gusbo\\anaconda3\\envs\\comp30830\\lib\\site-packages\\sklearn\\utils\\validation.py:1688: FutureWarning: Feature names only support names that are all strings. Got feature names with dtypes: ['quoted_name', 'str']. An error will be raised in 1.2.\n",
      "  warnings.warn(\n"
     ]
    },
    {
     "data": {
      "text/plain": [
       "array([ 8.        ,  6.19798131,  2.3963433 , ...,  5.14453341,\n",
       "       11.91703414, 12.02      ])"
      ]
     },
     "execution_count": 58,
     "metadata": {},
     "output_type": "execute_result"
    }
   ],
   "source": [
    "y_prediction_RF_2 =  random_forest_2.predict(Xtest)\n",
    "y_prediction_RF_2"
   ]
  },
  {
   "cell_type": "markdown",
   "id": "a3ddfa5c",
   "metadata": {},
   "source": [
    "### R2 score for RF bike stands"
   ]
  },
  {
   "cell_type": "code",
   "execution_count": 59,
   "id": "190e9870",
   "metadata": {},
   "outputs": [
    {
     "name": "stdout",
     "output_type": "stream",
     "text": [
      "r2 score is  0.9716916650705482\n"
     ]
    }
   ],
   "source": [
    "score =r2_score(Ytest,y_prediction_RF_2)\n",
    "print('r2 score is ',score)"
   ]
  },
  {
   "cell_type": "markdown",
   "id": "92ef2bac",
   "metadata": {},
   "source": [
    "### Mean squared error for RF bike stands"
   ]
  },
  {
   "cell_type": "code",
   "execution_count": 60,
   "id": "ba480d6b",
   "metadata": {},
   "outputs": [
    {
     "name": "stdout",
     "output_type": "stream",
     "text": [
      "MSE is  2.183514858172077\n"
     ]
    }
   ],
   "source": [
    "print('MSE is ',mean_squared_error(Ytest,y_prediction_RF_2))"
   ]
  },
  {
   "cell_type": "markdown",
   "id": "9335c6fe",
   "metadata": {},
   "source": [
    "### Mean absolute error for RF bike stands"
   ]
  },
  {
   "cell_type": "code",
   "execution_count": 62,
   "id": "e401f1cf",
   "metadata": {},
   "outputs": [
    {
     "name": "stdout",
     "output_type": "stream",
     "text": [
      "Mean Absolute Error is  0.7385325042302513\n"
     ]
    }
   ],
   "source": [
    "print('Mean Absolute Error is ',mean_absolute_error(Ytest,y_prediction_RF_2))"
   ]
  },
  {
   "cell_type": "markdown",
   "id": "b65c0b91",
   "metadata": {},
   "source": [
    "### Example prediction for RF bike stands"
   ]
  },
  {
   "cell_type": "code",
   "execution_count": 63,
   "id": "a80a067b",
   "metadata": {},
   "outputs": [
    {
     "data": {
      "text/plain": [
       "array([12.70677381])"
      ]
     },
     "execution_count": 63,
     "metadata": {},
     "output_type": "execute_result"
    }
   ],
   "source": [
    "random_forest_2.predict([[1, 14, 100]])"
   ]
  },
  {
   "cell_type": "markdown",
   "id": "3a84277a",
   "metadata": {},
   "source": [
    "### Feature Importance"
   ]
  },
  {
   "cell_type": "code",
   "execution_count": 64,
   "id": "2ead2671",
   "metadata": {},
   "outputs": [
    {
     "data": {
      "text/plain": [
       "array([0.07371562, 0.16285749, 0.7634269 ])"
      ]
     },
     "execution_count": 64,
     "metadata": {},
     "output_type": "execute_result"
    }
   ],
   "source": [
    "random_forest_2.feature_importances_\n"
   ]
  },
  {
   "cell_type": "markdown",
   "id": "adf16fb6",
   "metadata": {},
   "source": [
    "### Saving model to pickle file"
   ]
  },
  {
   "cell_type": "code",
   "execution_count": 65,
   "id": "230b84e9",
   "metadata": {},
   "outputs": [],
   "source": [
    "pickle.dump(random_forest_2, open('model_stands.pkl', 'wb'))"
   ]
  },
  {
   "cell_type": "code",
   "execution_count": null,
   "id": "eb171919",
   "metadata": {},
   "outputs": [],
   "source": []
  }
 ],
 "metadata": {
  "kernelspec": {
   "display_name": "Python 3 (ipykernel)",
   "language": "python",
   "name": "python3"
  },
  "language_info": {
   "codemirror_mode": {
    "name": "ipython",
    "version": 3
   },
   "file_extension": ".py",
   "mimetype": "text/x-python",
   "name": "python",
   "nbconvert_exporter": "python",
   "pygments_lexer": "ipython3",
   "version": "3.9.7"
  }
 },
 "nbformat": 4,
 "nbformat_minor": 5
}
