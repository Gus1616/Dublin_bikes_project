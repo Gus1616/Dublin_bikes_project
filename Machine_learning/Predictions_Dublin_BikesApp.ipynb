{
 "cells": [
  {
   "cell_type": "markdown",
   "id": "ff67c350",
   "metadata": {},
   "source": [
    "# Machine learning for predicitng Bike availability and Bike stand availabilty"
   ]
  },
  {
   "cell_type": "markdown",
   "id": "3a1c2a3e",
   "metadata": {},
   "source": [
    "##### Linear Regression Model for predicting Bike Availability: \n"
   ]
  },
  {
   "cell_type": "markdown",
   "id": "01fb6eea",
   "metadata": {},
   "source": [
    "- Here we will first be implementing a linear regression model in order to predict the number of bikes available and the number of bike stands available at a give bike stand. \n",
    "- Linear regression is a statistical method for modeling relationships between a dependent variable with a given set of independent variables.\n",
    "- In our model the dependent variable will be number of bikes/bike stands and the independent variables will be time of day, day of the week, area, and weather.  "
   ]
  },
  {
   "cell_type": "code",
   "execution_count": 2,
   "id": "9387c631",
   "metadata": {},
   "outputs": [],
   "source": [
    "\n",
    "import numpy as np\n",
    "import matplotlib.pyplot as plt\n",
    "import pandas as pd\n",
    "from sqlalchemy import create_engine\n",
    "\n",
    "import pickle\n",
    "\n",
    "from sklearn.linear_model import LinearRegression\n",
    "from sklearn import linear_model\n",
    "from sklearn.model_selection import train_test_split\n",
    "from sklearn.metrics import r2_score\n",
    "from sklearn.metrics import mean_squared_error\n",
    "from sklearn.metrics import mean_absolute_error\n",
    "\n",
    "\n",
    "from sklearn.ensemble import RandomForestRegressor\n",
    "\n",
    "\n",
    "\n"
   ]
  },
  {
   "cell_type": "markdown",
   "id": "72455356",
   "metadata": {},
   "source": [
    "### Connect to database:"
   ]
  },
  {
   "cell_type": "code",
   "execution_count": 3,
   "id": "8d278dfc",
   "metadata": {},
   "outputs": [],
   "source": [
    "URL = \"dublin-bikesdb.cmd8vuwgew1e.us-east-1.rds.amazonaws.com\"\n",
    "PORT = \"3306\"\n",
    "DB = \"dbikes\"\n",
    "USER = \"admin\"\n",
    "PASSWORD = \"Dbikes123\"\n"
   ]
  },
  {
   "cell_type": "markdown",
   "id": "ebabb331",
   "metadata": {},
   "source": [
    "### Weather Data "
   ]
  },
  {
   "cell_type": "code",
   "execution_count": 4,
   "id": "302017fc",
   "metadata": {},
   "outputs": [
    {
     "name": "stdout",
     "output_type": "stream",
     "text": [
      "2022-04-15 12:14:28,338 INFO sqlalchemy.engine.Engine SHOW VARIABLES LIKE 'sql_mode'\n",
      "2022-04-15 12:14:28,359 INFO sqlalchemy.engine.Engine [raw sql] ()\n",
      "2022-04-15 12:14:28,506 INFO sqlalchemy.engine.Engine SHOW VARIABLES LIKE 'lower_case_table_names'\n",
      "2022-04-15 12:14:28,507 INFO sqlalchemy.engine.Engine [generated in 0.00133s] ()\n",
      "2022-04-15 12:14:28,746 INFO sqlalchemy.engine.Engine SELECT DATABASE()\n",
      "2022-04-15 12:14:28,746 INFO sqlalchemy.engine.Engine [raw sql] ()\n",
      "2022-04-15 12:14:29,108 INFO sqlalchemy.engine.Engine \n",
      "    SELECT weather.id, weather.description1, weather.temperature, weather.humidity, weather.windspeed, weather.sunset, weather.TIME FROM weather;\n",
      "    \n",
      "2022-04-15 12:14:29,108 INFO sqlalchemy.engine.Engine [raw sql] ()\n"
     ]
    }
   ],
   "source": [
    "def weather():\n",
    "    engine = create_engine(\"mysql+mysqldb://{}:{}@{}:{}/{}\".format(USER, PASSWORD, URL, PORT, DB), echo=True)\n",
    "    sql_query_weather= \"\"\"\n",
    "    SELECT weather.id, weather.description1, weather.temperature, weather.humidity, weather.windspeed, weather.sunset, weather.TIME FROM weather;\n",
    "    \"\"\"\n",
    "    df_weather = pd.read_sql_query(sql_query_weather, engine)\n",
    "\n",
    "    return df_weather\n",
    "\n",
    "\n",
    "df_weather = weather()"
   ]
  },
  {
   "cell_type": "code",
   "execution_count": 5,
   "id": "f0ffeae3",
   "metadata": {},
   "outputs": [
    {
     "data": {
      "text/html": [
       "<div>\n",
       "<style scoped>\n",
       "    .dataframe tbody tr th:only-of-type {\n",
       "        vertical-align: middle;\n",
       "    }\n",
       "\n",
       "    .dataframe tbody tr th {\n",
       "        vertical-align: top;\n",
       "    }\n",
       "\n",
       "    .dataframe thead th {\n",
       "        text-align: right;\n",
       "    }\n",
       "</style>\n",
       "<table border=\"1\" class=\"dataframe\">\n",
       "  <thead>\n",
       "    <tr style=\"text-align: right;\">\n",
       "      <th></th>\n",
       "      <th>id</th>\n",
       "      <th>description1</th>\n",
       "      <th>temperature</th>\n",
       "      <th>humidity</th>\n",
       "      <th>windspeed</th>\n",
       "      <th>sunset</th>\n",
       "      <th>TIME</th>\n",
       "    </tr>\n",
       "  </thead>\n",
       "  <tbody>\n",
       "    <tr>\n",
       "      <th>0</th>\n",
       "      <td>803</td>\n",
       "      <td>broken clouds</td>\n",
       "      <td>284.17</td>\n",
       "      <td>84</td>\n",
       "      <td>6.69</td>\n",
       "      <td>2022-04-11 19:16:53</td>\n",
       "      <td>2022-04-11 21:14:23</td>\n",
       "    </tr>\n",
       "    <tr>\n",
       "      <th>1</th>\n",
       "      <td>803</td>\n",
       "      <td>broken clouds</td>\n",
       "      <td>284.12</td>\n",
       "      <td>84</td>\n",
       "      <td>4.12</td>\n",
       "      <td>2022-04-11 19:16:53</td>\n",
       "      <td>2022-04-11 21:19:23</td>\n",
       "    </tr>\n",
       "    <tr>\n",
       "      <th>2</th>\n",
       "      <td>803</td>\n",
       "      <td>broken clouds</td>\n",
       "      <td>284.12</td>\n",
       "      <td>84</td>\n",
       "      <td>4.12</td>\n",
       "      <td>2022-04-11 19:16:53</td>\n",
       "      <td>2022-04-11 21:24:23</td>\n",
       "    </tr>\n",
       "    <tr>\n",
       "      <th>3</th>\n",
       "      <td>803</td>\n",
       "      <td>broken clouds</td>\n",
       "      <td>284.12</td>\n",
       "      <td>84</td>\n",
       "      <td>4.12</td>\n",
       "      <td>2022-04-11 19:16:53</td>\n",
       "      <td>2022-04-11 21:29:23</td>\n",
       "    </tr>\n",
       "    <tr>\n",
       "      <th>4</th>\n",
       "      <td>803</td>\n",
       "      <td>broken clouds</td>\n",
       "      <td>284.02</td>\n",
       "      <td>84</td>\n",
       "      <td>4.12</td>\n",
       "      <td>2022-04-11 19:16:54</td>\n",
       "      <td>2022-04-11 21:34:23</td>\n",
       "    </tr>\n",
       "    <tr>\n",
       "      <th>...</th>\n",
       "      <td>...</td>\n",
       "      <td>...</td>\n",
       "      <td>...</td>\n",
       "      <td>...</td>\n",
       "      <td>...</td>\n",
       "      <td>...</td>\n",
       "      <td>...</td>\n",
       "    </tr>\n",
       "    <tr>\n",
       "      <th>1027</th>\n",
       "      <td>803</td>\n",
       "      <td>broken clouds</td>\n",
       "      <td>288.12</td>\n",
       "      <td>76</td>\n",
       "      <td>6.17</td>\n",
       "      <td>2022-04-15 19:24:09</td>\n",
       "      <td>2022-04-15 10:53:23</td>\n",
       "    </tr>\n",
       "    <tr>\n",
       "      <th>1028</th>\n",
       "      <td>803</td>\n",
       "      <td>broken clouds</td>\n",
       "      <td>288.06</td>\n",
       "      <td>77</td>\n",
       "      <td>6.17</td>\n",
       "      <td>2022-04-15 19:24:09</td>\n",
       "      <td>2022-04-15 10:58:23</td>\n",
       "    </tr>\n",
       "    <tr>\n",
       "      <th>1029</th>\n",
       "      <td>803</td>\n",
       "      <td>broken clouds</td>\n",
       "      <td>288.06</td>\n",
       "      <td>77</td>\n",
       "      <td>6.17</td>\n",
       "      <td>2022-04-15 19:24:09</td>\n",
       "      <td>2022-04-15 11:03:24</td>\n",
       "    </tr>\n",
       "    <tr>\n",
       "      <th>1030</th>\n",
       "      <td>803</td>\n",
       "      <td>broken clouds</td>\n",
       "      <td>288.28</td>\n",
       "      <td>77</td>\n",
       "      <td>4.63</td>\n",
       "      <td>2022-04-15 19:24:09</td>\n",
       "      <td>2022-04-15 11:08:24</td>\n",
       "    </tr>\n",
       "    <tr>\n",
       "      <th>1031</th>\n",
       "      <td>803</td>\n",
       "      <td>broken clouds</td>\n",
       "      <td>288.28</td>\n",
       "      <td>77</td>\n",
       "      <td>4.63</td>\n",
       "      <td>2022-04-15 19:24:09</td>\n",
       "      <td>2022-04-15 11:13:24</td>\n",
       "    </tr>\n",
       "  </tbody>\n",
       "</table>\n",
       "<p>1032 rows × 7 columns</p>\n",
       "</div>"
      ],
      "text/plain": [
       "       id   description1  temperature  humidity  windspeed  \\\n",
       "0     803  broken clouds       284.17        84       6.69   \n",
       "1     803  broken clouds       284.12        84       4.12   \n",
       "2     803  broken clouds       284.12        84       4.12   \n",
       "3     803  broken clouds       284.12        84       4.12   \n",
       "4     803  broken clouds       284.02        84       4.12   \n",
       "...   ...            ...          ...       ...        ...   \n",
       "1027  803  broken clouds       288.12        76       6.17   \n",
       "1028  803  broken clouds       288.06        77       6.17   \n",
       "1029  803  broken clouds       288.06        77       6.17   \n",
       "1030  803  broken clouds       288.28        77       4.63   \n",
       "1031  803  broken clouds       288.28        77       4.63   \n",
       "\n",
       "                  sunset                TIME  \n",
       "0    2022-04-11 19:16:53 2022-04-11 21:14:23  \n",
       "1    2022-04-11 19:16:53 2022-04-11 21:19:23  \n",
       "2    2022-04-11 19:16:53 2022-04-11 21:24:23  \n",
       "3    2022-04-11 19:16:53 2022-04-11 21:29:23  \n",
       "4    2022-04-11 19:16:54 2022-04-11 21:34:23  \n",
       "...                  ...                 ...  \n",
       "1027 2022-04-15 19:24:09 2022-04-15 10:53:23  \n",
       "1028 2022-04-15 19:24:09 2022-04-15 10:58:23  \n",
       "1029 2022-04-15 19:24:09 2022-04-15 11:03:24  \n",
       "1030 2022-04-15 19:24:09 2022-04-15 11:08:24  \n",
       "1031 2022-04-15 19:24:09 2022-04-15 11:13:24  \n",
       "\n",
       "[1032 rows x 7 columns]"
      ]
     },
     "execution_count": 5,
     "metadata": {},
     "output_type": "execute_result"
    }
   ],
   "source": [
    "df_weather"
   ]
  },
  {
   "cell_type": "code",
   "execution_count": 6,
   "id": "f7b3bd62",
   "metadata": {},
   "outputs": [
    {
     "data": {
      "text/html": [
       "<div>\n",
       "<style scoped>\n",
       "    .dataframe tbody tr th:only-of-type {\n",
       "        vertical-align: middle;\n",
       "    }\n",
       "\n",
       "    .dataframe tbody tr th {\n",
       "        vertical-align: top;\n",
       "    }\n",
       "\n",
       "    .dataframe thead th {\n",
       "        text-align: right;\n",
       "    }\n",
       "</style>\n",
       "<table border=\"1\" class=\"dataframe\">\n",
       "  <thead>\n",
       "    <tr style=\"text-align: right;\">\n",
       "      <th></th>\n",
       "      <th>id</th>\n",
       "      <th>description1</th>\n",
       "      <th>temperature</th>\n",
       "      <th>humidity</th>\n",
       "      <th>windspeed</th>\n",
       "      <th>sunset</th>\n",
       "      <th>TIME</th>\n",
       "      <th>just_date</th>\n",
       "    </tr>\n",
       "  </thead>\n",
       "  <tbody>\n",
       "    <tr>\n",
       "      <th>0</th>\n",
       "      <td>803</td>\n",
       "      <td>broken clouds</td>\n",
       "      <td>284.17</td>\n",
       "      <td>84</td>\n",
       "      <td>6.69</td>\n",
       "      <td>2022-04-11 19:16:53</td>\n",
       "      <td>2022-04-11 21:14:23</td>\n",
       "      <td>2022-04-11</td>\n",
       "    </tr>\n",
       "    <tr>\n",
       "      <th>1</th>\n",
       "      <td>803</td>\n",
       "      <td>broken clouds</td>\n",
       "      <td>284.12</td>\n",
       "      <td>84</td>\n",
       "      <td>4.12</td>\n",
       "      <td>2022-04-11 19:16:53</td>\n",
       "      <td>2022-04-11 21:19:23</td>\n",
       "      <td>2022-04-11</td>\n",
       "    </tr>\n",
       "    <tr>\n",
       "      <th>2</th>\n",
       "      <td>803</td>\n",
       "      <td>broken clouds</td>\n",
       "      <td>284.12</td>\n",
       "      <td>84</td>\n",
       "      <td>4.12</td>\n",
       "      <td>2022-04-11 19:16:53</td>\n",
       "      <td>2022-04-11 21:24:23</td>\n",
       "      <td>2022-04-11</td>\n",
       "    </tr>\n",
       "    <tr>\n",
       "      <th>3</th>\n",
       "      <td>803</td>\n",
       "      <td>broken clouds</td>\n",
       "      <td>284.12</td>\n",
       "      <td>84</td>\n",
       "      <td>4.12</td>\n",
       "      <td>2022-04-11 19:16:53</td>\n",
       "      <td>2022-04-11 21:29:23</td>\n",
       "      <td>2022-04-11</td>\n",
       "    </tr>\n",
       "    <tr>\n",
       "      <th>4</th>\n",
       "      <td>803</td>\n",
       "      <td>broken clouds</td>\n",
       "      <td>284.02</td>\n",
       "      <td>84</td>\n",
       "      <td>4.12</td>\n",
       "      <td>2022-04-11 19:16:54</td>\n",
       "      <td>2022-04-11 21:34:23</td>\n",
       "      <td>2022-04-11</td>\n",
       "    </tr>\n",
       "    <tr>\n",
       "      <th>...</th>\n",
       "      <td>...</td>\n",
       "      <td>...</td>\n",
       "      <td>...</td>\n",
       "      <td>...</td>\n",
       "      <td>...</td>\n",
       "      <td>...</td>\n",
       "      <td>...</td>\n",
       "      <td>...</td>\n",
       "    </tr>\n",
       "    <tr>\n",
       "      <th>1027</th>\n",
       "      <td>803</td>\n",
       "      <td>broken clouds</td>\n",
       "      <td>288.12</td>\n",
       "      <td>76</td>\n",
       "      <td>6.17</td>\n",
       "      <td>2022-04-15 19:24:09</td>\n",
       "      <td>2022-04-15 10:53:23</td>\n",
       "      <td>2022-04-15</td>\n",
       "    </tr>\n",
       "    <tr>\n",
       "      <th>1028</th>\n",
       "      <td>803</td>\n",
       "      <td>broken clouds</td>\n",
       "      <td>288.06</td>\n",
       "      <td>77</td>\n",
       "      <td>6.17</td>\n",
       "      <td>2022-04-15 19:24:09</td>\n",
       "      <td>2022-04-15 10:58:23</td>\n",
       "      <td>2022-04-15</td>\n",
       "    </tr>\n",
       "    <tr>\n",
       "      <th>1029</th>\n",
       "      <td>803</td>\n",
       "      <td>broken clouds</td>\n",
       "      <td>288.06</td>\n",
       "      <td>77</td>\n",
       "      <td>6.17</td>\n",
       "      <td>2022-04-15 19:24:09</td>\n",
       "      <td>2022-04-15 11:03:24</td>\n",
       "      <td>2022-04-15</td>\n",
       "    </tr>\n",
       "    <tr>\n",
       "      <th>1030</th>\n",
       "      <td>803</td>\n",
       "      <td>broken clouds</td>\n",
       "      <td>288.28</td>\n",
       "      <td>77</td>\n",
       "      <td>4.63</td>\n",
       "      <td>2022-04-15 19:24:09</td>\n",
       "      <td>2022-04-15 11:08:24</td>\n",
       "      <td>2022-04-15</td>\n",
       "    </tr>\n",
       "    <tr>\n",
       "      <th>1031</th>\n",
       "      <td>803</td>\n",
       "      <td>broken clouds</td>\n",
       "      <td>288.28</td>\n",
       "      <td>77</td>\n",
       "      <td>4.63</td>\n",
       "      <td>2022-04-15 19:24:09</td>\n",
       "      <td>2022-04-15 11:13:24</td>\n",
       "      <td>2022-04-15</td>\n",
       "    </tr>\n",
       "  </tbody>\n",
       "</table>\n",
       "<p>1032 rows × 8 columns</p>\n",
       "</div>"
      ],
      "text/plain": [
       "       id   description1  temperature  humidity  windspeed  \\\n",
       "0     803  broken clouds       284.17        84       6.69   \n",
       "1     803  broken clouds       284.12        84       4.12   \n",
       "2     803  broken clouds       284.12        84       4.12   \n",
       "3     803  broken clouds       284.12        84       4.12   \n",
       "4     803  broken clouds       284.02        84       4.12   \n",
       "...   ...            ...          ...       ...        ...   \n",
       "1027  803  broken clouds       288.12        76       6.17   \n",
       "1028  803  broken clouds       288.06        77       6.17   \n",
       "1029  803  broken clouds       288.06        77       6.17   \n",
       "1030  803  broken clouds       288.28        77       4.63   \n",
       "1031  803  broken clouds       288.28        77       4.63   \n",
       "\n",
       "                  sunset                TIME   just_date  \n",
       "0    2022-04-11 19:16:53 2022-04-11 21:14:23  2022-04-11  \n",
       "1    2022-04-11 19:16:53 2022-04-11 21:19:23  2022-04-11  \n",
       "2    2022-04-11 19:16:53 2022-04-11 21:24:23  2022-04-11  \n",
       "3    2022-04-11 19:16:53 2022-04-11 21:29:23  2022-04-11  \n",
       "4    2022-04-11 19:16:54 2022-04-11 21:34:23  2022-04-11  \n",
       "...                  ...                 ...         ...  \n",
       "1027 2022-04-15 19:24:09 2022-04-15 10:53:23  2022-04-15  \n",
       "1028 2022-04-15 19:24:09 2022-04-15 10:58:23  2022-04-15  \n",
       "1029 2022-04-15 19:24:09 2022-04-15 11:03:24  2022-04-15  \n",
       "1030 2022-04-15 19:24:09 2022-04-15 11:08:24  2022-04-15  \n",
       "1031 2022-04-15 19:24:09 2022-04-15 11:13:24  2022-04-15  \n",
       "\n",
       "[1032 rows x 8 columns]"
      ]
     },
     "execution_count": 6,
     "metadata": {},
     "output_type": "execute_result"
    }
   ],
   "source": [
    "df_weather['just_date'] = df_weather['sunset'].dt.date\n",
    "df_weather"
   ]
  },
  {
   "cell_type": "code",
   "execution_count": 7,
   "id": "75708f42",
   "metadata": {},
   "outputs": [
    {
     "data": {
      "text/plain": [
       "id                       int64\n",
       "description1            object\n",
       "temperature            float64\n",
       "humidity                 int64\n",
       "windspeed              float64\n",
       "sunset          datetime64[ns]\n",
       "TIME            datetime64[ns]\n",
       "just_date               object\n",
       "dtype: object"
      ]
     },
     "execution_count": 7,
     "metadata": {},
     "output_type": "execute_result"
    }
   ],
   "source": [
    "df_weather.dtypes\n"
   ]
  },
  {
   "cell_type": "markdown",
   "id": "b2fc5d2a",
   "metadata": {},
   "source": [
    "### Availablity Data"
   ]
  },
  {
   "cell_type": "code",
   "execution_count": 8,
   "id": "b4795c59",
   "metadata": {},
   "outputs": [],
   "source": [
    "def availability():\n",
    "    engine = create_engine(\"mysql+mysqldb://{}:{}@{}:{}/{}\".format(USER, PASSWORD, URL, PORT, DB), echo=True)\n",
    "    df_avail = pd.read_sql_table(\"availability\", engine)\n",
    "    return df_avail"
   ]
  },
  {
   "cell_type": "code",
   "execution_count": 9,
   "id": "3e25d947",
   "metadata": {},
   "outputs": [
    {
     "name": "stdout",
     "output_type": "stream",
     "text": [
      "2022-04-15 12:14:31,642 INFO sqlalchemy.engine.Engine SHOW VARIABLES LIKE 'sql_mode'\n",
      "2022-04-15 12:14:31,642 INFO sqlalchemy.engine.Engine [raw sql] ()\n",
      "2022-04-15 12:14:31,774 INFO sqlalchemy.engine.Engine SHOW VARIABLES LIKE 'lower_case_table_names'\n",
      "2022-04-15 12:14:31,776 INFO sqlalchemy.engine.Engine [generated in 0.00125s] ()\n",
      "2022-04-15 12:14:32,017 INFO sqlalchemy.engine.Engine SELECT DATABASE()\n",
      "2022-04-15 12:14:32,017 INFO sqlalchemy.engine.Engine [raw sql] ()\n",
      "2022-04-15 12:14:32,476 INFO sqlalchemy.engine.Engine SHOW FULL TABLES FROM `dbikes`\n",
      "2022-04-15 12:14:32,476 INFO sqlalchemy.engine.Engine [raw sql] ()\n",
      "2022-04-15 12:14:32,649 INFO sqlalchemy.engine.Engine SHOW FULL TABLES FROM `dbikes`\n",
      "2022-04-15 12:14:32,649 INFO sqlalchemy.engine.Engine [raw sql] ()\n",
      "2022-04-15 12:14:32,807 INFO sqlalchemy.engine.Engine SHOW CREATE TABLE `availability`\n",
      "2022-04-15 12:14:32,807 INFO sqlalchemy.engine.Engine [raw sql] ()\n",
      "2022-04-15 12:14:33,107 INFO sqlalchemy.engine.Engine SELECT availability.number, availability.available_bike_stands, availability.available_bikes, availability.last_update \n",
      "FROM availability\n",
      "2022-04-15 12:14:33,107 INFO sqlalchemy.engine.Engine [generated in 0.00266s] ()\n"
     ]
    }
   ],
   "source": [
    "df_avail = availability()"
   ]
  },
  {
   "cell_type": "code",
   "execution_count": 10,
   "id": "fdd945fc",
   "metadata": {
    "scrolled": true
   },
   "outputs": [
    {
     "data": {
      "text/html": [
       "<div>\n",
       "<style scoped>\n",
       "    .dataframe tbody tr th:only-of-type {\n",
       "        vertical-align: middle;\n",
       "    }\n",
       "\n",
       "    .dataframe tbody tr th {\n",
       "        vertical-align: top;\n",
       "    }\n",
       "\n",
       "    .dataframe thead th {\n",
       "        text-align: right;\n",
       "    }\n",
       "</style>\n",
       "<table border=\"1\" class=\"dataframe\">\n",
       "  <thead>\n",
       "    <tr style=\"text-align: right;\">\n",
       "      <th></th>\n",
       "      <th>number</th>\n",
       "      <th>available_bike_stands</th>\n",
       "      <th>available_bikes</th>\n",
       "      <th>last_update</th>\n",
       "    </tr>\n",
       "  </thead>\n",
       "  <tbody>\n",
       "    <tr>\n",
       "      <th>0</th>\n",
       "      <td>52</td>\n",
       "      <td>1</td>\n",
       "      <td>31</td>\n",
       "      <td>2022-04-07 15:21:18</td>\n",
       "    </tr>\n",
       "    <tr>\n",
       "      <th>1</th>\n",
       "      <td>16</td>\n",
       "      <td>11</td>\n",
       "      <td>9</td>\n",
       "      <td>2022-04-07 15:21:17</td>\n",
       "    </tr>\n",
       "    <tr>\n",
       "      <th>2</th>\n",
       "      <td>111</td>\n",
       "      <td>18</td>\n",
       "      <td>22</td>\n",
       "      <td>2022-04-07 15:21:01</td>\n",
       "    </tr>\n",
       "    <tr>\n",
       "      <th>3</th>\n",
       "      <td>15</td>\n",
       "      <td>8</td>\n",
       "      <td>8</td>\n",
       "      <td>2022-04-07 15:21:07</td>\n",
       "    </tr>\n",
       "    <tr>\n",
       "      <th>4</th>\n",
       "      <td>10</td>\n",
       "      <td>16</td>\n",
       "      <td>0</td>\n",
       "      <td>2022-04-07 15:21:10</td>\n",
       "    </tr>\n",
       "    <tr>\n",
       "      <th>...</th>\n",
       "      <td>...</td>\n",
       "      <td>...</td>\n",
       "      <td>...</td>\n",
       "      <td>...</td>\n",
       "    </tr>\n",
       "    <tr>\n",
       "      <th>246829</th>\n",
       "      <td>39</td>\n",
       "      <td>12</td>\n",
       "      <td>8</td>\n",
       "      <td>2022-04-15 11:10:53</td>\n",
       "    </tr>\n",
       "    <tr>\n",
       "      <th>246830</th>\n",
       "      <td>83</td>\n",
       "      <td>29</td>\n",
       "      <td>11</td>\n",
       "      <td>2022-04-15 11:10:04</td>\n",
       "    </tr>\n",
       "    <tr>\n",
       "      <th>246831</th>\n",
       "      <td>92</td>\n",
       "      <td>29</td>\n",
       "      <td>11</td>\n",
       "      <td>2022-04-15 11:11:41</td>\n",
       "    </tr>\n",
       "    <tr>\n",
       "      <th>246832</th>\n",
       "      <td>21</td>\n",
       "      <td>18</td>\n",
       "      <td>12</td>\n",
       "      <td>2022-04-15 11:11:31</td>\n",
       "    </tr>\n",
       "    <tr>\n",
       "      <th>246833</th>\n",
       "      <td>88</td>\n",
       "      <td>19</td>\n",
       "      <td>11</td>\n",
       "      <td>2022-04-15 11:10:26</td>\n",
       "    </tr>\n",
       "  </tbody>\n",
       "</table>\n",
       "<p>246834 rows × 4 columns</p>\n",
       "</div>"
      ],
      "text/plain": [
       "        number  available_bike_stands  available_bikes         last_update\n",
       "0           52                      1               31 2022-04-07 15:21:18\n",
       "1           16                     11                9 2022-04-07 15:21:17\n",
       "2          111                     18               22 2022-04-07 15:21:01\n",
       "3           15                      8                8 2022-04-07 15:21:07\n",
       "4           10                     16                0 2022-04-07 15:21:10\n",
       "...        ...                    ...              ...                 ...\n",
       "246829      39                     12                8 2022-04-15 11:10:53\n",
       "246830      83                     29               11 2022-04-15 11:10:04\n",
       "246831      92                     29               11 2022-04-15 11:11:41\n",
       "246832      21                     18               12 2022-04-15 11:11:31\n",
       "246833      88                     19               11 2022-04-15 11:10:26\n",
       "\n",
       "[246834 rows x 4 columns]"
      ]
     },
     "execution_count": 10,
     "metadata": {},
     "output_type": "execute_result"
    }
   ],
   "source": [
    "df_avail"
   ]
  },
  {
   "cell_type": "code",
   "execution_count": 11,
   "id": "a99cd73d",
   "metadata": {},
   "outputs": [],
   "source": [
    "df_avail['day'] = df_avail['last_update'].dt.day_of_week\n",
    "df_avail['hour'] = df_avail['last_update'].dt.hour\n",
    "df_avail['just_date'] = df_avail['last_update'].dt.date\n",
    "\n",
    "\n"
   ]
  },
  {
   "cell_type": "code",
   "execution_count": 12,
   "id": "8f015a42",
   "metadata": {},
   "outputs": [
    {
     "data": {
      "text/html": [
       "<div>\n",
       "<style scoped>\n",
       "    .dataframe tbody tr th:only-of-type {\n",
       "        vertical-align: middle;\n",
       "    }\n",
       "\n",
       "    .dataframe tbody tr th {\n",
       "        vertical-align: top;\n",
       "    }\n",
       "\n",
       "    .dataframe thead th {\n",
       "        text-align: right;\n",
       "    }\n",
       "</style>\n",
       "<table border=\"1\" class=\"dataframe\">\n",
       "  <thead>\n",
       "    <tr style=\"text-align: right;\">\n",
       "      <th></th>\n",
       "      <th>number</th>\n",
       "      <th>available_bike_stands</th>\n",
       "      <th>available_bikes</th>\n",
       "      <th>last_update</th>\n",
       "      <th>day</th>\n",
       "      <th>hour</th>\n",
       "      <th>just_date</th>\n",
       "    </tr>\n",
       "  </thead>\n",
       "  <tbody>\n",
       "    <tr>\n",
       "      <th>0</th>\n",
       "      <td>52</td>\n",
       "      <td>1</td>\n",
       "      <td>31</td>\n",
       "      <td>2022-04-07 15:21:18</td>\n",
       "      <td>3</td>\n",
       "      <td>15</td>\n",
       "      <td>2022-04-07</td>\n",
       "    </tr>\n",
       "    <tr>\n",
       "      <th>1</th>\n",
       "      <td>16</td>\n",
       "      <td>11</td>\n",
       "      <td>9</td>\n",
       "      <td>2022-04-07 15:21:17</td>\n",
       "      <td>3</td>\n",
       "      <td>15</td>\n",
       "      <td>2022-04-07</td>\n",
       "    </tr>\n",
       "    <tr>\n",
       "      <th>2</th>\n",
       "      <td>111</td>\n",
       "      <td>18</td>\n",
       "      <td>22</td>\n",
       "      <td>2022-04-07 15:21:01</td>\n",
       "      <td>3</td>\n",
       "      <td>15</td>\n",
       "      <td>2022-04-07</td>\n",
       "    </tr>\n",
       "    <tr>\n",
       "      <th>3</th>\n",
       "      <td>15</td>\n",
       "      <td>8</td>\n",
       "      <td>8</td>\n",
       "      <td>2022-04-07 15:21:07</td>\n",
       "      <td>3</td>\n",
       "      <td>15</td>\n",
       "      <td>2022-04-07</td>\n",
       "    </tr>\n",
       "    <tr>\n",
       "      <th>4</th>\n",
       "      <td>10</td>\n",
       "      <td>16</td>\n",
       "      <td>0</td>\n",
       "      <td>2022-04-07 15:21:10</td>\n",
       "      <td>3</td>\n",
       "      <td>15</td>\n",
       "      <td>2022-04-07</td>\n",
       "    </tr>\n",
       "    <tr>\n",
       "      <th>...</th>\n",
       "      <td>...</td>\n",
       "      <td>...</td>\n",
       "      <td>...</td>\n",
       "      <td>...</td>\n",
       "      <td>...</td>\n",
       "      <td>...</td>\n",
       "      <td>...</td>\n",
       "    </tr>\n",
       "    <tr>\n",
       "      <th>246829</th>\n",
       "      <td>39</td>\n",
       "      <td>12</td>\n",
       "      <td>8</td>\n",
       "      <td>2022-04-15 11:10:53</td>\n",
       "      <td>4</td>\n",
       "      <td>11</td>\n",
       "      <td>2022-04-15</td>\n",
       "    </tr>\n",
       "    <tr>\n",
       "      <th>246830</th>\n",
       "      <td>83</td>\n",
       "      <td>29</td>\n",
       "      <td>11</td>\n",
       "      <td>2022-04-15 11:10:04</td>\n",
       "      <td>4</td>\n",
       "      <td>11</td>\n",
       "      <td>2022-04-15</td>\n",
       "    </tr>\n",
       "    <tr>\n",
       "      <th>246831</th>\n",
       "      <td>92</td>\n",
       "      <td>29</td>\n",
       "      <td>11</td>\n",
       "      <td>2022-04-15 11:11:41</td>\n",
       "      <td>4</td>\n",
       "      <td>11</td>\n",
       "      <td>2022-04-15</td>\n",
       "    </tr>\n",
       "    <tr>\n",
       "      <th>246832</th>\n",
       "      <td>21</td>\n",
       "      <td>18</td>\n",
       "      <td>12</td>\n",
       "      <td>2022-04-15 11:11:31</td>\n",
       "      <td>4</td>\n",
       "      <td>11</td>\n",
       "      <td>2022-04-15</td>\n",
       "    </tr>\n",
       "    <tr>\n",
       "      <th>246833</th>\n",
       "      <td>88</td>\n",
       "      <td>19</td>\n",
       "      <td>11</td>\n",
       "      <td>2022-04-15 11:10:26</td>\n",
       "      <td>4</td>\n",
       "      <td>11</td>\n",
       "      <td>2022-04-15</td>\n",
       "    </tr>\n",
       "  </tbody>\n",
       "</table>\n",
       "<p>246834 rows × 7 columns</p>\n",
       "</div>"
      ],
      "text/plain": [
       "        number  available_bike_stands  available_bikes         last_update  \\\n",
       "0           52                      1               31 2022-04-07 15:21:18   \n",
       "1           16                     11                9 2022-04-07 15:21:17   \n",
       "2          111                     18               22 2022-04-07 15:21:01   \n",
       "3           15                      8                8 2022-04-07 15:21:07   \n",
       "4           10                     16                0 2022-04-07 15:21:10   \n",
       "...        ...                    ...              ...                 ...   \n",
       "246829      39                     12                8 2022-04-15 11:10:53   \n",
       "246830      83                     29               11 2022-04-15 11:10:04   \n",
       "246831      92                     29               11 2022-04-15 11:11:41   \n",
       "246832      21                     18               12 2022-04-15 11:11:31   \n",
       "246833      88                     19               11 2022-04-15 11:10:26   \n",
       "\n",
       "        day  hour   just_date  \n",
       "0         3    15  2022-04-07  \n",
       "1         3    15  2022-04-07  \n",
       "2         3    15  2022-04-07  \n",
       "3         3    15  2022-04-07  \n",
       "4         3    15  2022-04-07  \n",
       "...     ...   ...         ...  \n",
       "246829    4    11  2022-04-15  \n",
       "246830    4    11  2022-04-15  \n",
       "246831    4    11  2022-04-15  \n",
       "246832    4    11  2022-04-15  \n",
       "246833    4    11  2022-04-15  \n",
       "\n",
       "[246834 rows x 7 columns]"
      ]
     },
     "execution_count": 12,
     "metadata": {},
     "output_type": "execute_result"
    }
   ],
   "source": [
    "df_avail"
   ]
  },
  {
   "cell_type": "code",
   "execution_count": 13,
   "id": "e7b2a757",
   "metadata": {},
   "outputs": [
    {
     "data": {
      "text/html": [
       "<div>\n",
       "<style scoped>\n",
       "    .dataframe tbody tr th:only-of-type {\n",
       "        vertical-align: middle;\n",
       "    }\n",
       "\n",
       "    .dataframe tbody tr th {\n",
       "        vertical-align: top;\n",
       "    }\n",
       "\n",
       "    .dataframe thead th {\n",
       "        text-align: right;\n",
       "    }\n",
       "</style>\n",
       "<table border=\"1\" class=\"dataframe\">\n",
       "  <thead>\n",
       "    <tr style=\"text-align: right;\">\n",
       "      <th></th>\n",
       "      <th>number</th>\n",
       "      <th>available_bike_stands</th>\n",
       "      <th>available_bikes</th>\n",
       "      <th>day</th>\n",
       "      <th>hour</th>\n",
       "    </tr>\n",
       "  </thead>\n",
       "  <tbody>\n",
       "    <tr>\n",
       "      <th>number</th>\n",
       "      <td>1.000000</td>\n",
       "      <td>0.115992</td>\n",
       "      <td>0.235326</td>\n",
       "      <td>-0.012717</td>\n",
       "      <td>0.004209</td>\n",
       "    </tr>\n",
       "    <tr>\n",
       "      <th>available_bike_stands</th>\n",
       "      <td>0.115992</td>\n",
       "      <td>1.000000</td>\n",
       "      <td>-0.718933</td>\n",
       "      <td>0.006964</td>\n",
       "      <td>-0.011338</td>\n",
       "    </tr>\n",
       "    <tr>\n",
       "      <th>available_bikes</th>\n",
       "      <td>0.235326</td>\n",
       "      <td>-0.718933</td>\n",
       "      <td>1.000000</td>\n",
       "      <td>-0.001950</td>\n",
       "      <td>0.010084</td>\n",
       "    </tr>\n",
       "    <tr>\n",
       "      <th>day</th>\n",
       "      <td>-0.012717</td>\n",
       "      <td>0.006964</td>\n",
       "      <td>-0.001950</td>\n",
       "      <td>1.000000</td>\n",
       "      <td>-0.028887</td>\n",
       "    </tr>\n",
       "    <tr>\n",
       "      <th>hour</th>\n",
       "      <td>0.004209</td>\n",
       "      <td>-0.011338</td>\n",
       "      <td>0.010084</td>\n",
       "      <td>-0.028887</td>\n",
       "      <td>1.000000</td>\n",
       "    </tr>\n",
       "  </tbody>\n",
       "</table>\n",
       "</div>"
      ],
      "text/plain": [
       "                         number  available_bike_stands  available_bikes  \\\n",
       "number                 1.000000               0.115992         0.235326   \n",
       "available_bike_stands  0.115992               1.000000        -0.718933   \n",
       "available_bikes        0.235326              -0.718933         1.000000   \n",
       "day                   -0.012717               0.006964        -0.001950   \n",
       "hour                   0.004209              -0.011338         0.010084   \n",
       "\n",
       "                            day      hour  \n",
       "number                -0.012717  0.004209  \n",
       "available_bike_stands  0.006964 -0.011338  \n",
       "available_bikes       -0.001950  0.010084  \n",
       "day                    1.000000 -0.028887  \n",
       "hour                  -0.028887  1.000000  "
      ]
     },
     "execution_count": 13,
     "metadata": {},
     "output_type": "execute_result"
    }
   ],
   "source": [
    "df_avail.corr()"
   ]
  },
  {
   "cell_type": "code",
   "execution_count": 14,
   "id": "9991acd7",
   "metadata": {},
   "outputs": [
    {
     "data": {
      "text/html": [
       "<div>\n",
       "<style scoped>\n",
       "    .dataframe tbody tr th:only-of-type {\n",
       "        vertical-align: middle;\n",
       "    }\n",
       "\n",
       "    .dataframe tbody tr th {\n",
       "        vertical-align: top;\n",
       "    }\n",
       "\n",
       "    .dataframe thead th {\n",
       "        text-align: right;\n",
       "    }\n",
       "</style>\n",
       "<table border=\"1\" class=\"dataframe\">\n",
       "  <thead>\n",
       "    <tr style=\"text-align: right;\">\n",
       "      <th></th>\n",
       "      <th>number</th>\n",
       "      <th>available_bike_stands</th>\n",
       "      <th>available_bikes</th>\n",
       "      <th>hour</th>\n",
       "    </tr>\n",
       "    <tr>\n",
       "      <th>day</th>\n",
       "      <th></th>\n",
       "      <th></th>\n",
       "      <th></th>\n",
       "      <th></th>\n",
       "    </tr>\n",
       "  </thead>\n",
       "  <tbody>\n",
       "    <tr>\n",
       "      <th>0</th>\n",
       "      <td>60.322943</td>\n",
       "      <td>12.604739</td>\n",
       "      <td>19.287434</td>\n",
       "      <td>11.483892</td>\n",
       "    </tr>\n",
       "    <tr>\n",
       "      <th>1</th>\n",
       "      <td>63.682795</td>\n",
       "      <td>12.686169</td>\n",
       "      <td>18.994007</td>\n",
       "      <td>11.484908</td>\n",
       "    </tr>\n",
       "    <tr>\n",
       "      <th>2</th>\n",
       "      <td>60.330250</td>\n",
       "      <td>12.568917</td>\n",
       "      <td>19.249698</td>\n",
       "      <td>11.446564</td>\n",
       "    </tr>\n",
       "    <tr>\n",
       "      <th>3</th>\n",
       "      <td>60.315740</td>\n",
       "      <td>12.550214</td>\n",
       "      <td>19.316953</td>\n",
       "      <td>13.496993</td>\n",
       "    </tr>\n",
       "    <tr>\n",
       "      <th>4</th>\n",
       "      <td>60.324441</td>\n",
       "      <td>12.743964</td>\n",
       "      <td>19.149477</td>\n",
       "      <td>9.444533</td>\n",
       "    </tr>\n",
       "    <tr>\n",
       "      <th>5</th>\n",
       "      <td>60.325645</td>\n",
       "      <td>12.755719</td>\n",
       "      <td>19.178981</td>\n",
       "      <td>11.462233</td>\n",
       "    </tr>\n",
       "    <tr>\n",
       "      <th>6</th>\n",
       "      <td>60.334711</td>\n",
       "      <td>12.803992</td>\n",
       "      <td>19.097956</td>\n",
       "      <td>11.472873</td>\n",
       "    </tr>\n",
       "  </tbody>\n",
       "</table>\n",
       "</div>"
      ],
      "text/plain": [
       "        number  available_bike_stands  available_bikes       hour\n",
       "day                                                              \n",
       "0    60.322943              12.604739        19.287434  11.483892\n",
       "1    63.682795              12.686169        18.994007  11.484908\n",
       "2    60.330250              12.568917        19.249698  11.446564\n",
       "3    60.315740              12.550214        19.316953  13.496993\n",
       "4    60.324441              12.743964        19.149477   9.444533\n",
       "5    60.325645              12.755719        19.178981  11.462233\n",
       "6    60.334711              12.803992        19.097956  11.472873"
      ]
     },
     "execution_count": 14,
     "metadata": {},
     "output_type": "execute_result"
    }
   ],
   "source": [
    "df_avail.groupby(['day']).mean()"
   ]
  },
  {
   "cell_type": "code",
   "execution_count": 15,
   "id": "e218b68c",
   "metadata": {},
   "outputs": [
    {
     "data": {
      "text/plain": [
       "number                            int64\n",
       "available_bike_stands             int64\n",
       "available_bikes                   int64\n",
       "last_update              datetime64[ns]\n",
       "day                               int64\n",
       "hour                              int64\n",
       "just_date                        object\n",
       "dtype: object"
      ]
     },
     "execution_count": 15,
     "metadata": {},
     "output_type": "execute_result"
    }
   ],
   "source": [
    "df_avail.dtypes\n"
   ]
  },
  {
   "cell_type": "code",
   "execution_count": 16,
   "id": "feb645aa",
   "metadata": {},
   "outputs": [],
   "source": [
    "df_avail[\"number\"] = df_avail[\"number\"].astype('category')  \n"
   ]
  },
  {
   "cell_type": "code",
   "execution_count": 17,
   "id": "b9107633",
   "metadata": {},
   "outputs": [
    {
     "data": {
      "text/plain": [
       "(246834, 7)"
      ]
     },
     "execution_count": 17,
     "metadata": {},
     "output_type": "execute_result"
    }
   ],
   "source": [
    "df_avail.shape"
   ]
  },
  {
   "cell_type": "code",
   "execution_count": 18,
   "id": "6d4c1029",
   "metadata": {},
   "outputs": [
    {
     "data": {
      "text/html": [
       "<div>\n",
       "<style scoped>\n",
       "    .dataframe tbody tr th:only-of-type {\n",
       "        vertical-align: middle;\n",
       "    }\n",
       "\n",
       "    .dataframe tbody tr th {\n",
       "        vertical-align: top;\n",
       "    }\n",
       "\n",
       "    .dataframe thead th {\n",
       "        text-align: right;\n",
       "    }\n",
       "</style>\n",
       "<table border=\"1\" class=\"dataframe\">\n",
       "  <thead>\n",
       "    <tr style=\"text-align: right;\">\n",
       "      <th></th>\n",
       "      <th>count</th>\n",
       "      <th>mean</th>\n",
       "      <th>std</th>\n",
       "      <th>min</th>\n",
       "      <th>25%</th>\n",
       "      <th>50%</th>\n",
       "      <th>75%</th>\n",
       "      <th>max</th>\n",
       "    </tr>\n",
       "  </thead>\n",
       "  <tbody>\n",
       "    <tr>\n",
       "      <th>available_bike_stands</th>\n",
       "      <td>246834.0</td>\n",
       "      <td>12.671909</td>\n",
       "      <td>9.087127</td>\n",
       "      <td>0.0</td>\n",
       "      <td>5.0</td>\n",
       "      <td>12.0</td>\n",
       "      <td>18.0</td>\n",
       "      <td>40.0</td>\n",
       "    </tr>\n",
       "    <tr>\n",
       "      <th>available_bikes</th>\n",
       "      <td>246834.0</td>\n",
       "      <td>19.186234</td>\n",
       "      <td>10.763253</td>\n",
       "      <td>0.0</td>\n",
       "      <td>11.0</td>\n",
       "      <td>19.0</td>\n",
       "      <td>28.0</td>\n",
       "      <td>40.0</td>\n",
       "    </tr>\n",
       "    <tr>\n",
       "      <th>day</th>\n",
       "      <td>246834.0</td>\n",
       "      <td>3.057200</td>\n",
       "      <td>1.906514</td>\n",
       "      <td>0.0</td>\n",
       "      <td>1.0</td>\n",
       "      <td>3.0</td>\n",
       "      <td>5.0</td>\n",
       "      <td>6.0</td>\n",
       "    </tr>\n",
       "    <tr>\n",
       "      <th>hour</th>\n",
       "      <td>246834.0</td>\n",
       "      <td>11.443387</td>\n",
       "      <td>6.981405</td>\n",
       "      <td>0.0</td>\n",
       "      <td>5.0</td>\n",
       "      <td>11.0</td>\n",
       "      <td>18.0</td>\n",
       "      <td>23.0</td>\n",
       "    </tr>\n",
       "  </tbody>\n",
       "</table>\n",
       "</div>"
      ],
      "text/plain": [
       "                          count       mean        std  min   25%   50%   75%  \\\n",
       "available_bike_stands  246834.0  12.671909   9.087127  0.0   5.0  12.0  18.0   \n",
       "available_bikes        246834.0  19.186234  10.763253  0.0  11.0  19.0  28.0   \n",
       "day                    246834.0   3.057200   1.906514  0.0   1.0   3.0   5.0   \n",
       "hour                   246834.0  11.443387   6.981405  0.0   5.0  11.0  18.0   \n",
       "\n",
       "                        max  \n",
       "available_bike_stands  40.0  \n",
       "available_bikes        40.0  \n",
       "day                     6.0  \n",
       "hour                   23.0  "
      ]
     },
     "execution_count": 18,
     "metadata": {},
     "output_type": "execute_result"
    }
   ],
   "source": [
    "df_avail.describe().T"
   ]
  },
  {
   "cell_type": "markdown",
   "id": "aa9b3939",
   "metadata": {},
   "source": [
    "### why is there 111 stations there should only 110?"
   ]
  },
  {
   "cell_type": "code",
   "execution_count": 19,
   "id": "f165e5a0",
   "metadata": {},
   "outputs": [
    {
     "data": {
      "text/plain": [
       "count     246834\n",
       "unique       111\n",
       "top           16\n",
       "freq        2243\n",
       "Name: number, dtype: int64"
      ]
     },
     "execution_count": 19,
     "metadata": {},
     "output_type": "execute_result"
    }
   ],
   "source": [
    "df_avail[\"number\"].describe().T"
   ]
  },
  {
   "cell_type": "markdown",
   "id": "f06e64c7",
   "metadata": {},
   "source": [
    "### Removing illogical data from dataset"
   ]
  },
  {
   "cell_type": "code",
   "execution_count": 20,
   "id": "e7ddaff2",
   "metadata": {},
   "outputs": [
    {
     "data": {
      "text/html": [
       "<div>\n",
       "<style scoped>\n",
       "    .dataframe tbody tr th:only-of-type {\n",
       "        vertical-align: middle;\n",
       "    }\n",
       "\n",
       "    .dataframe tbody tr th {\n",
       "        vertical-align: top;\n",
       "    }\n",
       "\n",
       "    .dataframe thead th {\n",
       "        text-align: right;\n",
       "    }\n",
       "</style>\n",
       "<table border=\"1\" class=\"dataframe\">\n",
       "  <thead>\n",
       "    <tr style=\"text-align: right;\">\n",
       "      <th></th>\n",
       "      <th>number</th>\n",
       "      <th>available_bike_stands</th>\n",
       "      <th>available_bikes</th>\n",
       "      <th>last_update</th>\n",
       "      <th>day</th>\n",
       "      <th>hour</th>\n",
       "      <th>just_date</th>\n",
       "    </tr>\n",
       "  </thead>\n",
       "  <tbody>\n",
       "    <tr>\n",
       "      <th>220498</th>\n",
       "      <td>507</td>\n",
       "      <td>1</td>\n",
       "      <td>0</td>\n",
       "      <td>2022-04-05 14:15:05</td>\n",
       "      <td>1</td>\n",
       "      <td>14</td>\n",
       "      <td>2022-04-05</td>\n",
       "    </tr>\n",
       "    <tr>\n",
       "      <th>220609</th>\n",
       "      <td>507</td>\n",
       "      <td>1</td>\n",
       "      <td>0</td>\n",
       "      <td>2022-04-05 14:15:05</td>\n",
       "      <td>1</td>\n",
       "      <td>14</td>\n",
       "      <td>2022-04-05</td>\n",
       "    </tr>\n",
       "    <tr>\n",
       "      <th>220720</th>\n",
       "      <td>507</td>\n",
       "      <td>1</td>\n",
       "      <td>0</td>\n",
       "      <td>2022-04-05 14:15:05</td>\n",
       "      <td>1</td>\n",
       "      <td>14</td>\n",
       "      <td>2022-04-05</td>\n",
       "    </tr>\n",
       "    <tr>\n",
       "      <th>220831</th>\n",
       "      <td>507</td>\n",
       "      <td>1</td>\n",
       "      <td>0</td>\n",
       "      <td>2022-04-05 14:15:05</td>\n",
       "      <td>1</td>\n",
       "      <td>14</td>\n",
       "      <td>2022-04-05</td>\n",
       "    </tr>\n",
       "    <tr>\n",
       "      <th>220942</th>\n",
       "      <td>507</td>\n",
       "      <td>1</td>\n",
       "      <td>0</td>\n",
       "      <td>2022-04-05 14:15:05</td>\n",
       "      <td>1</td>\n",
       "      <td>14</td>\n",
       "      <td>2022-04-05</td>\n",
       "    </tr>\n",
       "    <tr>\n",
       "      <th>...</th>\n",
       "      <td>...</td>\n",
       "      <td>...</td>\n",
       "      <td>...</td>\n",
       "      <td>...</td>\n",
       "      <td>...</td>\n",
       "      <td>...</td>\n",
       "      <td>...</td>\n",
       "    </tr>\n",
       "    <tr>\n",
       "      <th>246361</th>\n",
       "      <td>507</td>\n",
       "      <td>1</td>\n",
       "      <td>0</td>\n",
       "      <td>2022-04-05 14:15:05</td>\n",
       "      <td>1</td>\n",
       "      <td>14</td>\n",
       "      <td>2022-04-05</td>\n",
       "    </tr>\n",
       "    <tr>\n",
       "      <th>246472</th>\n",
       "      <td>507</td>\n",
       "      <td>1</td>\n",
       "      <td>0</td>\n",
       "      <td>2022-04-05 14:15:05</td>\n",
       "      <td>1</td>\n",
       "      <td>14</td>\n",
       "      <td>2022-04-05</td>\n",
       "    </tr>\n",
       "    <tr>\n",
       "      <th>246583</th>\n",
       "      <td>507</td>\n",
       "      <td>1</td>\n",
       "      <td>0</td>\n",
       "      <td>2022-04-05 14:15:05</td>\n",
       "      <td>1</td>\n",
       "      <td>14</td>\n",
       "      <td>2022-04-05</td>\n",
       "    </tr>\n",
       "    <tr>\n",
       "      <th>246694</th>\n",
       "      <td>507</td>\n",
       "      <td>1</td>\n",
       "      <td>0</td>\n",
       "      <td>2022-04-05 14:15:05</td>\n",
       "      <td>1</td>\n",
       "      <td>14</td>\n",
       "      <td>2022-04-05</td>\n",
       "    </tr>\n",
       "    <tr>\n",
       "      <th>246805</th>\n",
       "      <td>507</td>\n",
       "      <td>1</td>\n",
       "      <td>0</td>\n",
       "      <td>2022-04-05 14:15:05</td>\n",
       "      <td>1</td>\n",
       "      <td>14</td>\n",
       "      <td>2022-04-05</td>\n",
       "    </tr>\n",
       "  </tbody>\n",
       "</table>\n",
       "<p>238 rows × 7 columns</p>\n",
       "</div>"
      ],
      "text/plain": [
       "       number  available_bike_stands  available_bikes         last_update  \\\n",
       "220498    507                      1                0 2022-04-05 14:15:05   \n",
       "220609    507                      1                0 2022-04-05 14:15:05   \n",
       "220720    507                      1                0 2022-04-05 14:15:05   \n",
       "220831    507                      1                0 2022-04-05 14:15:05   \n",
       "220942    507                      1                0 2022-04-05 14:15:05   \n",
       "...       ...                    ...              ...                 ...   \n",
       "246361    507                      1                0 2022-04-05 14:15:05   \n",
       "246472    507                      1                0 2022-04-05 14:15:05   \n",
       "246583    507                      1                0 2022-04-05 14:15:05   \n",
       "246694    507                      1                0 2022-04-05 14:15:05   \n",
       "246805    507                      1                0 2022-04-05 14:15:05   \n",
       "\n",
       "        day  hour   just_date  \n",
       "220498    1    14  2022-04-05  \n",
       "220609    1    14  2022-04-05  \n",
       "220720    1    14  2022-04-05  \n",
       "220831    1    14  2022-04-05  \n",
       "220942    1    14  2022-04-05  \n",
       "...     ...   ...         ...  \n",
       "246361    1    14  2022-04-05  \n",
       "246472    1    14  2022-04-05  \n",
       "246583    1    14  2022-04-05  \n",
       "246694    1    14  2022-04-05  \n",
       "246805    1    14  2022-04-05  \n",
       "\n",
       "[238 rows x 7 columns]"
      ]
     },
     "execution_count": 20,
     "metadata": {},
     "output_type": "execute_result"
    }
   ],
   "source": [
    "df_avail.loc[df_avail['number']==507]\n"
   ]
  },
  {
   "cell_type": "code",
   "execution_count": 21,
   "id": "6db99eee",
   "metadata": {},
   "outputs": [],
   "source": [
    "df_avail = df_avail[df_avail.number != 507]\n"
   ]
  },
  {
   "cell_type": "code",
   "execution_count": 22,
   "id": "342e013f",
   "metadata": {},
   "outputs": [
    {
     "data": {
      "text/plain": [
       "count     246596\n",
       "unique       110\n",
       "top           16\n",
       "freq        2243\n",
       "Name: number, dtype: int64"
      ]
     },
     "execution_count": 22,
     "metadata": {},
     "output_type": "execute_result"
    }
   ],
   "source": [
    "df_avail[\"number\"].describe().T"
   ]
  },
  {
   "cell_type": "markdown",
   "id": "fbe0c9f7",
   "metadata": {},
   "source": [
    "#### Attempt at combining the two data frames "
   ]
  },
  {
   "cell_type": "code",
   "execution_count": 23,
   "id": "4a2e1acf",
   "metadata": {},
   "outputs": [],
   "source": [
    "# df_combine= df_avail.merge(df_weather,join='inner', on=['just_date'])\n",
    "\n",
    "# df_combine = pd.merge(df_avail, df_weather, on='just_date', how=\"outer\")\n",
    "\n",
    "# df_weather = df_weather.just_date.map(df_avail.set_index('just_date')\n",
    "                                      \n",
    "# pd.merge_asof(df_weather, df_avail, left_on='just_date', right_on='just_date')\n",
    "\n",
    "\n",
    "# df_combine= df_avail.merge(df_weather,on=['just_date'])\n",
    "\n",
    "# inner_merged = pd.concat([df_avail, df_weather],on=['just_date'])\n",
    "\n",
    "# v = df1.merge(df2[['Date', 'exp']])\\\n",
    "#        .groupby(df1.columns.tolist())\\\n",
    "#        .exp\\\n",
    "#        .apply(pd.Series.tolist)\n"
   ]
  },
  {
   "cell_type": "code",
   "execution_count": 23,
   "id": "0ec0c482",
   "metadata": {},
   "outputs": [],
   "source": [
    "# df_weather"
   ]
  },
  {
   "cell_type": "code",
   "execution_count": 24,
   "id": "fbb49046",
   "metadata": {},
   "outputs": [],
   "source": [
    "# df_combine\n",
    "# inner_merged"
   ]
  },
  {
   "cell_type": "code",
   "execution_count": 25,
   "id": "67d4bcc4",
   "metadata": {},
   "outputs": [],
   "source": [
    "# df_combine.tail(40)"
   ]
  },
  {
   "cell_type": "markdown",
   "id": "7799d82e",
   "metadata": {},
   "source": [
    "### Looking at correlations"
   ]
  },
  {
   "cell_type": "code",
   "execution_count": 26,
   "id": "c93da756",
   "metadata": {},
   "outputs": [],
   "source": [
    "# df_combine.corr()"
   ]
  },
  {
   "cell_type": "code",
   "execution_count": 27,
   "id": "ac61c333",
   "metadata": {},
   "outputs": [
    {
     "data": {
      "text/html": [
       "<div>\n",
       "<style scoped>\n",
       "    .dataframe tbody tr th:only-of-type {\n",
       "        vertical-align: middle;\n",
       "    }\n",
       "\n",
       "    .dataframe tbody tr th {\n",
       "        vertical-align: top;\n",
       "    }\n",
       "\n",
       "    .dataframe thead th {\n",
       "        text-align: right;\n",
       "    }\n",
       "</style>\n",
       "<table border=\"1\" class=\"dataframe\">\n",
       "  <thead>\n",
       "    <tr style=\"text-align: right;\">\n",
       "      <th></th>\n",
       "      <th>number</th>\n",
       "      <th>available_bike_stands</th>\n",
       "      <th>available_bikes</th>\n",
       "      <th>last_update</th>\n",
       "      <th>day</th>\n",
       "      <th>hour</th>\n",
       "      <th>just_date</th>\n",
       "    </tr>\n",
       "  </thead>\n",
       "  <tbody>\n",
       "    <tr>\n",
       "      <th>0</th>\n",
       "      <td>52</td>\n",
       "      <td>1</td>\n",
       "      <td>31</td>\n",
       "      <td>2022-04-07 15:21:18</td>\n",
       "      <td>3</td>\n",
       "      <td>15</td>\n",
       "      <td>2022-04-07</td>\n",
       "    </tr>\n",
       "    <tr>\n",
       "      <th>1</th>\n",
       "      <td>16</td>\n",
       "      <td>11</td>\n",
       "      <td>9</td>\n",
       "      <td>2022-04-07 15:21:17</td>\n",
       "      <td>3</td>\n",
       "      <td>15</td>\n",
       "      <td>2022-04-07</td>\n",
       "    </tr>\n",
       "    <tr>\n",
       "      <th>2</th>\n",
       "      <td>111</td>\n",
       "      <td>18</td>\n",
       "      <td>22</td>\n",
       "      <td>2022-04-07 15:21:01</td>\n",
       "      <td>3</td>\n",
       "      <td>15</td>\n",
       "      <td>2022-04-07</td>\n",
       "    </tr>\n",
       "    <tr>\n",
       "      <th>3</th>\n",
       "      <td>15</td>\n",
       "      <td>8</td>\n",
       "      <td>8</td>\n",
       "      <td>2022-04-07 15:21:07</td>\n",
       "      <td>3</td>\n",
       "      <td>15</td>\n",
       "      <td>2022-04-07</td>\n",
       "    </tr>\n",
       "    <tr>\n",
       "      <th>4</th>\n",
       "      <td>10</td>\n",
       "      <td>16</td>\n",
       "      <td>0</td>\n",
       "      <td>2022-04-07 15:21:10</td>\n",
       "      <td>3</td>\n",
       "      <td>15</td>\n",
       "      <td>2022-04-07</td>\n",
       "    </tr>\n",
       "  </tbody>\n",
       "</table>\n",
       "</div>"
      ],
      "text/plain": [
       "  number  available_bike_stands  available_bikes         last_update  day  \\\n",
       "0     52                      1               31 2022-04-07 15:21:18    3   \n",
       "1     16                     11                9 2022-04-07 15:21:17    3   \n",
       "2    111                     18               22 2022-04-07 15:21:01    3   \n",
       "3     15                      8                8 2022-04-07 15:21:07    3   \n",
       "4     10                     16                0 2022-04-07 15:21:10    3   \n",
       "\n",
       "   hour   just_date  \n",
       "0    15  2022-04-07  \n",
       "1    15  2022-04-07  \n",
       "2    15  2022-04-07  \n",
       "3    15  2022-04-07  \n",
       "4    15  2022-04-07  "
      ]
     },
     "execution_count": 27,
     "metadata": {},
     "output_type": "execute_result"
    }
   ],
   "source": [
    "df_avail.head(5)"
   ]
  },
  {
   "cell_type": "code",
   "execution_count": 28,
   "id": "e3aa0c93",
   "metadata": {},
   "outputs": [
    {
     "data": {
      "text/html": [
       "<div>\n",
       "<style scoped>\n",
       "    .dataframe tbody tr th:only-of-type {\n",
       "        vertical-align: middle;\n",
       "    }\n",
       "\n",
       "    .dataframe tbody tr th {\n",
       "        vertical-align: top;\n",
       "    }\n",
       "\n",
       "    .dataframe thead th {\n",
       "        text-align: right;\n",
       "    }\n",
       "</style>\n",
       "<table border=\"1\" class=\"dataframe\">\n",
       "  <thead>\n",
       "    <tr style=\"text-align: right;\">\n",
       "      <th></th>\n",
       "      <th>number</th>\n",
       "      <th>available_bike_stands</th>\n",
       "      <th>available_bikes</th>\n",
       "      <th>last_update</th>\n",
       "      <th>day</th>\n",
       "      <th>hour</th>\n",
       "      <th>just_date</th>\n",
       "    </tr>\n",
       "  </thead>\n",
       "  <tbody>\n",
       "    <tr>\n",
       "      <th>246829</th>\n",
       "      <td>39</td>\n",
       "      <td>12</td>\n",
       "      <td>8</td>\n",
       "      <td>2022-04-15 11:10:53</td>\n",
       "      <td>4</td>\n",
       "      <td>11</td>\n",
       "      <td>2022-04-15</td>\n",
       "    </tr>\n",
       "    <tr>\n",
       "      <th>246830</th>\n",
       "      <td>83</td>\n",
       "      <td>29</td>\n",
       "      <td>11</td>\n",
       "      <td>2022-04-15 11:10:04</td>\n",
       "      <td>4</td>\n",
       "      <td>11</td>\n",
       "      <td>2022-04-15</td>\n",
       "    </tr>\n",
       "    <tr>\n",
       "      <th>246831</th>\n",
       "      <td>92</td>\n",
       "      <td>29</td>\n",
       "      <td>11</td>\n",
       "      <td>2022-04-15 11:11:41</td>\n",
       "      <td>4</td>\n",
       "      <td>11</td>\n",
       "      <td>2022-04-15</td>\n",
       "    </tr>\n",
       "    <tr>\n",
       "      <th>246832</th>\n",
       "      <td>21</td>\n",
       "      <td>18</td>\n",
       "      <td>12</td>\n",
       "      <td>2022-04-15 11:11:31</td>\n",
       "      <td>4</td>\n",
       "      <td>11</td>\n",
       "      <td>2022-04-15</td>\n",
       "    </tr>\n",
       "    <tr>\n",
       "      <th>246833</th>\n",
       "      <td>88</td>\n",
       "      <td>19</td>\n",
       "      <td>11</td>\n",
       "      <td>2022-04-15 11:10:26</td>\n",
       "      <td>4</td>\n",
       "      <td>11</td>\n",
       "      <td>2022-04-15</td>\n",
       "    </tr>\n",
       "  </tbody>\n",
       "</table>\n",
       "</div>"
      ],
      "text/plain": [
       "       number  available_bike_stands  available_bikes         last_update  \\\n",
       "246829     39                     12                8 2022-04-15 11:10:53   \n",
       "246830     83                     29               11 2022-04-15 11:10:04   \n",
       "246831     92                     29               11 2022-04-15 11:11:41   \n",
       "246832     21                     18               12 2022-04-15 11:11:31   \n",
       "246833     88                     19               11 2022-04-15 11:10:26   \n",
       "\n",
       "        day  hour   just_date  \n",
       "246829    4    11  2022-04-15  \n",
       "246830    4    11  2022-04-15  \n",
       "246831    4    11  2022-04-15  \n",
       "246832    4    11  2022-04-15  \n",
       "246833    4    11  2022-04-15  "
      ]
     },
     "execution_count": 28,
     "metadata": {},
     "output_type": "execute_result"
    }
   ],
   "source": [
    "df_avail.tail(5)"
   ]
  },
  {
   "cell_type": "code",
   "execution_count": 29,
   "id": "726f4bab",
   "metadata": {},
   "outputs": [
    {
     "data": {
      "text/plain": [
       "(246596, 7)"
      ]
     },
     "execution_count": 29,
     "metadata": {},
     "output_type": "execute_result"
    }
   ],
   "source": [
    "df_avail.shape"
   ]
  },
  {
   "cell_type": "markdown",
   "id": "cc8bd585",
   "metadata": {},
   "source": [
    "### Training Model for available bikes "
   ]
  },
  {
   "cell_type": "code",
   "execution_count": 30,
   "id": "4f9d9074",
   "metadata": {},
   "outputs": [
    {
     "data": {
      "text/html": [
       "<div>\n",
       "<style scoped>\n",
       "    .dataframe tbody tr th:only-of-type {\n",
       "        vertical-align: middle;\n",
       "    }\n",
       "\n",
       "    .dataframe tbody tr th {\n",
       "        vertical-align: top;\n",
       "    }\n",
       "\n",
       "    .dataframe thead th {\n",
       "        text-align: right;\n",
       "    }\n",
       "</style>\n",
       "<table border=\"1\" class=\"dataframe\">\n",
       "  <thead>\n",
       "    <tr style=\"text-align: right;\">\n",
       "      <th></th>\n",
       "      <th>day</th>\n",
       "      <th>hour</th>\n",
       "      <th>number</th>\n",
       "    </tr>\n",
       "  </thead>\n",
       "  <tbody>\n",
       "    <tr>\n",
       "      <th>60949</th>\n",
       "      <td>5</td>\n",
       "      <td>13</td>\n",
       "      <td>116</td>\n",
       "    </tr>\n",
       "    <tr>\n",
       "      <th>87208</th>\n",
       "      <td>6</td>\n",
       "      <td>9</td>\n",
       "      <td>54</td>\n",
       "    </tr>\n",
       "    <tr>\n",
       "      <th>196384</th>\n",
       "      <td>2</td>\n",
       "      <td>20</td>\n",
       "      <td>16</td>\n",
       "    </tr>\n",
       "    <tr>\n",
       "      <th>153960</th>\n",
       "      <td>1</td>\n",
       "      <td>12</td>\n",
       "      <td>33</td>\n",
       "    </tr>\n",
       "    <tr>\n",
       "      <th>142624</th>\n",
       "      <td>1</td>\n",
       "      <td>4</td>\n",
       "      <td>100</td>\n",
       "    </tr>\n",
       "    <tr>\n",
       "      <th>...</th>\n",
       "      <td>...</td>\n",
       "      <td>...</td>\n",
       "      <td>...</td>\n",
       "    </tr>\n",
       "    <tr>\n",
       "      <th>138534</th>\n",
       "      <td>1</td>\n",
       "      <td>0</td>\n",
       "      <td>59</td>\n",
       "    </tr>\n",
       "    <tr>\n",
       "      <th>33746</th>\n",
       "      <td>4</td>\n",
       "      <td>17</td>\n",
       "      <td>42</td>\n",
       "    </tr>\n",
       "    <tr>\n",
       "      <th>37541</th>\n",
       "      <td>4</td>\n",
       "      <td>19</td>\n",
       "      <td>117</td>\n",
       "    </tr>\n",
       "    <tr>\n",
       "      <th>96608</th>\n",
       "      <td>6</td>\n",
       "      <td>16</td>\n",
       "      <td>101</td>\n",
       "    </tr>\n",
       "    <tr>\n",
       "      <th>17386</th>\n",
       "      <td>4</td>\n",
       "      <td>4</td>\n",
       "      <td>99</td>\n",
       "    </tr>\n",
       "  </tbody>\n",
       "</table>\n",
       "<p>172617 rows × 3 columns</p>\n",
       "</div>"
      ],
      "text/plain": [
       "        day  hour number\n",
       "60949     5    13    116\n",
       "87208     6     9     54\n",
       "196384    2    20     16\n",
       "153960    1    12     33\n",
       "142624    1     4    100\n",
       "...     ...   ...    ...\n",
       "138534    1     0     59\n",
       "33746     4    17     42\n",
       "37541     4    19    117\n",
       "96608     6    16    101\n",
       "17386     4     4     99\n",
       "\n",
       "[172617 rows x 3 columns]"
      ]
     },
     "execution_count": 30,
     "metadata": {},
     "output_type": "execute_result"
    }
   ],
   "source": [
    "train_feature = [\"day\",\"hour\",\"number\"]\n",
    "target_feature1 = ['available_bikes']\n",
    "\n",
    "train = df_avail[train_feature]\n",
    "target = df_avail[target_feature1]\n",
    "Xtrain,Xtest,Ytrain,Ytest = train_test_split(train,target,test_size=0.3)\n",
    "Xtrain"
   ]
  },
  {
   "cell_type": "code",
   "execution_count": 31,
   "id": "d7469df4",
   "metadata": {},
   "outputs": [
    {
     "name": "stderr",
     "output_type": "stream",
     "text": [
      "C:\\Users\\gusbo\\anaconda3\\envs\\comp30830\\lib\\site-packages\\sklearn\\utils\\validation.py:1688: FutureWarning: Feature names only support names that are all strings. Got feature names with dtypes: ['quoted_name', 'str']. An error will be raised in 1.2.\n",
      "  warnings.warn(\n"
     ]
    },
    {
     "data": {
      "text/plain": [
       "LinearRegression()"
      ]
     },
     "execution_count": 31,
     "metadata": {},
     "output_type": "execute_result"
    }
   ],
   "source": [
    "LR = LinearRegression()\n",
    "LR.fit(Xtrain,Ytrain)\n"
   ]
  },
  {
   "cell_type": "code",
   "execution_count": null,
   "id": "be5f5cd2",
   "metadata": {},
   "outputs": [],
   "source": []
  },
  {
   "cell_type": "code",
   "execution_count": 32,
   "id": "265a4368",
   "metadata": {},
   "outputs": [
    {
     "name": "stderr",
     "output_type": "stream",
     "text": [
      "C:\\Users\\gusbo\\anaconda3\\envs\\comp30830\\lib\\site-packages\\sklearn\\utils\\validation.py:1688: FutureWarning: Feature names only support names that are all strings. Got feature names with dtypes: ['quoted_name', 'str']. An error will be raised in 1.2.\n",
      "  warnings.warn(\n"
     ]
    },
    {
     "data": {
      "text/plain": [
       "0.07934055566245246"
      ]
     },
     "execution_count": 32,
     "metadata": {},
     "output_type": "execute_result"
    }
   ],
   "source": [
    "LR.score(Xtest,Ytest)"
   ]
  },
  {
   "cell_type": "code",
   "execution_count": 33,
   "id": "d7585184",
   "metadata": {},
   "outputs": [
    {
     "name": "stderr",
     "output_type": "stream",
     "text": [
      "C:\\Users\\gusbo\\anaconda3\\envs\\comp30830\\lib\\site-packages\\sklearn\\utils\\validation.py:1688: FutureWarning: Feature names only support names that are all strings. Got feature names with dtypes: ['quoted_name', 'str']. An error will be raised in 1.2.\n",
      "  warnings.warn(\n"
     ]
    },
    {
     "data": {
      "text/plain": [
       "array([[22.14745732],\n",
       "       [20.33824527],\n",
       "       [23.13866632],\n",
       "       ...,\n",
       "       [15.33746608],\n",
       "       [20.32345468],\n",
       "       [14.1697975 ]])"
      ]
     },
     "execution_count": 33,
     "metadata": {},
     "output_type": "execute_result"
    }
   ],
   "source": [
    "y_prediction =  LR.predict(Xtest)\n",
    "y_prediction"
   ]
  },
  {
   "cell_type": "markdown",
   "id": "9b1c3bc5",
   "metadata": {},
   "source": [
    "### Example of Prediction\n",
    "\n",
    "- on Monday, 2pm, station: 100"
   ]
  },
  {
   "cell_type": "code",
   "execution_count": 34,
   "id": "39fa436a",
   "metadata": {},
   "outputs": [
    {
     "data": {
      "text/plain": [
       "array([[22.78577506]])"
      ]
     },
     "execution_count": 34,
     "metadata": {},
     "output_type": "execute_result"
    }
   ],
   "source": [
    "LR.predict([[1, 14, 100]])"
   ]
  },
  {
   "cell_type": "markdown",
   "id": "142e147d",
   "metadata": {},
   "source": [
    "### Metrics for model evaluation in linear regression:  "
   ]
  },
  {
   "cell_type": "markdown",
   "id": "54b267d3",
   "metadata": {},
   "source": [
    "#### R Square/Adjusted R Square"
   ]
  },
  {
   "cell_type": "code",
   "execution_count": 35,
   "id": "0172988b",
   "metadata": {},
   "outputs": [
    {
     "name": "stdout",
     "output_type": "stream",
     "text": [
      "r2 score is  0.07934055566245246\n"
     ]
    }
   ],
   "source": [
    "score=r2_score(Ytest,y_prediction)\n",
    "print('r2 score is ',score)"
   ]
  },
  {
   "cell_type": "markdown",
   "id": "65fa16aa",
   "metadata": {},
   "source": [
    "#### Mean Square Error(MSE)"
   ]
  },
  {
   "cell_type": "code",
   "execution_count": 36,
   "id": "96f64e07",
   "metadata": {},
   "outputs": [
    {
     "name": "stdout",
     "output_type": "stream",
     "text": [
      "MSE is  106.65240246600848\n"
     ]
    }
   ],
   "source": [
    "print('MSE is ',mean_squared_error(Ytest,y_prediction))"
   ]
  },
  {
   "cell_type": "markdown",
   "id": "6fb09cab",
   "metadata": {},
   "source": [
    "#### Mean Absolute Error"
   ]
  },
  {
   "cell_type": "code",
   "execution_count": 37,
   "id": "c01a528b",
   "metadata": {},
   "outputs": [
    {
     "name": "stdout",
     "output_type": "stream",
     "text": [
      "Mean Absolute Error is  8.52738798196904\n"
     ]
    }
   ],
   "source": [
    "print('Mean Absolute Error is ',mean_absolute_error(Ytest,y_prediction))"
   ]
  },
  {
   "cell_type": "markdown",
   "id": "b85ff22b",
   "metadata": {},
   "source": [
    "## Using a Random Forest Model for bike availabilty"
   ]
  },
  {
   "cell_type": "code",
   "execution_count": 38,
   "id": "240b892e",
   "metadata": {},
   "outputs": [
    {
     "name": "stderr",
     "output_type": "stream",
     "text": [
      "C:\\Users\\gusbo\\anaconda3\\envs\\comp30830\\lib\\site-packages\\sklearn\\utils\\validation.py:1688: FutureWarning: Feature names only support names that are all strings. Got feature names with dtypes: ['quoted_name', 'str']. An error will be raised in 1.2.\n",
      "  warnings.warn(\n",
      "C:\\Users\\gusbo\\anaconda3\\envs\\comp30830\\lib\\site-packages\\sklearn\\utils\\validation.py:1688: FutureWarning: Feature names only support names that are all strings. Got feature names with dtypes: ['quoted_name', 'str']. An error will be raised in 1.2.\n",
      "  warnings.warn(\n"
     ]
    },
    {
     "data": {
      "text/plain": [
       "0.9374696517835333"
      ]
     },
     "execution_count": 38,
     "metadata": {},
     "output_type": "execute_result"
    }
   ],
   "source": [
    "random_forest = RandomForestRegressor(random_state=0)\n",
    "random_forest = random_forest.fit(Xtrain,Ytrain.available_bikes)\n",
    "score = random_forest.score(Xtest,Ytest.available_bikes)\n",
    "score"
   ]
  },
  {
   "cell_type": "code",
   "execution_count": 39,
   "id": "6fd578d4",
   "metadata": {},
   "outputs": [
    {
     "name": "stderr",
     "output_type": "stream",
     "text": [
      "C:\\Users\\gusbo\\anaconda3\\envs\\comp30830\\lib\\site-packages\\sklearn\\utils\\validation.py:1688: FutureWarning: Feature names only support names that are all strings. Got feature names with dtypes: ['quoted_name', 'str']. An error will be raised in 1.2.\n",
      "  warnings.warn(\n"
     ]
    },
    {
     "data": {
      "text/plain": [
       "array([ 0.15684973,  8.        , 25.88247511, ..., 19.        ,\n",
       "       18.27144236,  7.40171248])"
      ]
     },
     "execution_count": 39,
     "metadata": {},
     "output_type": "execute_result"
    }
   ],
   "source": [
    "y_prediction_RF =  random_forest.predict(Xtest)\n",
    "y_prediction_RF"
   ]
  },
  {
   "cell_type": "markdown",
   "id": "27aa3edd",
   "metadata": {},
   "source": [
    "### Metrics for model evaluation in random forrest:  "
   ]
  },
  {
   "cell_type": "markdown",
   "id": "80cd5216",
   "metadata": {},
   "source": [
    "#### R squared"
   ]
  },
  {
   "cell_type": "code",
   "execution_count": 40,
   "id": "529357cb",
   "metadata": {},
   "outputs": [
    {
     "name": "stdout",
     "output_type": "stream",
     "text": [
      "r2 score is  0.9374696517835333\n"
     ]
    }
   ],
   "source": [
    "score=r2_score(Ytest,y_prediction_RF)\n",
    "print('r2 score is ',score)"
   ]
  },
  {
   "cell_type": "markdown",
   "id": "e25590f8",
   "metadata": {},
   "source": [
    "#### Mean squared error"
   ]
  },
  {
   "cell_type": "code",
   "execution_count": 41,
   "id": "4c1b6cad",
   "metadata": {},
   "outputs": [
    {
     "name": "stdout",
     "output_type": "stream",
     "text": [
      "MSE is  7.243733722973859\n"
     ]
    }
   ],
   "source": [
    "print('MSE is ',mean_squared_error(Ytest,y_prediction_RF))"
   ]
  },
  {
   "cell_type": "markdown",
   "id": "091e1da7",
   "metadata": {},
   "source": [
    "#### Mean absolute error"
   ]
  },
  {
   "cell_type": "code",
   "execution_count": 42,
   "id": "8058f32d",
   "metadata": {},
   "outputs": [
    {
     "name": "stdout",
     "output_type": "stream",
     "text": [
      "Mean Absolute Error is  1.399686009571031\n"
     ]
    }
   ],
   "source": [
    "print('Mean Absolute Error is ',mean_absolute_error(Ytest,y_prediction_RF))"
   ]
  },
  {
   "cell_type": "markdown",
   "id": "d5fa3727",
   "metadata": {},
   "source": [
    "### Example of prediction"
   ]
  },
  {
   "cell_type": "code",
   "execution_count": 43,
   "id": "39ec1b37",
   "metadata": {},
   "outputs": [
    {
     "data": {
      "text/plain": [
       "array([18.89594808])"
      ]
     },
     "execution_count": 43,
     "metadata": {},
     "output_type": "execute_result"
    }
   ],
   "source": [
    "random_forest.predict([[1, 14, 100]])"
   ]
  },
  {
   "cell_type": "markdown",
   "id": "7436ea8e",
   "metadata": {},
   "source": [
    "### Feature Importance"
   ]
  },
  {
   "cell_type": "code",
   "execution_count": 44,
   "id": "ab02f9c9",
   "metadata": {},
   "outputs": [
    {
     "data": {
      "text/plain": [
       "array([0.19485481, 0.179389  , 0.62575618])"
      ]
     },
     "execution_count": 44,
     "metadata": {},
     "output_type": "execute_result"
    }
   ],
   "source": [
    "random_forest.feature_importances_\n"
   ]
  },
  {
   "cell_type": "markdown",
   "id": "2b7ae123",
   "metadata": {},
   "source": [
    "### Saving model to disk with Pickle:"
   ]
  },
  {
   "cell_type": "code",
   "execution_count": 45,
   "id": "36607076",
   "metadata": {},
   "outputs": [],
   "source": [
    "pickle.dump(random_forest, open('model.pkl', 'wb'))"
   ]
  },
  {
   "cell_type": "code",
   "execution_count": 46,
   "id": "2f1e680d",
   "metadata": {},
   "outputs": [],
   "source": [
    "#testing"
   ]
  },
  {
   "cell_type": "code",
   "execution_count": 47,
   "id": "b3d2fc24",
   "metadata": {},
   "outputs": [],
   "source": [
    "model= pickle.load(open('model.pkl', 'rb'))"
   ]
  },
  {
   "cell_type": "markdown",
   "id": "d0347a7d",
   "metadata": {},
   "source": [
    "### Making model for bike stand availabilty:"
   ]
  },
  {
   "cell_type": "code",
   "execution_count": 48,
   "id": "4e111f2f",
   "metadata": {},
   "outputs": [
    {
     "data": {
      "text/html": [
       "<div>\n",
       "<style scoped>\n",
       "    .dataframe tbody tr th:only-of-type {\n",
       "        vertical-align: middle;\n",
       "    }\n",
       "\n",
       "    .dataframe tbody tr th {\n",
       "        vertical-align: top;\n",
       "    }\n",
       "\n",
       "    .dataframe thead th {\n",
       "        text-align: right;\n",
       "    }\n",
       "</style>\n",
       "<table border=\"1\" class=\"dataframe\">\n",
       "  <thead>\n",
       "    <tr style=\"text-align: right;\">\n",
       "      <th></th>\n",
       "      <th>day</th>\n",
       "      <th>hour</th>\n",
       "      <th>number</th>\n",
       "    </tr>\n",
       "  </thead>\n",
       "  <tbody>\n",
       "    <tr>\n",
       "      <th>155297</th>\n",
       "      <td>1</td>\n",
       "      <td>13</td>\n",
       "      <td>30</td>\n",
       "    </tr>\n",
       "    <tr>\n",
       "      <th>246817</th>\n",
       "      <td>4</td>\n",
       "      <td>11</td>\n",
       "      <td>107</td>\n",
       "    </tr>\n",
       "    <tr>\n",
       "      <th>7741</th>\n",
       "      <td>3</td>\n",
       "      <td>21</td>\n",
       "      <td>25</td>\n",
       "    </tr>\n",
       "    <tr>\n",
       "      <th>219982</th>\n",
       "      <td>3</td>\n",
       "      <td>14</td>\n",
       "      <td>18</td>\n",
       "    </tr>\n",
       "    <tr>\n",
       "      <th>132315</th>\n",
       "      <td>0</td>\n",
       "      <td>20</td>\n",
       "      <td>48</td>\n",
       "    </tr>\n",
       "    <tr>\n",
       "      <th>...</th>\n",
       "      <td>...</td>\n",
       "      <td>...</td>\n",
       "      <td>...</td>\n",
       "    </tr>\n",
       "    <tr>\n",
       "      <th>151508</th>\n",
       "      <td>1</td>\n",
       "      <td>10</td>\n",
       "      <td>71</td>\n",
       "    </tr>\n",
       "    <tr>\n",
       "      <th>146799</th>\n",
       "      <td>1</td>\n",
       "      <td>7</td>\n",
       "      <td>26</td>\n",
       "    </tr>\n",
       "    <tr>\n",
       "      <th>194626</th>\n",
       "      <td>2</td>\n",
       "      <td>19</td>\n",
       "      <td>82</td>\n",
       "    </tr>\n",
       "    <tr>\n",
       "      <th>30575</th>\n",
       "      <td>4</td>\n",
       "      <td>14</td>\n",
       "      <td>87</td>\n",
       "    </tr>\n",
       "    <tr>\n",
       "      <th>205956</th>\n",
       "      <td>3</td>\n",
       "      <td>4</td>\n",
       "      <td>82</td>\n",
       "    </tr>\n",
       "  </tbody>\n",
       "</table>\n",
       "<p>172617 rows × 3 columns</p>\n",
       "</div>"
      ],
      "text/plain": [
       "        day  hour number\n",
       "155297    1    13     30\n",
       "246817    4    11    107\n",
       "7741      3    21     25\n",
       "219982    3    14     18\n",
       "132315    0    20     48\n",
       "...     ...   ...    ...\n",
       "151508    1    10     71\n",
       "146799    1     7     26\n",
       "194626    2    19     82\n",
       "30575     4    14     87\n",
       "205956    3     4     82\n",
       "\n",
       "[172617 rows x 3 columns]"
      ]
     },
     "execution_count": 48,
     "metadata": {},
     "output_type": "execute_result"
    }
   ],
   "source": [
    "target_feature2 = ['available_bike_stands']\n",
    "\n",
    "train = df_avail[train_feature]\n",
    "target = df_avail[target_feature2]\n",
    "Xtrain,Xtest,Ytrain,Ytest = train_test_split(train,target,test_size=0.3)\n",
    "Xtrain"
   ]
  },
  {
   "cell_type": "code",
   "execution_count": 49,
   "id": "7f6b11e2",
   "metadata": {},
   "outputs": [
    {
     "name": "stderr",
     "output_type": "stream",
     "text": [
      "C:\\Users\\gusbo\\anaconda3\\envs\\comp30830\\lib\\site-packages\\sklearn\\utils\\validation.py:1688: FutureWarning: Feature names only support names that are all strings. Got feature names with dtypes: ['quoted_name', 'str']. An error will be raised in 1.2.\n",
      "  warnings.warn(\n",
      "C:\\Users\\gusbo\\anaconda3\\envs\\comp30830\\lib\\site-packages\\sklearn\\utils\\validation.py:1688: FutureWarning: Feature names only support names that are all strings. Got feature names with dtypes: ['quoted_name', 'str']. An error will be raised in 1.2.\n",
      "  warnings.warn(\n"
     ]
    },
    {
     "data": {
      "text/plain": [
       "0.913491971655391"
      ]
     },
     "execution_count": 49,
     "metadata": {},
     "output_type": "execute_result"
    }
   ],
   "source": [
    "random_forest_2 = RandomForestRegressor(random_state=1)\n",
    "random_forest_2 = random_forest_2.fit(Xtrain,Ytrain.available_bike_stands)\n",
    "score_2 = random_forest_2.score(Xtest,Ytest.available_bike_stands)\n",
    "score_2"
   ]
  },
  {
   "cell_type": "code",
   "execution_count": 50,
   "id": "0693b6ae",
   "metadata": {},
   "outputs": [
    {
     "name": "stderr",
     "output_type": "stream",
     "text": [
      "C:\\Users\\gusbo\\anaconda3\\envs\\comp30830\\lib\\site-packages\\sklearn\\utils\\validation.py:1688: FutureWarning: Feature names only support names that are all strings. Got feature names with dtypes: ['quoted_name', 'str']. An error will be raised in 1.2.\n",
      "  warnings.warn(\n"
     ]
    },
    {
     "data": {
      "text/plain": [
       "array([ 0.15967813, 11.46916313,  8.        , ...,  4.57684671,\n",
       "       13.        , 12.33835156])"
      ]
     },
     "execution_count": 50,
     "metadata": {},
     "output_type": "execute_result"
    }
   ],
   "source": [
    "y_prediction_RF_2 =  random_forest_2.predict(Xtest)\n",
    "y_prediction_RF_2"
   ]
  },
  {
   "cell_type": "markdown",
   "id": "a3ddfa5c",
   "metadata": {},
   "source": [
    "### R2 score for RF bike stands"
   ]
  },
  {
   "cell_type": "code",
   "execution_count": 51,
   "id": "190e9870",
   "metadata": {},
   "outputs": [
    {
     "name": "stdout",
     "output_type": "stream",
     "text": [
      "r2 score is  0.913491971655391\n"
     ]
    }
   ],
   "source": [
    "score =r2_score(Ytest,y_prediction_RF_2)\n",
    "print('r2 score is ',score)"
   ]
  },
  {
   "cell_type": "markdown",
   "id": "92ef2bac",
   "metadata": {},
   "source": [
    "### Mean squared error for RF bike stands"
   ]
  },
  {
   "cell_type": "code",
   "execution_count": 52,
   "id": "ba480d6b",
   "metadata": {},
   "outputs": [
    {
     "name": "stdout",
     "output_type": "stream",
     "text": [
      "MSE is  7.120550672764191\n"
     ]
    }
   ],
   "source": [
    "print('MSE is ',mean_squared_error(Ytest,y_prediction_RF_2))"
   ]
  },
  {
   "cell_type": "markdown",
   "id": "9335c6fe",
   "metadata": {},
   "source": [
    "### Mean absolute error for RF bike stands"
   ]
  },
  {
   "cell_type": "code",
   "execution_count": 53,
   "id": "e401f1cf",
   "metadata": {},
   "outputs": [
    {
     "name": "stdout",
     "output_type": "stream",
     "text": [
      "Mean Absolute Error is  1.3893073937279552\n"
     ]
    }
   ],
   "source": [
    "print('Mean Absolute Error is ',mean_absolute_error(Ytest,y_prediction_RF_2))"
   ]
  },
  {
   "cell_type": "markdown",
   "id": "b65c0b91",
   "metadata": {},
   "source": [
    "### Example prediction for RF bike stands"
   ]
  },
  {
   "cell_type": "code",
   "execution_count": 54,
   "id": "a80a067b",
   "metadata": {},
   "outputs": [
    {
     "data": {
      "text/plain": [
       "array([6.23589852])"
      ]
     },
     "execution_count": 54,
     "metadata": {},
     "output_type": "execute_result"
    }
   ],
   "source": [
    "random_forest_2.predict([[1, 14, 100]])"
   ]
  },
  {
   "cell_type": "markdown",
   "id": "3a84277a",
   "metadata": {},
   "source": [
    "### Feature Importance"
   ]
  },
  {
   "cell_type": "code",
   "execution_count": 55,
   "id": "2ead2671",
   "metadata": {},
   "outputs": [
    {
     "data": {
      "text/plain": [
       "array([0.26408113, 0.22713814, 0.50878073])"
      ]
     },
     "execution_count": 55,
     "metadata": {},
     "output_type": "execute_result"
    }
   ],
   "source": [
    "random_forest_2.feature_importances_\n"
   ]
  },
  {
   "cell_type": "markdown",
   "id": "adf16fb6",
   "metadata": {},
   "source": [
    "### Saving model to pickle file"
   ]
  },
  {
   "cell_type": "code",
   "execution_count": 65,
   "id": "230b84e9",
   "metadata": {},
   "outputs": [],
   "source": [
    "pickle.dump(random_forest_2, open('model_stands.pkl', 'wb'))"
   ]
  },
  {
   "cell_type": "code",
   "execution_count": null,
   "id": "eb171919",
   "metadata": {},
   "outputs": [],
   "source": []
  }
 ],
 "metadata": {
  "kernelspec": {
   "display_name": "Python 3 (ipykernel)",
   "language": "python",
   "name": "python3"
  },
  "language_info": {
   "codemirror_mode": {
    "name": "ipython",
    "version": 3
   },
   "file_extension": ".py",
   "mimetype": "text/x-python",
   "name": "python",
   "nbconvert_exporter": "python",
   "pygments_lexer": "ipython3",
   "version": "3.9.7"
  }
 },
 "nbformat": 4,
 "nbformat_minor": 5
}
