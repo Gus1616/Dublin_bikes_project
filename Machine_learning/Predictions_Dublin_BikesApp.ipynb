{
 "cells": [
  {
   "cell_type": "markdown",
   "id": "3a1c2a3e",
   "metadata": {},
   "source": [
    "### Linear Regression Model for predicting Bike Availability: \n"
   ]
  },
  {
   "cell_type": "code",
   "execution_count": 1,
   "id": "9387c631",
   "metadata": {},
   "outputs": [],
   "source": [
    "\n",
    "import numpy as np\n",
    "import matplotlib.pyplot as plt\n",
    "import pandas as pd\n",
    "import pickle"
   ]
  },
  {
   "cell_type": "code",
   "execution_count": null,
   "id": "a9217f59",
   "metadata": {},
   "outputs": [],
   "source": []
  }
 ],
 "metadata": {
  "kernelspec": {
   "display_name": "newenv37",
   "language": "python",
   "name": "newenv37"
  },
  "language_info": {
   "codemirror_mode": {
    "name": "ipython",
    "version": 3
   },
   "file_extension": ".py",
   "mimetype": "text/x-python",
   "name": "python",
   "nbconvert_exporter": "python",
   "pygments_lexer": "ipython3",
   "version": "3.7.11"
  }
 },
 "nbformat": 4,
 "nbformat_minor": 5
}
