{
 "cells": [
  {
   "cell_type": "markdown",
   "id": "3a1c2a3e",
   "metadata": {},
   "source": [
    "### Linear Regression Model for predicting Bike Availability: \n"
   ]
  },
  {
   "cell_type": "markdown",
   "id": "01fb6eea",
   "metadata": {},
   "source": [
    "- Here we will be implementing a linear regression model in order to predict the number of bikes available and the number of bike stands available at a give bike stand. \n",
    "- Linear regression is a statistical method for modeling relationships between a dependent variable with a given set of independent variables.\n",
    "- In our model the dependent variable will be number of bikes/bike stands and the independent variables will be time of day, day of the week, area, and weather.  "
   ]
  },
  {
   "cell_type": "code",
   "execution_count": 3,
   "id": "9387c631",
   "metadata": {},
   "outputs": [],
   "source": [
    "\n",
    "import numpy as np\n",
    "import matplotlib.pyplot as plt\n",
    "import pandas as pd\n",
    "from sqlalchemy import create_engine\n",
    "\n",
    "import pickle\n",
    "\n",
    "from sklearn.linear_model import LinearRegression\n"
   ]
  },
  {
   "cell_type": "markdown",
   "id": "72455356",
   "metadata": {},
   "source": [
    "### Connect to database:"
   ]
  },
  {
   "cell_type": "code",
   "execution_count": 4,
   "id": "8d278dfc",
   "metadata": {},
   "outputs": [],
   "source": [
    "URL = \"dublin-bikesdb.cmd8vuwgew1e.us-east-1.rds.amazonaws.com\"\n",
    "PORT = \"3306\"\n",
    "DB = \"dbikes\"\n",
    "USER = \"admin\"\n",
    "PASSWORD = \"Dbikes123\"\n"
   ]
  },
  {
   "cell_type": "markdown",
   "id": "ebabb331",
   "metadata": {},
   "source": [
    "### Weather Data "
   ]
  },
  {
   "cell_type": "code",
   "execution_count": 5,
   "id": "302017fc",
   "metadata": {},
   "outputs": [
    {
     "name": "stdout",
     "output_type": "stream",
     "text": [
      "2022-03-18 19:59:28,365 INFO sqlalchemy.engine.Engine SHOW VARIABLES LIKE 'sql_mode'\n",
      "2022-03-18 19:59:28,365 INFO sqlalchemy.engine.Engine [raw sql] ()\n",
      "2022-03-18 19:59:28,513 INFO sqlalchemy.engine.Engine SHOW VARIABLES LIKE 'lower_case_table_names'\n",
      "2022-03-18 19:59:28,514 INFO sqlalchemy.engine.Engine [generated in 0.00134s] ()\n",
      "2022-03-18 19:59:28,751 INFO sqlalchemy.engine.Engine SELECT DATABASE()\n",
      "2022-03-18 19:59:28,752 INFO sqlalchemy.engine.Engine [raw sql] ()\n",
      "2022-03-18 19:59:29,105 INFO sqlalchemy.engine.Engine \n",
      "    SELECT weather.id, weather.description1, weather.temperature, weather.humidity, weather.windspeed FROM weather;\n",
      "    \n",
      "2022-03-18 19:59:29,105 INFO sqlalchemy.engine.Engine [raw sql] ()\n"
     ]
    }
   ],
   "source": [
    "def weather():\n",
    "    engine = create_engine(\"mysql+mysqldb://{}:{}@{}:{}/{}\".format(USER, PASSWORD, URL, PORT, DB), echo=True)\n",
    "    sql_query_weather= \"\"\"\n",
    "    SELECT weather.id, weather.description1, weather.temperature, weather.humidity, weather.windspeed FROM weather;\n",
    "    \"\"\"\n",
    "    df_weather = pd.read_sql_query(sql_query_weather, engine)\n",
    "\n",
    "    return df_weather\n",
    "\n",
    "\n",
    "df_weather = weather()"
   ]
  },
  {
   "cell_type": "code",
   "execution_count": 6,
   "id": "f0ffeae3",
   "metadata": {},
   "outputs": [
    {
     "data": {
      "text/html": [
       "<div>\n",
       "<style scoped>\n",
       "    .dataframe tbody tr th:only-of-type {\n",
       "        vertical-align: middle;\n",
       "    }\n",
       "\n",
       "    .dataframe tbody tr th {\n",
       "        vertical-align: top;\n",
       "    }\n",
       "\n",
       "    .dataframe thead th {\n",
       "        text-align: right;\n",
       "    }\n",
       "</style>\n",
       "<table border=\"1\" class=\"dataframe\">\n",
       "  <thead>\n",
       "    <tr style=\"text-align: right;\">\n",
       "      <th></th>\n",
       "      <th>id</th>\n",
       "      <th>description1</th>\n",
       "      <th>temperature</th>\n",
       "      <th>humidity</th>\n",
       "      <th>windspeed</th>\n",
       "    </tr>\n",
       "  </thead>\n",
       "  <tbody>\n",
       "    <tr>\n",
       "      <th>0</th>\n",
       "      <td>803</td>\n",
       "      <td>broken clouds</td>\n",
       "      <td>281.82</td>\n",
       "      <td>77</td>\n",
       "      <td>6.69</td>\n",
       "    </tr>\n",
       "    <tr>\n",
       "      <th>1</th>\n",
       "      <td>803</td>\n",
       "      <td>broken clouds</td>\n",
       "      <td>281.88</td>\n",
       "      <td>77</td>\n",
       "      <td>6.69</td>\n",
       "    </tr>\n",
       "    <tr>\n",
       "      <th>2</th>\n",
       "      <td>803</td>\n",
       "      <td>broken clouds</td>\n",
       "      <td>281.82</td>\n",
       "      <td>77</td>\n",
       "      <td>6.69</td>\n",
       "    </tr>\n",
       "    <tr>\n",
       "      <th>3</th>\n",
       "      <td>803</td>\n",
       "      <td>broken clouds</td>\n",
       "      <td>281.72</td>\n",
       "      <td>78</td>\n",
       "      <td>6.69</td>\n",
       "    </tr>\n",
       "    <tr>\n",
       "      <th>4</th>\n",
       "      <td>803</td>\n",
       "      <td>broken clouds</td>\n",
       "      <td>281.72</td>\n",
       "      <td>78</td>\n",
       "      <td>6.69</td>\n",
       "    </tr>\n",
       "    <tr>\n",
       "      <th>...</th>\n",
       "      <td>...</td>\n",
       "      <td>...</td>\n",
       "      <td>...</td>\n",
       "      <td>...</td>\n",
       "      <td>...</td>\n",
       "    </tr>\n",
       "    <tr>\n",
       "      <th>1782</th>\n",
       "      <td>801</td>\n",
       "      <td>few clouds</td>\n",
       "      <td>283.28</td>\n",
       "      <td>74</td>\n",
       "      <td>5.14</td>\n",
       "    </tr>\n",
       "    <tr>\n",
       "      <th>1783</th>\n",
       "      <td>801</td>\n",
       "      <td>few clouds</td>\n",
       "      <td>283.28</td>\n",
       "      <td>74</td>\n",
       "      <td>5.14</td>\n",
       "    </tr>\n",
       "    <tr>\n",
       "      <th>1784</th>\n",
       "      <td>801</td>\n",
       "      <td>few clouds</td>\n",
       "      <td>283.28</td>\n",
       "      <td>74</td>\n",
       "      <td>5.14</td>\n",
       "    </tr>\n",
       "    <tr>\n",
       "      <th>1785</th>\n",
       "      <td>801</td>\n",
       "      <td>few clouds</td>\n",
       "      <td>282.99</td>\n",
       "      <td>76</td>\n",
       "      <td>5.14</td>\n",
       "    </tr>\n",
       "    <tr>\n",
       "      <th>1786</th>\n",
       "      <td>801</td>\n",
       "      <td>few clouds</td>\n",
       "      <td>282.99</td>\n",
       "      <td>76</td>\n",
       "      <td>5.14</td>\n",
       "    </tr>\n",
       "  </tbody>\n",
       "</table>\n",
       "<p>1787 rows × 5 columns</p>\n",
       "</div>"
      ],
      "text/plain": [
       "       id   description1  temperature  humidity  windspeed\n",
       "0     803  broken clouds       281.82        77       6.69\n",
       "1     803  broken clouds       281.88        77       6.69\n",
       "2     803  broken clouds       281.82        77       6.69\n",
       "3     803  broken clouds       281.72        78       6.69\n",
       "4     803  broken clouds       281.72        78       6.69\n",
       "...   ...            ...          ...       ...        ...\n",
       "1782  801     few clouds       283.28        74       5.14\n",
       "1783  801     few clouds       283.28        74       5.14\n",
       "1784  801     few clouds       283.28        74       5.14\n",
       "1785  801     few clouds       282.99        76       5.14\n",
       "1786  801     few clouds       282.99        76       5.14\n",
       "\n",
       "[1787 rows x 5 columns]"
      ]
     },
     "execution_count": 6,
     "metadata": {},
     "output_type": "execute_result"
    }
   ],
   "source": [
    "df_weather"
   ]
  },
  {
   "cell_type": "code",
   "execution_count": 7,
   "id": "75708f42",
   "metadata": {},
   "outputs": [
    {
     "data": {
      "text/plain": [
       "id                int64\n",
       "description1     object\n",
       "temperature     float64\n",
       "humidity          int64\n",
       "windspeed       float64\n",
       "dtype: object"
      ]
     },
     "execution_count": 7,
     "metadata": {},
     "output_type": "execute_result"
    }
   ],
   "source": [
    "df_weather.dtypes\n"
   ]
  },
  {
   "cell_type": "markdown",
   "id": "b2fc5d2a",
   "metadata": {},
   "source": [
    "### Availablity Data"
   ]
  },
  {
   "cell_type": "code",
   "execution_count": 8,
   "id": "b4795c59",
   "metadata": {},
   "outputs": [],
   "source": [
    "def availability():\n",
    "    engine = create_engine(\"mysql+mysqldb://{}:{}@{}:{}/{}\".format(USER, PASSWORD, URL, PORT, DB), echo=True)\n",
    "    df_avail = pd.read_sql_table(\"availability\", engine)\n",
    "    return df_avail"
   ]
  },
  {
   "cell_type": "code",
   "execution_count": 9,
   "id": "3e25d947",
   "metadata": {},
   "outputs": [
    {
     "name": "stdout",
     "output_type": "stream",
     "text": [
      "2022-03-18 19:59:46,114 INFO sqlalchemy.engine.Engine SHOW VARIABLES LIKE 'sql_mode'\n",
      "2022-03-18 19:59:46,114 INFO sqlalchemy.engine.Engine [raw sql] ()\n",
      "2022-03-18 19:59:46,236 INFO sqlalchemy.engine.Engine SHOW VARIABLES LIKE 'lower_case_table_names'\n",
      "2022-03-18 19:59:46,236 INFO sqlalchemy.engine.Engine [generated in 0.00321s] ()\n",
      "2022-03-18 19:59:46,484 INFO sqlalchemy.engine.Engine SELECT DATABASE()\n",
      "2022-03-18 19:59:46,484 INFO sqlalchemy.engine.Engine [raw sql] ()\n",
      "2022-03-18 19:59:46,953 INFO sqlalchemy.engine.Engine SHOW FULL TABLES FROM `dbikes`\n",
      "2022-03-18 19:59:46,953 INFO sqlalchemy.engine.Engine [raw sql] ()\n",
      "2022-03-18 19:59:47,085 INFO sqlalchemy.engine.Engine SHOW FULL TABLES FROM `dbikes`\n",
      "2022-03-18 19:59:47,085 INFO sqlalchemy.engine.Engine [raw sql] ()\n",
      "2022-03-18 19:59:47,234 INFO sqlalchemy.engine.Engine SHOW CREATE TABLE `availability`\n",
      "2022-03-18 19:59:47,234 INFO sqlalchemy.engine.Engine [raw sql] ()\n",
      "2022-03-18 19:59:47,508 INFO sqlalchemy.engine.Engine SELECT availability.number, availability.available_bike_stands, availability.available_bikes, availability.last_update \n",
      "FROM availability\n",
      "2022-03-18 19:59:47,508 INFO sqlalchemy.engine.Engine [generated in 0.00308s] ()\n"
     ]
    }
   ],
   "source": [
    "df_avail = availability()"
   ]
  },
  {
   "cell_type": "code",
   "execution_count": 10,
   "id": "fdd945fc",
   "metadata": {},
   "outputs": [
    {
     "data": {
      "text/html": [
       "<div>\n",
       "<style scoped>\n",
       "    .dataframe tbody tr th:only-of-type {\n",
       "        vertical-align: middle;\n",
       "    }\n",
       "\n",
       "    .dataframe tbody tr th {\n",
       "        vertical-align: top;\n",
       "    }\n",
       "\n",
       "    .dataframe thead th {\n",
       "        text-align: right;\n",
       "    }\n",
       "</style>\n",
       "<table border=\"1\" class=\"dataframe\">\n",
       "  <thead>\n",
       "    <tr style=\"text-align: right;\">\n",
       "      <th></th>\n",
       "      <th>number</th>\n",
       "      <th>available_bike_stands</th>\n",
       "      <th>available_bikes</th>\n",
       "      <th>last_update</th>\n",
       "    </tr>\n",
       "  </thead>\n",
       "  <tbody>\n",
       "    <tr>\n",
       "      <th>0</th>\n",
       "      <td>42</td>\n",
       "      <td>16</td>\n",
       "      <td>14</td>\n",
       "      <td>2022-02-23 19:50:20</td>\n",
       "    </tr>\n",
       "    <tr>\n",
       "      <th>1</th>\n",
       "      <td>30</td>\n",
       "      <td>0</td>\n",
       "      <td>20</td>\n",
       "      <td>2022-02-23 19:41:25</td>\n",
       "    </tr>\n",
       "    <tr>\n",
       "      <th>2</th>\n",
       "      <td>54</td>\n",
       "      <td>11</td>\n",
       "      <td>22</td>\n",
       "      <td>2022-02-23 19:48:38</td>\n",
       "    </tr>\n",
       "    <tr>\n",
       "      <th>3</th>\n",
       "      <td>108</td>\n",
       "      <td>16</td>\n",
       "      <td>19</td>\n",
       "      <td>2022-02-23 19:51:13</td>\n",
       "    </tr>\n",
       "    <tr>\n",
       "      <th>4</th>\n",
       "      <td>56</td>\n",
       "      <td>2</td>\n",
       "      <td>38</td>\n",
       "      <td>2022-02-23 19:45:20</td>\n",
       "    </tr>\n",
       "    <tr>\n",
       "      <th>...</th>\n",
       "      <td>...</td>\n",
       "      <td>...</td>\n",
       "      <td>...</td>\n",
       "      <td>...</td>\n",
       "    </tr>\n",
       "    <tr>\n",
       "      <th>716352</th>\n",
       "      <td>39</td>\n",
       "      <td>1</td>\n",
       "      <td>19</td>\n",
       "      <td>2022-03-18 19:53:45</td>\n",
       "    </tr>\n",
       "    <tr>\n",
       "      <th>716353</th>\n",
       "      <td>83</td>\n",
       "      <td>18</td>\n",
       "      <td>22</td>\n",
       "      <td>2022-03-18 19:48:06</td>\n",
       "    </tr>\n",
       "    <tr>\n",
       "      <th>716354</th>\n",
       "      <td>92</td>\n",
       "      <td>33</td>\n",
       "      <td>7</td>\n",
       "      <td>2022-03-18 19:51:00</td>\n",
       "    </tr>\n",
       "    <tr>\n",
       "      <th>716355</th>\n",
       "      <td>21</td>\n",
       "      <td>27</td>\n",
       "      <td>3</td>\n",
       "      <td>2022-03-18 19:53:21</td>\n",
       "    </tr>\n",
       "    <tr>\n",
       "      <th>716356</th>\n",
       "      <td>88</td>\n",
       "      <td>17</td>\n",
       "      <td>13</td>\n",
       "      <td>2022-03-18 19:46:23</td>\n",
       "    </tr>\n",
       "  </tbody>\n",
       "</table>\n",
       "<p>716357 rows × 4 columns</p>\n",
       "</div>"
      ],
      "text/plain": [
       "        number  available_bike_stands  available_bikes         last_update\n",
       "0           42                     16               14 2022-02-23 19:50:20\n",
       "1           30                      0               20 2022-02-23 19:41:25\n",
       "2           54                     11               22 2022-02-23 19:48:38\n",
       "3          108                     16               19 2022-02-23 19:51:13\n",
       "4           56                      2               38 2022-02-23 19:45:20\n",
       "...        ...                    ...              ...                 ...\n",
       "716352      39                      1               19 2022-03-18 19:53:45\n",
       "716353      83                     18               22 2022-03-18 19:48:06\n",
       "716354      92                     33                7 2022-03-18 19:51:00\n",
       "716355      21                     27                3 2022-03-18 19:53:21\n",
       "716356      88                     17               13 2022-03-18 19:46:23\n",
       "\n",
       "[716357 rows x 4 columns]"
      ]
     },
     "execution_count": 10,
     "metadata": {},
     "output_type": "execute_result"
    }
   ],
   "source": [
    "df_avail"
   ]
  },
  {
   "cell_type": "code",
   "execution_count": 11,
   "id": "e218b68c",
   "metadata": {},
   "outputs": [
    {
     "data": {
      "text/plain": [
       "number                            int64\n",
       "available_bike_stands             int64\n",
       "available_bikes                   int64\n",
       "last_update              datetime64[ns]\n",
       "dtype: object"
      ]
     },
     "execution_count": 11,
     "metadata": {},
     "output_type": "execute_result"
    }
   ],
   "source": [
    "df_avail.dtypes\n"
   ]
  },
  {
   "cell_type": "code",
   "execution_count": 15,
   "id": "feb645aa",
   "metadata": {},
   "outputs": [],
   "source": [
    "df_avail[\"number\"] = df_avail[\"number\"].astype('category')  \n"
   ]
  },
  {
   "cell_type": "code",
   "execution_count": 12,
   "id": "b9107633",
   "metadata": {},
   "outputs": [
    {
     "data": {
      "text/plain": [
       "(716357, 4)"
      ]
     },
     "execution_count": 12,
     "metadata": {},
     "output_type": "execute_result"
    }
   ],
   "source": [
    "df_avail.shape"
   ]
  },
  {
   "cell_type": "code",
   "execution_count": 16,
   "id": "6d4c1029",
   "metadata": {},
   "outputs": [
    {
     "data": {
      "text/html": [
       "<div>\n",
       "<style scoped>\n",
       "    .dataframe tbody tr th:only-of-type {\n",
       "        vertical-align: middle;\n",
       "    }\n",
       "\n",
       "    .dataframe tbody tr th {\n",
       "        vertical-align: top;\n",
       "    }\n",
       "\n",
       "    .dataframe thead th {\n",
       "        text-align: right;\n",
       "    }\n",
       "</style>\n",
       "<table border=\"1\" class=\"dataframe\">\n",
       "  <thead>\n",
       "    <tr style=\"text-align: right;\">\n",
       "      <th></th>\n",
       "      <th>count</th>\n",
       "      <th>mean</th>\n",
       "      <th>std</th>\n",
       "      <th>min</th>\n",
       "      <th>25%</th>\n",
       "      <th>50%</th>\n",
       "      <th>75%</th>\n",
       "      <th>max</th>\n",
       "    </tr>\n",
       "  </thead>\n",
       "  <tbody>\n",
       "    <tr>\n",
       "      <th>available_bike_stands</th>\n",
       "      <td>716357.0</td>\n",
       "      <td>12.682707</td>\n",
       "      <td>8.888243</td>\n",
       "      <td>0.0</td>\n",
       "      <td>5.0</td>\n",
       "      <td>12.0</td>\n",
       "      <td>19.0</td>\n",
       "      <td>40.0</td>\n",
       "    </tr>\n",
       "    <tr>\n",
       "      <th>available_bikes</th>\n",
       "      <td>716357.0</td>\n",
       "      <td>19.069475</td>\n",
       "      <td>10.437634</td>\n",
       "      <td>0.0</td>\n",
       "      <td>11.0</td>\n",
       "      <td>19.0</td>\n",
       "      <td>27.0</td>\n",
       "      <td>40.0</td>\n",
       "    </tr>\n",
       "  </tbody>\n",
       "</table>\n",
       "</div>"
      ],
      "text/plain": [
       "                          count       mean        std  min   25%   50%   75%  \\\n",
       "available_bike_stands  716357.0  12.682707   8.888243  0.0   5.0  12.0  19.0   \n",
       "available_bikes        716357.0  19.069475  10.437634  0.0  11.0  19.0  27.0   \n",
       "\n",
       "                        max  \n",
       "available_bike_stands  40.0  \n",
       "available_bikes        40.0  "
      ]
     },
     "execution_count": 16,
     "metadata": {},
     "output_type": "execute_result"
    }
   ],
   "source": [
    "df_avail.describe().T"
   ]
  },
  {
   "cell_type": "code",
   "execution_count": 17,
   "id": "342e013f",
   "metadata": {},
   "outputs": [
    {
     "data": {
      "text/plain": [
       "count     716357\n",
       "unique       110\n",
       "top           61\n",
       "freq        6514\n",
       "Name: number, dtype: int64"
      ]
     },
     "execution_count": 17,
     "metadata": {},
     "output_type": "execute_result"
    }
   ],
   "source": [
    "df_avail[\"number\"].describe().T"
   ]
  },
  {
   "cell_type": "markdown",
   "id": "fbe0c9f7",
   "metadata": {},
   "source": [
    "#### Combining the two data frames "
   ]
  },
  {
   "cell_type": "code",
   "execution_count": null,
   "id": "2050cc3c",
   "metadata": {},
   "outputs": [],
   "source": []
  }
 ],
 "metadata": {
  "kernelspec": {
   "display_name": "Python 3 (ipykernel)",
   "language": "python",
   "name": "python3"
  },
  "language_info": {
   "codemirror_mode": {
    "name": "ipython",
    "version": 3
   },
   "file_extension": ".py",
   "mimetype": "text/x-python",
   "name": "python",
   "nbconvert_exporter": "python",
   "pygments_lexer": "ipython3",
   "version": "3.9.7"
  }
 },
 "nbformat": 4,
 "nbformat_minor": 5
}
