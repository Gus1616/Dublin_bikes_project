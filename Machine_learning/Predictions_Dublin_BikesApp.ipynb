{
 "cells": [
  {
   "cell_type": "markdown",
   "id": "ff67c350",
   "metadata": {},
   "source": [
    "# Machine learning for predicitng Bike availability and Bike stand availabilty"
   ]
  },
  {
   "cell_type": "markdown",
   "id": "3a1c2a3e",
   "metadata": {},
   "source": [
    "##### Linear Regression Model for predicting Bike Availability: \n"
   ]
  },
  {
   "cell_type": "markdown",
   "id": "01fb6eea",
   "metadata": {},
   "source": [
    "- Here we will first be implementing a linear regression model in order to predict the number of bikes available and the number of bike stands available at a give bike stand. \n",
    "- Linear regression is a statistical method for modeling relationships between a dependent variable with a given set of independent variables.\n",
    "- In our model the dependent variable will be number of bikes/bike stands and the independent variables will be time of day, day of the week, area, and weather.  "
   ]
  },
  {
   "cell_type": "code",
   "execution_count": null,
   "id": "9387c631",
   "metadata": {},
   "outputs": [],
   "source": [
    "\n",
    "import numpy as np\n",
    "import matplotlib.pyplot as plt\n",
    "import pandas as pd\n",
    "from sqlalchemy import create_engine\n",
    "\n",
    "import pickle\n",
    "\n",
    "from sklearn.linear_model import LinearRegression\n",
    "from sklearn import linear_model\n",
    "from sklearn.model_selection import train_test_split\n",
    "from sklearn.metrics import r2_score\n",
    "from sklearn.metrics import mean_squared_error\n",
    "from sklearn.metrics import mean_absolute_error\n",
    "\n",
    "\n",
    "from sklearn.ensemble import RandomForestRegressor\n",
    "\n",
    "\n",
    "\n"
   ]
  },
  {
   "cell_type": "markdown",
   "id": "72455356",
   "metadata": {},
   "source": [
    "### Connect to database:"
   ]
  },
  {
   "cell_type": "code",
   "execution_count": null,
   "id": "8d278dfc",
   "metadata": {},
   "outputs": [],
   "source": [
    "URL = \"dublin-bikesdb.cmd8vuwgew1e.us-east-1.rds.amazonaws.com\"\n",
    "PORT = \"3306\"\n",
    "DB = \"dbikes\"\n",
    "USER = \"admin\"\n",
    "PASSWORD = \"Dbikes123\"\n"
   ]
  },
  {
   "cell_type": "markdown",
   "id": "ebabb331",
   "metadata": {},
   "source": [
    "### Weather Data "
   ]
  },
  {
   "cell_type": "code",
   "execution_count": null,
   "id": "302017fc",
   "metadata": {},
   "outputs": [],
   "source": [
    "def weather():\n",
    "    engine = create_engine(\"mysql+mysqldb://{}:{}@{}:{}/{}\".format(USER, PASSWORD, URL, PORT, DB), echo=True)\n",
    "    sql_query_weather= \"\"\"\n",
    "    SELECT weather.id, weather.description1, weather.temperature, weather.humidity, weather.windspeed, weather.sunset, weather.TIME FROM weather;\n",
    "    \"\"\"\n",
    "    df_weather = pd.read_sql_query(sql_query_weather, engine)\n",
    "\n",
    "    return df_weather\n",
    "\n",
    "\n",
    "df_weather = weather()"
   ]
  },
  {
   "cell_type": "code",
   "execution_count": null,
   "id": "f0ffeae3",
   "metadata": {},
   "outputs": [],
   "source": [
    "df_weather"
   ]
  },
  {
   "cell_type": "code",
   "execution_count": null,
   "id": "f7b3bd62",
   "metadata": {},
   "outputs": [],
   "source": [
    "df_weather['just_date'] = df_weather['sunset'].dt.date\n",
    "df_weather"
   ]
  },
  {
   "cell_type": "code",
   "execution_count": null,
   "id": "75708f42",
   "metadata": {},
   "outputs": [],
   "source": [
    "df_weather.dtypes\n"
   ]
  },
  {
   "cell_type": "markdown",
   "id": "b2fc5d2a",
   "metadata": {},
   "source": [
    "### Availablity Data"
   ]
  },
  {
   "cell_type": "code",
   "execution_count": null,
   "id": "b4795c59",
   "metadata": {},
   "outputs": [],
   "source": [
    "def availability():\n",
    "    engine = create_engine(\"mysql+mysqldb://{}:{}@{}:{}/{}\".format(USER, PASSWORD, URL, PORT, DB), echo=True)\n",
    "    df_avail = pd.read_sql_table(\"availability\", engine)\n",
    "    return df_avail"
   ]
  },
  {
   "cell_type": "code",
   "execution_count": null,
   "id": "3e25d947",
   "metadata": {},
   "outputs": [],
   "source": [
    "df_avail = availability()"
   ]
  },
  {
   "cell_type": "code",
   "execution_count": null,
   "id": "fdd945fc",
   "metadata": {
    "scrolled": true
   },
   "outputs": [],
   "source": [
    "df_avail"
   ]
  },
  {
   "cell_type": "code",
   "execution_count": null,
   "id": "a99cd73d",
   "metadata": {},
   "outputs": [],
   "source": [
    "df_avail['day'] = df_avail['last_update'].dt.day_of_week\n",
    "df_avail['hour'] = df_avail['last_update'].dt.hour\n",
    "df_avail['just_date'] = df_avail['last_update'].dt.date\n",
    "\n",
    "\n"
   ]
  },
  {
   "cell_type": "code",
   "execution_count": null,
   "id": "8f015a42",
   "metadata": {},
   "outputs": [],
   "source": [
    "df_avail"
   ]
  },
  {
   "cell_type": "code",
   "execution_count": null,
   "id": "e7b2a757",
   "metadata": {},
   "outputs": [],
   "source": [
    "df_avail.corr()"
   ]
  },
  {
   "cell_type": "code",
   "execution_count": null,
   "id": "9991acd7",
   "metadata": {},
   "outputs": [],
   "source": [
    "df_avail.groupby(['day']).mean()"
   ]
  },
  {
   "cell_type": "code",
   "execution_count": null,
   "id": "e218b68c",
   "metadata": {},
   "outputs": [],
   "source": [
    "df_avail.dtypes\n"
   ]
  },
  {
   "cell_type": "code",
   "execution_count": null,
   "id": "feb645aa",
   "metadata": {},
   "outputs": [],
   "source": [
    "df_avail[\"number\"] = df_avail[\"number\"].astype('category')  \n"
   ]
  },
  {
   "cell_type": "code",
   "execution_count": null,
   "id": "b9107633",
   "metadata": {},
   "outputs": [],
   "source": [
    "df_avail.shape"
   ]
  },
  {
   "cell_type": "code",
   "execution_count": null,
   "id": "6d4c1029",
   "metadata": {},
   "outputs": [],
   "source": [
    "df_avail.describe().T"
   ]
  },
  {
   "cell_type": "markdown",
   "id": "aa9b3939",
   "metadata": {},
   "source": [
    "### why is there 111 stations there should only 110?"
   ]
  },
  {
   "cell_type": "code",
   "execution_count": null,
   "id": "f165e5a0",
   "metadata": {},
   "outputs": [],
   "source": [
    "df_avail[\"number\"].describe().T"
   ]
  },
  {
   "cell_type": "markdown",
   "id": "f06e64c7",
   "metadata": {},
   "source": [
    "### Removing illogical data from dataset"
   ]
  },
  {
   "cell_type": "code",
   "execution_count": null,
   "id": "e7ddaff2",
   "metadata": {},
   "outputs": [],
   "source": [
    "df_avail.loc[df_avail['number']==507]\n"
   ]
  },
  {
   "cell_type": "code",
   "execution_count": null,
   "id": "6db99eee",
   "metadata": {},
   "outputs": [],
   "source": [
    "df_avail = df_avail[df_avail.number != 507]\n"
   ]
  },
  {
   "cell_type": "code",
   "execution_count": null,
   "id": "342e013f",
   "metadata": {},
   "outputs": [],
   "source": [
    "df_avail[\"number\"].describe().T"
   ]
  },
  {
   "cell_type": "markdown",
   "id": "fbe0c9f7",
   "metadata": {},
   "source": [
    "#### Attempt at combining the two data frames "
   ]
  },
  {
   "cell_type": "code",
   "execution_count": null,
   "id": "2050cc3c",
   "metadata": {},
   "outputs": [],
   "source": [
    "# df_combine= df_avail.merge(df_weather,join='inner', on=['just_date'])\n",
    "\n",
    "df_combine = pd.merge(df_avail, df_weather, on='just_date', how=\"outer\")\n",
    "\n",
    "# df_weather = df_weather.just_date.map(df_avail.set_index('just_date')\n",
    "                                      \n",
    "# pd.merge_asof(df_weather, df_avail, left_on='just_date', right_on='just_date')\n",
    "\n",
    "\n",
    "# df_combine= df_avail.merge(df_weather,on=['just_date'])\n",
    "\n",
    "# inner_merged = pd.concat([df_avail, df_weather],on=['just_date'])\n",
    "\n",
    "# v = df1.merge(df2[['Date', 'exp']])\\\n",
    "#        .groupby(df1.columns.tolist())\\\n",
    "#        .exp\\\n",
    "#        .apply(pd.Series.tolist)\n"
   ]
  },
  {
   "cell_type": "code",
   "execution_count": null,
   "id": "e22731cf",
   "metadata": {},
   "outputs": [],
   "source": []
  },
  {
   "cell_type": "code",
   "execution_count": null,
   "id": "0ec0c482",
   "metadata": {},
   "outputs": [],
   "source": [
    "# df_weather"
   ]
  },
  {
   "cell_type": "code",
   "execution_count": null,
   "id": "fbb49046",
   "metadata": {},
   "outputs": [],
   "source": [
    "# df_combine\n",
    "# inner_merged"
   ]
  },
  {
   "cell_type": "code",
   "execution_count": null,
   "id": "67d4bcc4",
   "metadata": {},
   "outputs": [],
   "source": [
    "# df_combine.tail(40)"
   ]
  },
  {
   "cell_type": "markdown",
   "id": "7799d82e",
   "metadata": {},
   "source": [
    "### Looking at correlations"
   ]
  },
  {
   "cell_type": "code",
   "execution_count": null,
   "id": "c93da756",
   "metadata": {},
   "outputs": [],
   "source": [
    "# df_combine.corr()"
   ]
  },
  {
   "cell_type": "code",
   "execution_count": null,
   "id": "ac61c333",
   "metadata": {},
   "outputs": [],
   "source": [
    "df_avail.head(5)"
   ]
  },
  {
   "cell_type": "code",
   "execution_count": null,
   "id": "e3aa0c93",
   "metadata": {},
   "outputs": [],
   "source": [
    "df_avail.tail(5)"
   ]
  },
  {
   "cell_type": "code",
   "execution_count": null,
   "id": "726f4bab",
   "metadata": {},
   "outputs": [],
   "source": [
    "df_avail.shape"
   ]
  },
  {
   "cell_type": "markdown",
   "id": "cc8bd585",
   "metadata": {},
   "source": [
    "### Training Model for available bikes "
   ]
  },
  {
   "cell_type": "code",
   "execution_count": null,
   "id": "4f9d9074",
   "metadata": {},
   "outputs": [],
   "source": [
    "train_feature = [\"day\",\"hour\",\"number\"]\n",
    "target_feature1 = ['available_bikes']\n",
    "\n",
    "train = df_avail[train_feature]\n",
    "target = df_avail[target_feature1]\n",
    "Xtrain,Xtest,Ytrain,Ytest = train_test_split(train,target,test_size=0.3)\n",
    "Xtrain"
   ]
  },
  {
   "cell_type": "code",
   "execution_count": null,
   "id": "d7469df4",
   "metadata": {},
   "outputs": [],
   "source": [
    "LR = LinearRegression()\n",
    "LR.fit(Xtrain,Ytrain)\n"
   ]
  },
  {
   "cell_type": "code",
   "execution_count": null,
   "id": "be5f5cd2",
   "metadata": {},
   "outputs": [],
   "source": []
  },
  {
   "cell_type": "code",
   "execution_count": null,
   "id": "265a4368",
   "metadata": {},
   "outputs": [],
   "source": [
    "LR.score(Xtest,Ytest)"
   ]
  },
  {
   "cell_type": "code",
   "execution_count": null,
   "id": "d7585184",
   "metadata": {},
   "outputs": [],
   "source": [
    "y_prediction =  LR.predict(Xtest)\n",
    "y_prediction"
   ]
  },
  {
   "cell_type": "markdown",
   "id": "9b1c3bc5",
   "metadata": {},
   "source": [
    "### Example of Prediction\n",
    "\n",
    "- on Monday, 2pm, station: 100"
   ]
  },
  {
   "cell_type": "code",
   "execution_count": null,
   "id": "39fa436a",
   "metadata": {},
   "outputs": [],
   "source": [
    "LR.predict([[1, 14, 100]])"
   ]
  },
  {
   "cell_type": "markdown",
   "id": "142e147d",
   "metadata": {},
   "source": [
    "### Metrics for model evaluation in linear regression:  "
   ]
  },
  {
   "cell_type": "markdown",
   "id": "54b267d3",
   "metadata": {},
   "source": [
    "#### R Square/Adjusted R Square"
   ]
  },
  {
   "cell_type": "code",
   "execution_count": null,
   "id": "0172988b",
   "metadata": {},
   "outputs": [],
   "source": [
    "score=r2_score(Ytest,y_prediction)\n",
    "print('r2 score is ',score)"
   ]
  },
  {
   "cell_type": "markdown",
   "id": "65fa16aa",
   "metadata": {},
   "source": [
    "#### Mean Square Error(MSE)"
   ]
  },
  {
   "cell_type": "code",
   "execution_count": null,
   "id": "96f64e07",
   "metadata": {},
   "outputs": [],
   "source": [
    "print('MSE is ',mean_squared_error(Ytest,y_prediction))"
   ]
  },
  {
   "cell_type": "markdown",
   "id": "6fb09cab",
   "metadata": {},
   "source": [
    "#### Mean Absolute Error"
   ]
  },
  {
   "cell_type": "code",
   "execution_count": null,
   "id": "c01a528b",
   "metadata": {},
   "outputs": [],
   "source": [
    "print('Mean Absolute Error is ',mean_absolute_error(Ytest,y_prediction))"
   ]
  },
  {
   "cell_type": "markdown",
   "id": "b85ff22b",
   "metadata": {},
   "source": [
    "## Using a Random Forest Model for bike availabilty"
   ]
  },
  {
   "cell_type": "code",
   "execution_count": null,
   "id": "240b892e",
   "metadata": {},
   "outputs": [],
   "source": [
    "random_forest = RandomForestRegressor(random_state=0)\n",
    "random_forest = random_forest.fit(Xtrain,Ytrain.available_bikes)\n",
    "score = random_forest.score(Xtest,Ytest.available_bikes)\n",
    "score"
   ]
  },
  {
   "cell_type": "code",
   "execution_count": null,
   "id": "6fd578d4",
   "metadata": {},
   "outputs": [],
   "source": [
    "y_prediction_RF =  random_forest.predict(Xtest)\n",
    "y_prediction_RF"
   ]
  },
  {
   "cell_type": "markdown",
   "id": "27aa3edd",
   "metadata": {},
   "source": [
    "### Metrics for model evaluation in random forrest:  "
   ]
  },
  {
   "cell_type": "markdown",
   "id": "80cd5216",
   "metadata": {},
   "source": [
    "#### R squared"
   ]
  },
  {
   "cell_type": "code",
   "execution_count": null,
   "id": "529357cb",
   "metadata": {},
   "outputs": [],
   "source": [
    "score=r2_score(Ytest,y_prediction_RF)\n",
    "print('r2 score is ',score)"
   ]
  },
  {
   "cell_type": "markdown",
   "id": "e25590f8",
   "metadata": {},
   "source": [
    "#### Mean squared error"
   ]
  },
  {
   "cell_type": "code",
   "execution_count": null,
   "id": "4c1b6cad",
   "metadata": {},
   "outputs": [],
   "source": [
    "print('MSE is ',mean_squared_error(Ytest,y_prediction_RF))"
   ]
  },
  {
   "cell_type": "markdown",
   "id": "091e1da7",
   "metadata": {},
   "source": [
    "#### Mean absolute error"
   ]
  },
  {
   "cell_type": "code",
   "execution_count": null,
   "id": "8058f32d",
   "metadata": {},
   "outputs": [],
   "source": [
    "print('Mean Absolute Error is ',mean_absolute_error(Ytest,y_prediction_RF))"
   ]
  },
  {
   "cell_type": "markdown",
   "id": "d5fa3727",
   "metadata": {},
   "source": [
    "### Example of prediction"
   ]
  },
  {
   "cell_type": "code",
   "execution_count": null,
   "id": "39ec1b37",
   "metadata": {},
   "outputs": [],
   "source": [
    "random_forest.predict([[1, 14, 100]])"
   ]
  },
  {
   "cell_type": "markdown",
   "id": "7436ea8e",
   "metadata": {},
   "source": [
    "### Feature Importance"
   ]
  },
  {
   "cell_type": "code",
   "execution_count": null,
   "id": "ab02f9c9",
   "metadata": {},
   "outputs": [],
   "source": [
    "random_forest.feature_importances_\n"
   ]
  },
  {
   "cell_type": "markdown",
   "id": "2b7ae123",
   "metadata": {},
   "source": [
    "### Saving model to disk with Pickle:"
   ]
  },
  {
   "cell_type": "code",
   "execution_count": null,
   "id": "36607076",
   "metadata": {},
   "outputs": [],
   "source": [
    "# pickle.dump(random_forest, open('model.pkl', 'wb'))"
   ]
  },
  {
   "cell_type": "code",
   "execution_count": null,
   "id": "2f1e680d",
   "metadata": {},
   "outputs": [],
   "source": [
    "#testing"
   ]
  },
  {
   "cell_type": "code",
   "execution_count": null,
   "id": "b3d2fc24",
   "metadata": {},
   "outputs": [],
   "source": [
    "# model= pickle.load(open('model.pkl', 'rb'))"
   ]
  },
  {
   "cell_type": "markdown",
   "id": "d0347a7d",
   "metadata": {},
   "source": [
    "### Making model for bike stand availabilty:"
   ]
  },
  {
   "cell_type": "code",
   "execution_count": null,
   "id": "4e111f2f",
   "metadata": {},
   "outputs": [],
   "source": [
    "target_feature2 = ['available_bike_stands']\n",
    "\n",
    "train = df_avail[train_feature]\n",
    "target = df_avail[target_feature2]\n",
    "Xtrain,Xtest,Ytrain,Ytest = train_test_split(train,target,test_size=0.3)\n",
    "Xtrain"
   ]
  },
  {
   "cell_type": "code",
   "execution_count": null,
   "id": "7f6b11e2",
   "metadata": {},
   "outputs": [],
   "source": [
    "random_forest_2 = RandomForestRegressor(random_state=1)\n",
    "random_forest_2 = random_forest_2.fit(Xtrain,Ytrain.available_bike_stands)\n",
    "score_2 = random_forest_2.score(Xtest,Ytest.available_bike_stands)\n",
    "score_2"
   ]
  },
  {
   "cell_type": "code",
   "execution_count": null,
   "id": "0693b6ae",
   "metadata": {},
   "outputs": [],
   "source": [
    "y_prediction_RF_2 =  random_forest_2.predict(Xtest)\n",
    "y_prediction_RF_2"
   ]
  },
  {
   "cell_type": "markdown",
   "id": "a3ddfa5c",
   "metadata": {},
   "source": [
    "### R2 score for RF bike stands"
   ]
  },
  {
   "cell_type": "code",
   "execution_count": null,
   "id": "190e9870",
   "metadata": {},
   "outputs": [],
   "source": [
    "score =r2_score(Ytest,y_prediction_RF_2)\n",
    "print('r2 score is ',score)"
   ]
  },
  {
   "cell_type": "markdown",
   "id": "92ef2bac",
   "metadata": {},
   "source": [
    "### Mean squared error for RF bike stands"
   ]
  },
  {
   "cell_type": "code",
   "execution_count": null,
   "id": "ba480d6b",
   "metadata": {},
   "outputs": [],
   "source": [
    "print('MSE is ',mean_squared_error(Ytest,y_prediction_RF_2))"
   ]
  },
  {
   "cell_type": "markdown",
   "id": "9335c6fe",
   "metadata": {},
   "source": [
    "### Mean absolute error for RF bike stands"
   ]
  },
  {
   "cell_type": "code",
   "execution_count": null,
   "id": "e401f1cf",
   "metadata": {},
   "outputs": [],
   "source": [
    "print('Mean Absolute Error is ',mean_absolute_error(Ytest,y_prediction_RF_2))"
   ]
  },
  {
   "cell_type": "markdown",
   "id": "b65c0b91",
   "metadata": {},
   "source": [
    "### Example prediction for RF bike stands"
   ]
  },
  {
   "cell_type": "code",
   "execution_count": null,
   "id": "a80a067b",
   "metadata": {},
   "outputs": [],
   "source": [
    "random_forest_2.predict([[1, 14, 100]])"
   ]
  },
  {
   "cell_type": "markdown",
   "id": "3a84277a",
   "metadata": {},
   "source": [
    "### Feature Importance"
   ]
  },
  {
   "cell_type": "code",
   "execution_count": null,
   "id": "2ead2671",
   "metadata": {},
   "outputs": [],
   "source": [
    "random_forest_2.feature_importances_\n"
   ]
  },
  {
   "cell_type": "markdown",
   "id": "adf16fb6",
   "metadata": {},
   "source": [
    "### Saving model to pickle file"
   ]
  },
  {
   "cell_type": "code",
   "execution_count": null,
   "id": "230b84e9",
   "metadata": {},
   "outputs": [],
   "source": [
    "# pickle.dump(random_forest_2, open('model_stands.pkl', 'wb'))"
   ]
  },
  {
   "cell_type": "code",
   "execution_count": null,
   "id": "eb171919",
   "metadata": {},
   "outputs": [],
   "source": []
  }
 ],
 "metadata": {
  "kernelspec": {
   "display_name": "Python 3 (ipykernel)",
   "language": "python",
   "name": "python3"
  },
  "language_info": {
   "codemirror_mode": {
    "name": "ipython",
    "version": 3
   },
   "file_extension": ".py",
   "mimetype": "text/x-python",
   "name": "python",
   "nbconvert_exporter": "python",
   "pygments_lexer": "ipython3",
   "version": "3.9.7"
  }
 },
 "nbformat": 4,
 "nbformat_minor": 5
}
