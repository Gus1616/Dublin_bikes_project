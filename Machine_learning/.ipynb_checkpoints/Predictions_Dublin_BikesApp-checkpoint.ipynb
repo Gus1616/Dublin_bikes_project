{
 "cells": [
  {
   "cell_type": "markdown",
   "id": "3a1c2a3e",
   "metadata": {},
   "source": [
    "### Linear Regression Model for predicting Bike Availability: \n"
   ]
  },
  {
   "cell_type": "markdown",
   "id": "01fb6eea",
   "metadata": {},
   "source": [
    "- Here we will be implementing a linear regression model in order to predict the number of bikes available and the number of bike stands available at a give bike stand. \n",
    "- Linear regression is a statistical method for modeling relationships between a dependent variable with a given set of independent variables.\n",
    "- In our model the dependent variable will be number of bikes/bike stands and the independent variables will be time of day, day of the week, area, and weather.  "
   ]
  },
  {
   "cell_type": "code",
   "execution_count": 3,
   "id": "9387c631",
   "metadata": {},
   "outputs": [],
   "source": [
    "\n",
    "import numpy as np\n",
    "import matplotlib.pyplot as plt\n",
    "import pandas as pd\n",
    "from sqlalchemy import create_engine\n",
    "\n",
    "import pickle\n",
    "\n",
    "from sklearn.linear_model import LinearRegression\n"
   ]
  },
  {
   "cell_type": "markdown",
   "id": "72455356",
   "metadata": {},
   "source": [
    "### Connect to database:"
   ]
  },
  {
   "cell_type": "code",
   "execution_count": 4,
   "id": "8d278dfc",
   "metadata": {},
   "outputs": [],
   "source": [
    "URL = \"dublin-bikesdb.cmd8vuwgew1e.us-east-1.rds.amazonaws.com\"\n",
    "PORT = \"3306\"\n",
    "DB = \"dbikes\"\n",
    "USER = \"admin\"\n",
    "PASSWORD = \"Dbikes123\"\n"
   ]
  },
  {
   "cell_type": "markdown",
   "id": "ebabb331",
   "metadata": {},
   "source": [
    "### Weather Data "
   ]
  },
  {
   "cell_type": "code",
   "execution_count": 19,
   "id": "302017fc",
   "metadata": {},
   "outputs": [
    {
     "name": "stdout",
     "output_type": "stream",
     "text": [
      "2022-03-18 15:30:35,263 INFO sqlalchemy.engine.Engine SHOW VARIABLES LIKE 'sql_mode'\n",
      "2022-03-18 15:30:35,264 INFO sqlalchemy.engine.Engine [raw sql] ()\n",
      "2022-03-18 15:30:35,375 INFO sqlalchemy.engine.Engine SHOW VARIABLES LIKE 'lower_case_table_names'\n",
      "2022-03-18 15:30:35,375 INFO sqlalchemy.engine.Engine [generated in 0.00248s] ()\n",
      "2022-03-18 15:30:35,618 INFO sqlalchemy.engine.Engine SELECT DATABASE()\n",
      "2022-03-18 15:30:35,619 INFO sqlalchemy.engine.Engine [raw sql] ()\n",
      "2022-03-18 15:30:35,953 INFO sqlalchemy.engine.Engine \n",
      "    SELECT weather.id, weather.description1, weather.temperature, weather.humidity, weather.windspeed FROM weather;\n",
      "    \n",
      "2022-03-18 15:30:35,969 INFO sqlalchemy.engine.Engine [raw sql] ()\n"
     ]
    }
   ],
   "source": [
    "def weather():\n",
    "    engine = create_engine(\"mysql+mysqldb://{}:{}@{}:{}/{}\".format(USER, PASSWORD, URL, PORT, DB), echo=True)\n",
    "    sql_query_weather= \"\"\"\n",
    "    SELECT weather.id, weather.description1, weather.temperature, weather.humidity, weather.windspeed FROM weather;\n",
    "    \"\"\"\n",
    "    df_weather = pd.read_sql_query(sql_query_weather, engine)\n",
    "\n",
    "    return df_weather\n",
    "\n",
    "\n",
    "df_weather = weather()"
   ]
  },
  {
   "cell_type": "code",
   "execution_count": 20,
   "id": "f0ffeae3",
   "metadata": {},
   "outputs": [
    {
     "data": {
      "text/html": [
       "<div>\n",
       "<style scoped>\n",
       "    .dataframe tbody tr th:only-of-type {\n",
       "        vertical-align: middle;\n",
       "    }\n",
       "\n",
       "    .dataframe tbody tr th {\n",
       "        vertical-align: top;\n",
       "    }\n",
       "\n",
       "    .dataframe thead th {\n",
       "        text-align: right;\n",
       "    }\n",
       "</style>\n",
       "<table border=\"1\" class=\"dataframe\">\n",
       "  <thead>\n",
       "    <tr style=\"text-align: right;\">\n",
       "      <th></th>\n",
       "      <th>id</th>\n",
       "      <th>description1</th>\n",
       "      <th>temperature</th>\n",
       "      <th>humidity</th>\n",
       "      <th>windspeed</th>\n",
       "    </tr>\n",
       "  </thead>\n",
       "  <tbody>\n",
       "    <tr>\n",
       "      <th>0</th>\n",
       "      <td>803</td>\n",
       "      <td>broken clouds</td>\n",
       "      <td>281.82</td>\n",
       "      <td>77</td>\n",
       "      <td>6.69</td>\n",
       "    </tr>\n",
       "    <tr>\n",
       "      <th>1</th>\n",
       "      <td>803</td>\n",
       "      <td>broken clouds</td>\n",
       "      <td>281.88</td>\n",
       "      <td>77</td>\n",
       "      <td>6.69</td>\n",
       "    </tr>\n",
       "    <tr>\n",
       "      <th>2</th>\n",
       "      <td>803</td>\n",
       "      <td>broken clouds</td>\n",
       "      <td>281.82</td>\n",
       "      <td>77</td>\n",
       "      <td>6.69</td>\n",
       "    </tr>\n",
       "    <tr>\n",
       "      <th>3</th>\n",
       "      <td>803</td>\n",
       "      <td>broken clouds</td>\n",
       "      <td>281.72</td>\n",
       "      <td>78</td>\n",
       "      <td>6.69</td>\n",
       "    </tr>\n",
       "    <tr>\n",
       "      <th>4</th>\n",
       "      <td>803</td>\n",
       "      <td>broken clouds</td>\n",
       "      <td>281.72</td>\n",
       "      <td>78</td>\n",
       "      <td>6.69</td>\n",
       "    </tr>\n",
       "    <tr>\n",
       "      <th>...</th>\n",
       "      <td>...</td>\n",
       "      <td>...</td>\n",
       "      <td>...</td>\n",
       "      <td>...</td>\n",
       "      <td>...</td>\n",
       "    </tr>\n",
       "    <tr>\n",
       "      <th>1728</th>\n",
       "      <td>801</td>\n",
       "      <td>few clouds</td>\n",
       "      <td>286.35</td>\n",
       "      <td>72</td>\n",
       "      <td>7.20</td>\n",
       "    </tr>\n",
       "    <tr>\n",
       "      <th>1729</th>\n",
       "      <td>801</td>\n",
       "      <td>few clouds</td>\n",
       "      <td>286.29</td>\n",
       "      <td>72</td>\n",
       "      <td>7.20</td>\n",
       "    </tr>\n",
       "    <tr>\n",
       "      <th>1730</th>\n",
       "      <td>801</td>\n",
       "      <td>few clouds</td>\n",
       "      <td>286.30</td>\n",
       "      <td>71</td>\n",
       "      <td>6.71</td>\n",
       "    </tr>\n",
       "    <tr>\n",
       "      <th>1731</th>\n",
       "      <td>801</td>\n",
       "      <td>few clouds</td>\n",
       "      <td>286.30</td>\n",
       "      <td>71</td>\n",
       "      <td>6.71</td>\n",
       "    </tr>\n",
       "    <tr>\n",
       "      <th>1732</th>\n",
       "      <td>801</td>\n",
       "      <td>few clouds</td>\n",
       "      <td>286.23</td>\n",
       "      <td>71</td>\n",
       "      <td>6.71</td>\n",
       "    </tr>\n",
       "  </tbody>\n",
       "</table>\n",
       "<p>1733 rows × 5 columns</p>\n",
       "</div>"
      ],
      "text/plain": [
       "       id   description1  temperature  humidity  windspeed\n",
       "0     803  broken clouds       281.82        77       6.69\n",
       "1     803  broken clouds       281.88        77       6.69\n",
       "2     803  broken clouds       281.82        77       6.69\n",
       "3     803  broken clouds       281.72        78       6.69\n",
       "4     803  broken clouds       281.72        78       6.69\n",
       "...   ...            ...          ...       ...        ...\n",
       "1728  801     few clouds       286.35        72       7.20\n",
       "1729  801     few clouds       286.29        72       7.20\n",
       "1730  801     few clouds       286.30        71       6.71\n",
       "1731  801     few clouds       286.30        71       6.71\n",
       "1732  801     few clouds       286.23        71       6.71\n",
       "\n",
       "[1733 rows x 5 columns]"
      ]
     },
     "execution_count": 20,
     "metadata": {},
     "output_type": "execute_result"
    }
   ],
   "source": [
    "df_weather"
   ]
  },
  {
   "cell_type": "code",
   "execution_count": 21,
   "id": "75708f42",
   "metadata": {},
   "outputs": [
    {
     "data": {
      "text/plain": [
       "id                int64\n",
       "description1     object\n",
       "temperature     float64\n",
       "humidity          int64\n",
       "windspeed       float64\n",
       "dtype: object"
      ]
     },
     "execution_count": 21,
     "metadata": {},
     "output_type": "execute_result"
    }
   ],
   "source": [
    "df_weather.dtypes\n"
   ]
  },
  {
   "cell_type": "markdown",
   "id": "b2fc5d2a",
   "metadata": {},
   "source": [
    "### Availablity Data"
   ]
  },
  {
   "cell_type": "code",
   "execution_count": 7,
   "id": "b4795c59",
   "metadata": {},
   "outputs": [],
   "source": [
    "def availability():\n",
    "    engine = create_engine(\"mysql+mysqldb://{}:{}@{}:{}/{}\".format(USER, PASSWORD, URL, PORT, DB), echo=True)\n",
    "    df_avail = pd.read_sql_table(\"availability\", engine)\n",
    "    return df_avail"
   ]
  },
  {
   "cell_type": "code",
   "execution_count": 9,
   "id": "3e25d947",
   "metadata": {},
   "outputs": [
    {
     "name": "stdout",
     "output_type": "stream",
     "text": [
      "2022-03-18 14:27:23,170 INFO sqlalchemy.engine.Engine SHOW VARIABLES LIKE 'sql_mode'\n",
      "2022-03-18 14:27:23,194 INFO sqlalchemy.engine.Engine [raw sql] ()\n",
      "2022-03-18 14:27:23,325 INFO sqlalchemy.engine.Engine SHOW VARIABLES LIKE 'lower_case_table_names'\n",
      "2022-03-18 14:27:23,327 INFO sqlalchemy.engine.Engine [generated in 0.00197s] ()\n",
      "2022-03-18 14:27:23,568 INFO sqlalchemy.engine.Engine SELECT DATABASE()\n",
      "2022-03-18 14:27:23,568 INFO sqlalchemy.engine.Engine [raw sql] ()\n",
      "2022-03-18 14:27:24,042 INFO sqlalchemy.engine.Engine SHOW FULL TABLES FROM `dbikes`\n",
      "2022-03-18 14:27:24,042 INFO sqlalchemy.engine.Engine [raw sql] ()\n",
      "2022-03-18 14:27:24,166 INFO sqlalchemy.engine.Engine SHOW FULL TABLES FROM `dbikes`\n",
      "2022-03-18 14:27:24,166 INFO sqlalchemy.engine.Engine [raw sql] ()\n",
      "2022-03-18 14:27:24,314 INFO sqlalchemy.engine.Engine SHOW CREATE TABLE `availability`\n",
      "2022-03-18 14:27:24,330 INFO sqlalchemy.engine.Engine [raw sql] ()\n",
      "2022-03-18 14:27:24,574 INFO sqlalchemy.engine.Engine SELECT availability.number, availability.available_bike_stands, availability.available_bikes, availability.last_update \n",
      "FROM availability\n",
      "2022-03-18 14:27:24,574 INFO sqlalchemy.engine.Engine [generated in 0.00083s] ()\n"
     ]
    }
   ],
   "source": [
    "df_avail = availability()"
   ]
  },
  {
   "cell_type": "code",
   "execution_count": 10,
   "id": "fdd945fc",
   "metadata": {},
   "outputs": [
    {
     "data": {
      "text/html": [
       "<div>\n",
       "<style scoped>\n",
       "    .dataframe tbody tr th:only-of-type {\n",
       "        vertical-align: middle;\n",
       "    }\n",
       "\n",
       "    .dataframe tbody tr th {\n",
       "        vertical-align: top;\n",
       "    }\n",
       "\n",
       "    .dataframe thead th {\n",
       "        text-align: right;\n",
       "    }\n",
       "</style>\n",
       "<table border=\"1\" class=\"dataframe\">\n",
       "  <thead>\n",
       "    <tr style=\"text-align: right;\">\n",
       "      <th></th>\n",
       "      <th>number</th>\n",
       "      <th>available_bike_stands</th>\n",
       "      <th>available_bikes</th>\n",
       "      <th>last_update</th>\n",
       "    </tr>\n",
       "  </thead>\n",
       "  <tbody>\n",
       "    <tr>\n",
       "      <th>0</th>\n",
       "      <td>42</td>\n",
       "      <td>16</td>\n",
       "      <td>14</td>\n",
       "      <td>2022-02-23 19:50:20</td>\n",
       "    </tr>\n",
       "    <tr>\n",
       "      <th>1</th>\n",
       "      <td>30</td>\n",
       "      <td>0</td>\n",
       "      <td>20</td>\n",
       "      <td>2022-02-23 19:41:25</td>\n",
       "    </tr>\n",
       "    <tr>\n",
       "      <th>2</th>\n",
       "      <td>54</td>\n",
       "      <td>11</td>\n",
       "      <td>22</td>\n",
       "      <td>2022-02-23 19:48:38</td>\n",
       "    </tr>\n",
       "    <tr>\n",
       "      <th>3</th>\n",
       "      <td>108</td>\n",
       "      <td>16</td>\n",
       "      <td>19</td>\n",
       "      <td>2022-02-23 19:51:13</td>\n",
       "    </tr>\n",
       "    <tr>\n",
       "      <th>4</th>\n",
       "      <td>56</td>\n",
       "      <td>2</td>\n",
       "      <td>38</td>\n",
       "      <td>2022-02-23 19:45:20</td>\n",
       "    </tr>\n",
       "    <tr>\n",
       "      <th>...</th>\n",
       "      <td>...</td>\n",
       "      <td>...</td>\n",
       "      <td>...</td>\n",
       "      <td>...</td>\n",
       "    </tr>\n",
       "    <tr>\n",
       "      <th>709092</th>\n",
       "      <td>39</td>\n",
       "      <td>2</td>\n",
       "      <td>18</td>\n",
       "      <td>2022-03-18 14:24:00</td>\n",
       "    </tr>\n",
       "    <tr>\n",
       "      <th>709093</th>\n",
       "      <td>83</td>\n",
       "      <td>19</td>\n",
       "      <td>21</td>\n",
       "      <td>2022-03-18 14:19:09</td>\n",
       "    </tr>\n",
       "    <tr>\n",
       "      <th>709094</th>\n",
       "      <td>92</td>\n",
       "      <td>39</td>\n",
       "      <td>1</td>\n",
       "      <td>2022-03-18 14:23:07</td>\n",
       "    </tr>\n",
       "    <tr>\n",
       "      <th>709095</th>\n",
       "      <td>21</td>\n",
       "      <td>20</td>\n",
       "      <td>10</td>\n",
       "      <td>2022-03-18 14:22:40</td>\n",
       "    </tr>\n",
       "    <tr>\n",
       "      <th>709096</th>\n",
       "      <td>88</td>\n",
       "      <td>26</td>\n",
       "      <td>4</td>\n",
       "      <td>2022-03-18 14:17:29</td>\n",
       "    </tr>\n",
       "  </tbody>\n",
       "</table>\n",
       "<p>709097 rows × 4 columns</p>\n",
       "</div>"
      ],
      "text/plain": [
       "        number  available_bike_stands  available_bikes         last_update\n",
       "0           42                     16               14 2022-02-23 19:50:20\n",
       "1           30                      0               20 2022-02-23 19:41:25\n",
       "2           54                     11               22 2022-02-23 19:48:38\n",
       "3          108                     16               19 2022-02-23 19:51:13\n",
       "4           56                      2               38 2022-02-23 19:45:20\n",
       "...        ...                    ...              ...                 ...\n",
       "709092      39                      2               18 2022-03-18 14:24:00\n",
       "709093      83                     19               21 2022-03-18 14:19:09\n",
       "709094      92                     39                1 2022-03-18 14:23:07\n",
       "709095      21                     20               10 2022-03-18 14:22:40\n",
       "709096      88                     26                4 2022-03-18 14:17:29\n",
       "\n",
       "[709097 rows x 4 columns]"
      ]
     },
     "execution_count": 10,
     "metadata": {},
     "output_type": "execute_result"
    }
   ],
   "source": [
    "df_avail"
   ]
  },
  {
   "cell_type": "code",
   "execution_count": 11,
   "id": "e218b68c",
   "metadata": {},
   "outputs": [
    {
     "data": {
      "text/plain": [
       "number                            int64\n",
       "available_bike_stands             int64\n",
       "available_bikes                   int64\n",
       "last_update              datetime64[ns]\n",
       "dtype: object"
      ]
     },
     "execution_count": 11,
     "metadata": {},
     "output_type": "execute_result"
    }
   ],
   "source": [
    "df_avail.dtypes\n"
   ]
  },
  {
   "cell_type": "code",
   "execution_count": 12,
   "id": "b9107633",
   "metadata": {},
   "outputs": [
    {
     "data": {
      "text/plain": [
       "(709097, 4)"
      ]
     },
     "execution_count": 12,
     "metadata": {},
     "output_type": "execute_result"
    }
   ],
   "source": [
    "df_avail.shape"
   ]
  },
  {
   "cell_type": "code",
   "execution_count": 14,
   "id": "6d4c1029",
   "metadata": {},
   "outputs": [
    {
     "data": {
      "text/html": [
       "<div>\n",
       "<style scoped>\n",
       "    .dataframe tbody tr th:only-of-type {\n",
       "        vertical-align: middle;\n",
       "    }\n",
       "\n",
       "    .dataframe tbody tr th {\n",
       "        vertical-align: top;\n",
       "    }\n",
       "\n",
       "    .dataframe thead th {\n",
       "        text-align: right;\n",
       "    }\n",
       "</style>\n",
       "<table border=\"1\" class=\"dataframe\">\n",
       "  <thead>\n",
       "    <tr style=\"text-align: right;\">\n",
       "      <th></th>\n",
       "      <th>count</th>\n",
       "      <th>mean</th>\n",
       "      <th>std</th>\n",
       "      <th>min</th>\n",
       "      <th>25%</th>\n",
       "      <th>50%</th>\n",
       "      <th>75%</th>\n",
       "      <th>max</th>\n",
       "    </tr>\n",
       "  </thead>\n",
       "  <tbody>\n",
       "    <tr>\n",
       "      <th>number</th>\n",
       "      <td>709097.0</td>\n",
       "      <td>60.327091</td>\n",
       "      <td>33.710733</td>\n",
       "      <td>2.0</td>\n",
       "      <td>31.0</td>\n",
       "      <td>60.0</td>\n",
       "      <td>90.0</td>\n",
       "      <td>117.0</td>\n",
       "    </tr>\n",
       "    <tr>\n",
       "      <th>available_bike_stands</th>\n",
       "      <td>709097.0</td>\n",
       "      <td>12.689990</td>\n",
       "      <td>8.877794</td>\n",
       "      <td>0.0</td>\n",
       "      <td>5.0</td>\n",
       "      <td>12.0</td>\n",
       "      <td>19.0</td>\n",
       "      <td>40.0</td>\n",
       "    </tr>\n",
       "    <tr>\n",
       "      <th>available_bikes</th>\n",
       "      <td>709097.0</td>\n",
       "      <td>19.066116</td>\n",
       "      <td>10.421366</td>\n",
       "      <td>0.0</td>\n",
       "      <td>11.0</td>\n",
       "      <td>19.0</td>\n",
       "      <td>27.0</td>\n",
       "      <td>40.0</td>\n",
       "    </tr>\n",
       "  </tbody>\n",
       "</table>\n",
       "</div>"
      ],
      "text/plain": [
       "                          count       mean        std  min   25%   50%   75%  \\\n",
       "number                 709097.0  60.327091  33.710733  2.0  31.0  60.0  90.0   \n",
       "available_bike_stands  709097.0  12.689990   8.877794  0.0   5.0  12.0  19.0   \n",
       "available_bikes        709097.0  19.066116  10.421366  0.0  11.0  19.0  27.0   \n",
       "\n",
       "                         max  \n",
       "number                 117.0  \n",
       "available_bike_stands   40.0  \n",
       "available_bikes         40.0  "
      ]
     },
     "execution_count": 14,
     "metadata": {},
     "output_type": "execute_result"
    }
   ],
   "source": [
    "df_avail.describe().T"
   ]
  },
  {
   "cell_type": "code",
   "execution_count": null,
   "id": "342e013f",
   "metadata": {},
   "outputs": [],
   "source": []
  }
 ],
 "metadata": {
  "kernelspec": {
   "display_name": "Python 3 (ipykernel)",
   "language": "python",
   "name": "python3"
  },
  "language_info": {
   "codemirror_mode": {
    "name": "ipython",
    "version": 3
   },
   "file_extension": ".py",
   "mimetype": "text/x-python",
   "name": "python",
   "nbconvert_exporter": "python",
   "pygments_lexer": "ipython3",
   "version": "3.9.7"
  }
 },
 "nbformat": 4,
 "nbformat_minor": 5
}
