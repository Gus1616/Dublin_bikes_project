{
 "cells": [
  {
   "cell_type": "code",
   "execution_count": null,
   "metadata": {},
   "outputs": [],
   "source": [
    "import sqlalchemy as sqla\n",
    "from sqlalchemy import create_engine\n",
    "import traceback\n",
    "import glob\n",
    "import os\n",
    "from pprint import pprint\n",
    "import simplejson as json\n",
    "import requests\n",
    "import time\n",
    "from IPython.display import display"
   ]
  },
  {
   "cell_type": "code",
   "execution_count": null,
   "metadata": {},
   "outputs": [],
   "source": [
    "URI = \"dbikes2.cmd8vuwgew1e.us-east-1.rds.amazonaws.com\"\n",
    "PORT = \"3306\"\n",
    "DB = \"dbikes\"\n",
    "USER = \"admin\"\n",
    "PASSWORD = \"Dublin123\""
   ]
  },
  {
   "cell_type": "code",
   "execution_count": null,
   "metadata": {},
   "outputs": [],
   "source": [
    "engine = create_engine(\"mysql+mysqldb://{}:{}@{}:{}/{}\".format(USER, PASSWORD, URI, PORT, DB), echo=True)"
   ]
  },
  {
   "cell_type": "code",
   "execution_count": null,
   "metadata": {},
   "outputs": [],
   "source": [
    "sql = '''\n",
    "CREATE DATABASE IF NOT EXISTS dbikes;\n",
    "'''\n",
    "engine.execute(sql)"
   ]
  },
  {
   "cell_type": "code",
   "execution_count": null,
   "metadata": {},
   "outputs": [],
   "source": [
    "for res in engine.execute(\"SHow Variables;\"):\n",
    "    print(res)"
   ]
  },
  {
   "cell_type": "code",
   "execution_count": null,
   "metadata": {},
   "outputs": [],
   "source": [
    "sql2 = \"\"\"\n",
    "CREATE TABLE IF NOT EXISTS station (\n",
    "address VARCHAR(256),\n",
    "banking INTEGER,\n",
    "bike_stands INTEGER,\n",
    "bonus INTEGER,\n",
    "contract_name VARCHAR(256),\n",
    "name VARCHAR(256),\n",
    "number INTEGER,\n",
    "position_lat REAL,\n",
    "position_lng REAL,\n",
    "status VARCHAR(256),\n",
    ")\n",
    "\n",
    "\"\"\"\n",
    "try:\n",
    "    res = engine.execute(\"DROP TABLE IF EXISTS station\")\n",
    "    res = engine.execute(sql2)\n",
    "    print(res.fetchall())\n",
    "except Exception as e:\n",
    "    print(e)"
   ]
  },
  {
   "cell_type": "code",
   "execution_count": null,
   "metadata": {},
   "outputs": [],
   "source": [
    "sql3 = \"\"\"\n",
    "CREATE TABLE IF NOT EXISTS available (\n",
    "number INTEGER,\n",
    "available_bike_stands INTEGER,\n",
    "available_bikes INTEGER,\n",
    "status VARCHAR(256),\n",
    "last_update INTEGER\n",
    "\n",
    ")\n",
    "\n",
    "\"\"\"\n",
    "try:\n",
    "    res = engine.execute(sql3)\n",
    "    print(res.fetchall())\n",
    "except Exception as e:\n",
    "    print(e)"
   ]
  },
  {
   "cell_type": "code",
   "execution_count": null,
   "metadata": {},
   "outputs": [],
   "source": [
    "import requests\n",
    "r = requests.get(\"https://api.jcdecaux.com/vls/v1/stations?contract=dublin&apiKey=0d101d6645f441b34490f9530a0f91c869debe77\")\n",
    "print(r)\n",
    "r.json()"
   ]
  },
  {
   "cell_type": "code",
   "execution_count": null,
   "metadata": {},
   "outputs": [],
   "source": [
    "\n",
    "import traceback\n",
    "import datetime\n",
    "import time\n",
    "\n",
    "\n",
    "def write_to_file(text):\n",
    "    with open (\"data/bikes_{}\".format(now).replace(\" \", \"_\", \"w\")) as f:\n",
    "        f.write(r.text)\n",
    "\n",
    "def write_to_db(text):\n",
    "\n",
    "    def main():\n",
    "        while True:\n",
    "            try:\n",
    "                now = datetime.datetime.now()\n",
    "                r = requests.get(STATIONS_URI, params={\"apikey\":APIKEY, \"contract\": NAME })\n",
    "                print(r,now)\n",
    "                write_to_file(r.text)\n",
    "                write_to_db(r.text)\n",
    "                time.sleep(5*60)\n",
    "            except:\n",
    "                print(traceback.format_exc())\n",
    "                if engine is None:\n",
    "                    return"
   ]
  },
  {
   "cell_type": "code",
   "execution_count": null,
   "metadata": {},
   "outputs": [],
   "source": [
    "def stations_to_db(text):\n",
    "    stations = json.loads(text)\n",
    "    print(stations)\n",
    "    print(type(stations), len(stations))\n",
    "    for station in stations:\n",
    "        print(station)\n",
    "        vals = (station.get(\"address\"),int(station.get(\"banking\")),\n",
    "               station.get(\"bike_stands\"),(station.get(\"address\")),\n",
    "                station.get(\"contract_name\"),station.get(\"name\"),\n",
    "                station.get(\"number\"),station.get(\"position\").get(\"lat\"),\n",
    "               station.get(\"position\").get(\"lng\"), station.get(\"status\")\n",
    "               )\n",
    "        engine.execute(\"insert into station values (%s,%s,%s,%s,%s,%s,%s,%s,%s,%s)\",vals)\n",
    "        break\n",
    "    return\n",
    "stations_to_db(r.text)\n",
    "# abc"
   ]
  }
 ],
 "metadata": {
  "interpreter": {
   "hash": "d5dea15d4d3dc6786458e22d62e4ba2bd341ff2ef4845fb99d6d9876cbc85d3e"
  },
  "kernelspec": {
   "display_name": "Python 3.9.7 ('comp30830')",
   "language": "python",
   "name": "python3"
  },
  "language_info": {
   "codemirror_mode": {
    "name": "ipython",
    "version": 3
   },
   "file_extension": ".py",
   "mimetype": "text/x-python",
   "name": "python",
   "nbconvert_exporter": "python",
   "pygments_lexer": "ipython3",
   "version": "3.9.7"
  },
  "orig_nbformat": 4
 },
 "nbformat": 4,
 "nbformat_minor": 2
}
